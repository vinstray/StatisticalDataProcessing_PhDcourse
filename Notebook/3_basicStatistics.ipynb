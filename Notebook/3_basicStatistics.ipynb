{
 "cells": [
  {
   "cell_type": "markdown",
   "id": "1495e7c0-7857-47d7-ade8-7517d77acbf8",
   "metadata": {},
   "source": [
    "# Learn Basic Statistics\n",
    "numerical or statistical information mainly for evaluate precisions.\n",
    "\n",
    "Frequency and Counting for Categorical data\n",
    "Quartiles and meand for Quantitative data\n",
    "\n",
    "- summary()\n",
    "- describe()"
   ]
  },
  {
   "cell_type": "markdown",
   "id": "ef373c9f-0714-45a4-b859-37fed7e8b06b",
   "metadata": {},
   "source": [
    "## 1. summary() function allows to extract basic statistics from our datasets\n",
    "\n",
    "<img src=\"miscellanea/1_boxplot.jpg\" width=\"400\">"
   ]
  },
  {
   "cell_type": "code",
   "execution_count": 1,
   "id": "9d0bd18d-a204-4d23-98cc-24ab4bbd79c9",
   "metadata": {
    "tags": []
   },
   "outputs": [
    {
     "data": {
      "text/html": [
       "<style>\n",
       ".dl-inline {width: auto; margin:0; padding: 0}\n",
       ".dl-inline>dt, .dl-inline>dd {float: none; width: auto; display: inline-block}\n",
       ".dl-inline>dt::after {content: \":\\0020\"; padding-right: .5ex}\n",
       ".dl-inline>dt:not(:first-of-type) {padding-left: .5ex}\n",
       "</style><dl class=dl-inline><dt>setosa</dt><dd>50</dd><dt>versicolor</dt><dd>50</dd><dt>virginica</dt><dd>50</dd></dl>\n"
      ],
      "text/latex": [
       "\\begin{description*}\n",
       "\\item[setosa] 50\n",
       "\\item[versicolor] 50\n",
       "\\item[virginica] 50\n",
       "\\end{description*}\n"
      ],
      "text/markdown": [
       "setosa\n",
       ":   50versicolor\n",
       ":   50virginica\n",
       ":   50\n",
       "\n"
      ],
      "text/plain": [
       "    setosa versicolor  virginica \n",
       "        50         50         50 "
      ]
     },
     "metadata": {},
     "output_type": "display_data"
    },
    {
     "data": {
      "text/plain": [
       "   Min. 1st Qu.  Median    Mean 3rd Qu.    Max. \n",
       "  4.300   5.100   5.800   5.843   6.400   7.900 "
      ]
     },
     "metadata": {},
     "output_type": "display_data"
    },
    {
     "data": {
      "text/plain": [
       "  Sepal.Length    Sepal.Width     Petal.Length    Petal.Width   \n",
       " Min.   :4.300   Min.   :2.000   Min.   :1.000   Min.   :0.100  \n",
       " 1st Qu.:5.100   1st Qu.:2.800   1st Qu.:1.600   1st Qu.:0.300  \n",
       " Median :5.800   Median :3.000   Median :4.350   Median :1.300  \n",
       " Mean   :5.843   Mean   :3.057   Mean   :3.758   Mean   :1.199  \n",
       " 3rd Qu.:6.400   3rd Qu.:3.300   3rd Qu.:5.100   3rd Qu.:1.800  \n",
       " Max.   :7.900   Max.   :4.400   Max.   :6.900   Max.   :2.500  \n",
       "       Species  \n",
       " setosa    :50  \n",
       " versicolor:50  \n",
       " virginica :50  \n",
       "                \n",
       "                \n",
       "                "
      ]
     },
     "metadata": {},
     "output_type": "display_data"
    }
   ],
   "source": [
    "# SUMMARY() \n",
    "\n",
    "summary(iris$Species)       # Categorical variable\n",
    "summary(iris$Sepal.Length)  # Quantitative variable\n",
    "summary(iris)               # Entire data frame\n"
   ]
  },
  {
   "cell_type": "markdown",
   "id": "7522fd4d-5480-4176-9757-4b6bbae45d94",
   "metadata": {
    "tags": []
   },
   "source": [
    "## 2 describe()"
   ]
  },
  {
   "cell_type": "code",
   "execution_count": null,
   "id": "71f1fcb7-9c1e-4b2e-bb62-5e3fdea56db1",
   "metadata": {},
   "outputs": [],
   "source": []
  }
 ],
 "metadata": {
  "kernelspec": {
   "display_name": "R",
   "language": "R",
   "name": "ir"
  },
  "language_info": {
   "codemirror_mode": "r",
   "file_extension": ".r",
   "mimetype": "text/x-r-source",
   "name": "R",
   "pygments_lexer": "r",
   "version": "4.1.3"
  }
 },
 "nbformat": 4,
 "nbformat_minor": 5
}
