{
 "cells": [
  {
   "cell_type": "markdown",
   "id": "7435f20c",
   "metadata": {},
   "source": [
    "# one-way MANOVA\n",
    "\n",
    "In statistics, multivariate analysis of variance (MANOVA) is a procedure for comparing multivariate sample means (<a>\"https://en.wikipedia.org/wiki/Multivariate_analysis_of_variance\"</a>). As a multivariate procedure, it is used when there are two or more dependent variables, and is often followed by significance tests involving individual dependent variables separately. MANOVA is a generalized form of univariate analysis of variance (ANOVA), although, unlike univariate ANOVA, it uses the covariance between outcome variables in testing the statistical significance of the mean differences.\n",
    "\n",
    "<img src=\"miscellanea/6_ManovaAssumptionNull.jpg\" width=\"400\">"
   ]
  },
  {
   "cell_type": "markdown",
   "id": "0e529136",
   "metadata": {},
   "source": [
    "Load dataset: A set of three species with attributes like height and canopy volume"
   ]
  },
  {
   "cell_type": "code",
   "execution_count": 1,
   "id": "26178998",
   "metadata": {},
   "outputs": [
    {
     "name": "stderr",
     "output_type": "stream",
     "text": [
      "-- \u001b[1mAttaching packages\u001b[22m --------------------------------------- tidyverse 1.3.2 --\n",
      "\u001b[32mv\u001b[39m \u001b[34mggplot2\u001b[39m 3.4.0      \u001b[32mv\u001b[39m \u001b[34mpurrr  \u001b[39m 1.0.0 \n",
      "\u001b[32mv\u001b[39m \u001b[34mtibble \u001b[39m 3.1.8      \u001b[32mv\u001b[39m \u001b[34mdplyr  \u001b[39m 1.0.10\n",
      "\u001b[32mv\u001b[39m \u001b[34mtidyr  \u001b[39m 1.2.1      \u001b[32mv\u001b[39m \u001b[34mstringr\u001b[39m 1.5.0 \n",
      "\u001b[32mv\u001b[39m \u001b[34mreadr  \u001b[39m 2.1.3      \u001b[32mv\u001b[39m \u001b[34mforcats\u001b[39m 0.5.2 \n",
      "-- \u001b[1mConflicts\u001b[22m ------------------------------------------ tidyverse_conflicts() --\n",
      "\u001b[31mx\u001b[39m \u001b[34mdplyr\u001b[39m::\u001b[32mfilter()\u001b[39m masks \u001b[34mstats\u001b[39m::filter()\n",
      "\u001b[31mx\u001b[39m \u001b[34mdplyr\u001b[39m::\u001b[32mlag()\u001b[39m    masks \u001b[34mstats\u001b[39m::lag()\n",
      "\u001b[1mRows: \u001b[22m\u001b[34m40\u001b[39m \u001b[1mColumns: \u001b[22m\u001b[34m3\u001b[39m\n",
      "\u001b[36m--\u001b[39m \u001b[1mColumn specification\u001b[22m \u001b[36m--------------------------------------------------------\u001b[39m\n",
      "\u001b[1mDelimiter:\u001b[22m \",\"\n",
      "\u001b[31mchr\u001b[39m (1): plant_var\n",
      "\u001b[32mdbl\u001b[39m (2): height, canopy_vol\n",
      "\n",
      "\u001b[36mi\u001b[39m Use `spec()` to retrieve the full column specification for this data.\n",
      "\u001b[36mi\u001b[39m Specify the column types or set `show_col_types = FALSE` to quiet this message.\n"
     ]
    },
    {
     "data": {
      "text/html": [
       "<table class=\"dataframe\">\n",
       "<caption>A tibble: 6 × 3</caption>\n",
       "<thead>\n",
       "\t<tr><th scope=col>plant_var</th><th scope=col>height</th><th scope=col>canopy_vol</th></tr>\n",
       "\t<tr><th scope=col>&lt;chr&gt;</th><th scope=col>&lt;dbl&gt;</th><th scope=col>&lt;dbl&gt;</th></tr>\n",
       "</thead>\n",
       "<tbody>\n",
       "\t<tr><td>A</td><td>20</td><td>0.70</td></tr>\n",
       "\t<tr><td>A</td><td>22</td><td>0.80</td></tr>\n",
       "\t<tr><td>A</td><td>24</td><td>0.95</td></tr>\n",
       "\t<tr><td>A</td><td>18</td><td>0.60</td></tr>\n",
       "\t<tr><td>A</td><td>20</td><td>0.74</td></tr>\n",
       "\t<tr><td>A</td><td>20</td><td>0.76</td></tr>\n",
       "</tbody>\n",
       "</table>\n"
      ],
      "text/latex": [
       "A tibble: 6 × 3\n",
       "\\begin{tabular}{lll}\n",
       " plant\\_var & height & canopy\\_vol\\\\\n",
       " <chr> & <dbl> & <dbl>\\\\\n",
       "\\hline\n",
       "\t A & 20 & 0.70\\\\\n",
       "\t A & 22 & 0.80\\\\\n",
       "\t A & 24 & 0.95\\\\\n",
       "\t A & 18 & 0.60\\\\\n",
       "\t A & 20 & 0.74\\\\\n",
       "\t A & 20 & 0.76\\\\\n",
       "\\end{tabular}\n"
      ],
      "text/markdown": [
       "\n",
       "A tibble: 6 × 3\n",
       "\n",
       "| plant_var &lt;chr&gt; | height &lt;dbl&gt; | canopy_vol &lt;dbl&gt; |\n",
       "|---|---|---|\n",
       "| A | 20 | 0.70 |\n",
       "| A | 22 | 0.80 |\n",
       "| A | 24 | 0.95 |\n",
       "| A | 18 | 0.60 |\n",
       "| A | 20 | 0.74 |\n",
       "| A | 20 | 0.76 |\n",
       "\n"
      ],
      "text/plain": [
       "  plant_var height canopy_vol\n",
       "1 A         20     0.70      \n",
       "2 A         22     0.80      \n",
       "3 A         24     0.95      \n",
       "4 A         18     0.60      \n",
       "5 A         20     0.74      \n",
       "6 A         20     0.76      "
      ]
     },
     "metadata": {},
     "output_type": "display_data"
    }
   ],
   "source": [
    "library(tidyverse)\n",
    "df=read_csv(\"manova_data.csv\")\n",
    "head(df)"
   ]
  },
  {
   "cell_type": "markdown",
   "id": "e1c12ed3",
   "metadata": {},
   "source": [
    "Summary statistics and visualization of datasetPermalink\n",
    "Get summary statistics based on each dependent variable,\n",
    "\n",
    "- The \"df\" dataframe is passed as input to the pipe operator \"%>%\".\n",
    "\n",
    "- The \"group_by\" function groups the data by the \"plant_var\" column.\n",
    "\n",
    "- The \"summarise\" function calculates the number of observations \"n\", mean \"mean\", and standard deviation \"sd\" of the \"height\" column for each group defined by \"plant_var\".\n",
    "\n",
    "The pipe operator \"%>%\" takes the output of the expression on its left-hand side and passes it as the first argument to the function on its right-hand side. "
   ]
  },
  {
   "cell_type": "code",
   "execution_count": 2,
   "id": "f93b6e78",
   "metadata": {},
   "outputs": [
    {
     "data": {
      "text/html": [
       "<table class=\"dataframe\">\n",
       "<caption>A tibble: 4 × 4</caption>\n",
       "<thead>\n",
       "\t<tr><th scope=col>plant_var</th><th scope=col>n</th><th scope=col>mean</th><th scope=col>sd</th></tr>\n",
       "\t<tr><th scope=col>&lt;chr&gt;</th><th scope=col>&lt;int&gt;</th><th scope=col>&lt;dbl&gt;</th><th scope=col>&lt;dbl&gt;</th></tr>\n",
       "</thead>\n",
       "<tbody>\n",
       "\t<tr><td>A</td><td>10</td><td>18.90</td><td>2.923088</td></tr>\n",
       "\t<tr><td>B</td><td>10</td><td>16.54</td><td>1.920185</td></tr>\n",
       "\t<tr><td>C</td><td>10</td><td> 3.05</td><td>1.039498</td></tr>\n",
       "\t<tr><td>D</td><td>10</td><td> 9.35</td><td>2.106735</td></tr>\n",
       "</tbody>\n",
       "</table>\n"
      ],
      "text/latex": [
       "A tibble: 4 × 4\n",
       "\\begin{tabular}{llll}\n",
       " plant\\_var & n & mean & sd\\\\\n",
       " <chr> & <int> & <dbl> & <dbl>\\\\\n",
       "\\hline\n",
       "\t A & 10 & 18.90 & 2.923088\\\\\n",
       "\t B & 10 & 16.54 & 1.920185\\\\\n",
       "\t C & 10 &  3.05 & 1.039498\\\\\n",
       "\t D & 10 &  9.35 & 2.106735\\\\\n",
       "\\end{tabular}\n"
      ],
      "text/markdown": [
       "\n",
       "A tibble: 4 × 4\n",
       "\n",
       "| plant_var &lt;chr&gt; | n &lt;int&gt; | mean &lt;dbl&gt; | sd &lt;dbl&gt; |\n",
       "|---|---|---|---|\n",
       "| A | 10 | 18.90 | 2.923088 |\n",
       "| B | 10 | 16.54 | 1.920185 |\n",
       "| C | 10 |  3.05 | 1.039498 |\n",
       "| D | 10 |  9.35 | 2.106735 |\n",
       "\n"
      ],
      "text/plain": [
       "  plant_var n  mean  sd      \n",
       "1 A         10 18.90 2.923088\n",
       "2 B         10 16.54 1.920185\n",
       "3 C         10  3.05 1.039498\n",
       "4 D         10  9.35 2.106735"
      ]
     },
     "metadata": {},
     "output_type": "display_data"
    },
    {
     "data": {
      "text/html": [
       "<table class=\"dataframe\">\n",
       "<caption>A tibble: 4 × 4</caption>\n",
       "<thead>\n",
       "\t<tr><th scope=col>plant_var</th><th scope=col>n</th><th scope=col>mean</th><th scope=col>sd</th></tr>\n",
       "\t<tr><th scope=col>&lt;chr&gt;</th><th scope=col>&lt;int&gt;</th><th scope=col>&lt;dbl&gt;</th><th scope=col>&lt;dbl&gt;</th></tr>\n",
       "</thead>\n",
       "<tbody>\n",
       "\t<tr><td>A</td><td>10</td><td>0.784</td><td>0.12130769</td></tr>\n",
       "\t<tr><td>B</td><td>10</td><td>0.608</td><td>0.09681598</td></tr>\n",
       "\t<tr><td>C</td><td>10</td><td>0.272</td><td>0.14327906</td></tr>\n",
       "\t<tr><td>D</td><td>10</td><td>0.474</td><td>0.09453982</td></tr>\n",
       "</tbody>\n",
       "</table>\n"
      ],
      "text/latex": [
       "A tibble: 4 × 4\n",
       "\\begin{tabular}{llll}\n",
       " plant\\_var & n & mean & sd\\\\\n",
       " <chr> & <int> & <dbl> & <dbl>\\\\\n",
       "\\hline\n",
       "\t A & 10 & 0.784 & 0.12130769\\\\\n",
       "\t B & 10 & 0.608 & 0.09681598\\\\\n",
       "\t C & 10 & 0.272 & 0.14327906\\\\\n",
       "\t D & 10 & 0.474 & 0.09453982\\\\\n",
       "\\end{tabular}\n"
      ],
      "text/markdown": [
       "\n",
       "A tibble: 4 × 4\n",
       "\n",
       "| plant_var &lt;chr&gt; | n &lt;int&gt; | mean &lt;dbl&gt; | sd &lt;dbl&gt; |\n",
       "|---|---|---|---|\n",
       "| A | 10 | 0.784 | 0.12130769 |\n",
       "| B | 10 | 0.608 | 0.09681598 |\n",
       "| C | 10 | 0.272 | 0.14327906 |\n",
       "| D | 10 | 0.474 | 0.09453982 |\n",
       "\n"
      ],
      "text/plain": [
       "  plant_var n  mean  sd        \n",
       "1 A         10 0.784 0.12130769\n",
       "2 B         10 0.608 0.09681598\n",
       "3 C         10 0.272 0.14327906\n",
       "4 D         10 0.474 0.09453982"
      ]
     },
     "metadata": {},
     "output_type": "display_data"
    }
   ],
   "source": [
    "# summary statistics for dependent variable height \n",
    "df %>% group_by(plant_var) %>%  summarise(n = n(), mean = mean(height), sd = sd(height))\n",
    "# output\n",
    " \n",
    "\n",
    "# summary statistics for dependent variable canopy_vol \n",
    "df %>% group_by(plant_var) %>%  summarise(n = n(), mean = mean(canopy_vol), sd = sd(canopy_vol))\n",
    "# output\n",
    " "
   ]
  },
  {
   "cell_type": "markdown",
   "id": "bd59e097",
   "metadata": {},
   "source": [
    "Visualize dataset:the code creates a ggplot2 plot in R using the following steps:\n",
    "\n",
    "- The ggplot function creates a new plot object and specifies the data to use (df) and the mapping of variables to aesthetics (x = plant_var, y = height, and fill = plant_var).\n",
    "- the argument fill = plant_var in the aes function specifies the variable to use for the fill color of the plot elements.\n",
    "- The + operator adds layers to the plot, starting with a boxplot layer created with the geom_boxplot function. The outlier.shape argument is set to NA to remove outliers from the plot.\n",
    "- The next layer is a jittered scatterplot created with the geom_jitter function, with the width argument set to 0.2. This spreads the points horizontally to reduce overplotting.\n",
    "- The final step is to modify the appearance of the plot with the theme function, where the legend.position argument is set to \"top\" to move the legend to the top of the plot."
   ]
  },
  {
   "cell_type": "code",
   "execution_count": 3,
   "id": "78ccad01",
   "metadata": {},
   "outputs": [
    {
     "name": "stderr",
     "output_type": "stream",
     "text": [
      "\n",
      "Caricamento pacchetto: 'gridExtra'\n",
      "\n",
      "\n",
      "Il seguente oggetto è mascherato da 'package:dplyr':\n",
      "\n",
      "    combine\n",
      "\n",
      "\n"
     ]
    },
    {
     "data": {
      "image/png": "[encoded data removed]",
      "text/plain": [
       "plot without title"
      ]
     },
     "metadata": {
      "image/png": {
       "height": 420,
       "width": 420
      }
     },
     "output_type": "display_data"
    }
   ],
   "source": [
    "library(gridExtra)\n",
    "p1 <- ggplot(df, aes(x = plant_var, y = height, fill = plant_var)) + geom_boxplot(outlier.shape = NA) + geom_jitter(width = 0.2) + theme(legend.position=\"top\")\n",
    "p2 <- ggplot(df, aes(x = plant_var, y = canopy_vol, fill = plant_var)) + geom_boxplot(outlier.shape = NA) + geom_jitter(width = 0.2) + theme(legend.position=\"top\")\n",
    "grid.arrange(p1, p2, ncol=2)"
   ]
  },
  {
   "cell_type": "markdown",
   "id": "dfd8b492-f205-490c-8e2f-d7284625d9a4",
   "metadata": {},
   "source": [
    "What we observe?"
   ]
  },
  {
   "cell_type": "markdown",
   "id": "a46460e5",
   "metadata": {},
   "source": [
    "perform one-way MANOVA\n",
    "\n",
    "Question: there is a significant effect of the plant variation on the height and on the canopy volume?\n",
    "\n",
    "- The manova function fits a MANOVA model to the data, with dep_vars as the dependent variables and plant_var as the independent variable. The formula dep_vars ~ plant_var specifies the relationship between the variables, where ~ means \"as a function of\". \n",
    "\n",
    "- The summary function is then used to summarize the results of the MANOVA, which provides information on the overall significance of the independent variable (plan_var) in explaining the variation in the dependent variables (dep_vars). \n",
    "\n",
    "The summary will include information such as the test statistic, degrees of freedom, and the p-value, which can be used to determine if there is a significant difference in the mean values of the dependent variables between the levels of the independent variable.\n"
   ]
  },
  {
   "cell_type": "code",
   "execution_count": 4,
   "id": "5b0efd75",
   "metadata": {},
   "outputs": [
    {
     "data": {
      "text/plain": [
       "          Df Pillai approx F num Df den Df    Pr(>F)    \n",
       "plant_var  3 1.0365   12.909      6     72 7.575e-10 ***\n",
       "Residuals 36                                            \n",
       "---\n",
       "Signif. codes:  0 '***' 0.001 '**' 0.01 '*' 0.05 '.' 0.1 ' ' 1"
      ]
     },
     "metadata": {},
     "output_type": "display_data"
    },
    {
     "data": {
      "text/html": [
       "<table class=\"dataframe\">\n",
       "<caption>A effectsize_anova: 1 × 5</caption>\n",
       "<thead>\n",
       "\t<tr><th scope=col>Parameter</th><th scope=col>Eta2_partial</th><th scope=col>CI</th><th scope=col>CI_low</th><th scope=col>CI_high</th></tr>\n",
       "\t<tr><th scope=col>&lt;chr&gt;</th><th scope=col>&lt;dbl&gt;</th><th scope=col>&lt;dbl&gt;</th><th scope=col>&lt;dbl&gt;</th><th scope=col>&lt;dbl&gt;</th></tr>\n",
       "</thead>\n",
       "<tbody>\n",
       "\t<tr><td>plant_var</td><td>0.5182515</td><td>0.95</td><td>0.3618079</td><td>1</td></tr>\n",
       "</tbody>\n",
       "</table>\n"
      ],
      "text/latex": [
       "A effectsize\\_anova: 1 × 5\n",
       "\\begin{tabular}{lllll}\n",
       " Parameter & Eta2\\_partial & CI & CI\\_low & CI\\_high\\\\\n",
       " <chr> & <dbl> & <dbl> & <dbl> & <dbl>\\\\\n",
       "\\hline\n",
       "\t plant\\_var & 0.5182515 & 0.95 & 0.3618079 & 1\\\\\n",
       "\\end{tabular}\n"
      ],
      "text/markdown": [
       "\n",
       "A effectsize_anova: 1 × 5\n",
       "\n",
       "| Parameter &lt;chr&gt; | Eta2_partial &lt;dbl&gt; | CI &lt;dbl&gt; | CI_low &lt;dbl&gt; | CI_high &lt;dbl&gt; |\n",
       "|---|---|---|---|---|\n",
       "| plant_var | 0.5182515 | 0.95 | 0.3618079 | 1 |\n",
       "\n"
      ],
      "text/plain": [
       "  Parameter Eta2_partial CI   CI_low    CI_high\n",
       "1 plant_var 0.5182515    0.95 0.3618079 1      "
      ]
     },
     "metadata": {},
     "output_type": "display_data"
    }
   ],
   "source": [
    "dep_vars <- cbind(df$height, df$canopy_vol)  #considering both distribution\n",
    "fit <- manova(dep_vars ~ plant_var, data = df)\n",
    "summary(fit)\n",
    "# output\n",
    "         \n",
    "# get effect size\n",
    "library(effectsize)\n",
    "effectsize::eta_squared(fit)\n",
    "# output\n"
   ]
  },
  {
   "cell_type": "markdown",
   "id": "5b6a4fd2",
   "metadata": {},
   "source": [
    "The Pillai’s Trace test statistics is statistically significant [Pillai’s Trace = 1.03, F(6, 72) = 12.90, p < 0.001] and indicates that plant varieties has a statistically significant association with both combined plant height and canopy volume.\n",
    "\n",
    "The measure of effect size (Partial Eta Squared; ηp2) is 0.52 and suggests that there is a large effect of plant varieties on both plant height and canopy volume."
   ]
  },
  {
   "cell_type": "markdown",
   "id": "2f4345ff",
   "metadata": {},
   "source": [
    "post-hoc test\n",
    "The MANOVA results suggest that there are statistically significant (p < 0.001) differences between plant varieties, but it does not tell which groups are different from each other. To know which groups are significantly different, the post-hoc test needs to carry out.\n",
    "\n",
    "To test the between-group differences, the univariate ANOVA can be done on each dependent variable, but this will be not appropriate and lose information that can be obtained from multiple variables together."
   ]
  },
  {
   "cell_type": "markdown",
   "id": "eb2ca22a",
   "metadata": {},
   "source": [
    "Here we will perform the linear discriminant analysis (LDA) to see the differences between each group. LDA will discriminate the groups using information from both the dependent variables."
   ]
  },
  {
   "cell_type": "markdown",
   "id": "d1bff013",
   "metadata": {},
   "source": [
    "Test MANOVA assumptions:\n",
    "\n",
    "- Assumptions of multivariate normality\n",
    "You can initially check the univariate normality for each combination of the independent and dependent variables. If this test does not pass (significant p value), it may be possible that multivariate normality is violated."
   ]
  },
  {
   "cell_type": "code",
   "execution_count": 5,
   "id": "904e682a",
   "metadata": {},
   "outputs": [
    {
     "name": "stderr",
     "output_type": "stream",
     "text": [
      "\n",
      "Caricamento pacchetto: 'rstatix'\n",
      "\n",
      "\n",
      "I seguenti oggetti sono mascherati da 'package:effectsize':\n",
      "\n",
      "    cohens_d, eta_squared\n",
      "\n",
      "\n",
      "Il seguente oggetto è mascherato da 'package:stats':\n",
      "\n",
      "    filter\n",
      "\n",
      "\n"
     ]
    },
    {
     "data": {
      "text/html": [
       "<table class=\"dataframe\">\n",
       "<caption>A tibble: 8 × 4</caption>\n",
       "<thead>\n",
       "\t<tr><th scope=col>plant_var</th><th scope=col>variable</th><th scope=col>statistic</th><th scope=col>p</th></tr>\n",
       "\t<tr><th scope=col>&lt;chr&gt;</th><th scope=col>&lt;chr&gt;</th><th scope=col>&lt;dbl&gt;</th><th scope=col>&lt;dbl&gt;</th></tr>\n",
       "</thead>\n",
       "<tbody>\n",
       "\t<tr><td>A</td><td>canopy_vol</td><td>0.9684161</td><td>0.8757833</td></tr>\n",
       "\t<tr><td>A</td><td>height    </td><td>0.9796939</td><td>0.9635088</td></tr>\n",
       "\t<tr><td>B</td><td>canopy_vol</td><td>0.8819413</td><td>0.1373554</td></tr>\n",
       "\t<tr><td>B</td><td>height    </td><td>0.9388102</td><td>0.5398513</td></tr>\n",
       "\t<tr><td>C</td><td>canopy_vol</td><td>0.9170138</td><td>0.3327207</td></tr>\n",
       "\t<tr><td>C</td><td>height    </td><td>0.8952331</td><td>0.1940650</td></tr>\n",
       "\t<tr><td>D</td><td>canopy_vol</td><td>0.8733088</td><td>0.1092283</td></tr>\n",
       "\t<tr><td>D</td><td>height    </td><td>0.9020769</td><td>0.2308704</td></tr>\n",
       "</tbody>\n",
       "</table>\n"
      ],
      "text/latex": [
       "A tibble: 8 × 4\n",
       "\\begin{tabular}{llll}\n",
       " plant\\_var & variable & statistic & p\\\\\n",
       " <chr> & <chr> & <dbl> & <dbl>\\\\\n",
       "\\hline\n",
       "\t A & canopy\\_vol & 0.9684161 & 0.8757833\\\\\n",
       "\t A & height     & 0.9796939 & 0.9635088\\\\\n",
       "\t B & canopy\\_vol & 0.8819413 & 0.1373554\\\\\n",
       "\t B & height     & 0.9388102 & 0.5398513\\\\\n",
       "\t C & canopy\\_vol & 0.9170138 & 0.3327207\\\\\n",
       "\t C & height     & 0.8952331 & 0.1940650\\\\\n",
       "\t D & canopy\\_vol & 0.8733088 & 0.1092283\\\\\n",
       "\t D & height     & 0.9020769 & 0.2308704\\\\\n",
       "\\end{tabular}\n"
      ],
      "text/markdown": [
       "\n",
       "A tibble: 8 × 4\n",
       "\n",
       "| plant_var &lt;chr&gt; | variable &lt;chr&gt; | statistic &lt;dbl&gt; | p &lt;dbl&gt; |\n",
       "|---|---|---|---|\n",
       "| A | canopy_vol | 0.9684161 | 0.8757833 |\n",
       "| A | height     | 0.9796939 | 0.9635088 |\n",
       "| B | canopy_vol | 0.8819413 | 0.1373554 |\n",
       "| B | height     | 0.9388102 | 0.5398513 |\n",
       "| C | canopy_vol | 0.9170138 | 0.3327207 |\n",
       "| C | height     | 0.8952331 | 0.1940650 |\n",
       "| D | canopy_vol | 0.8733088 | 0.1092283 |\n",
       "| D | height     | 0.9020769 | 0.2308704 |\n",
       "\n"
      ],
      "text/plain": [
       "  plant_var variable   statistic p        \n",
       "1 A         canopy_vol 0.9684161 0.8757833\n",
       "2 A         height     0.9796939 0.9635088\n",
       "3 B         canopy_vol 0.8819413 0.1373554\n",
       "4 B         height     0.9388102 0.5398513\n",
       "5 C         canopy_vol 0.9170138 0.3327207\n",
       "6 C         height     0.8952331 0.1940650\n",
       "7 D         canopy_vol 0.8733088 0.1092283\n",
       "8 D         height     0.9020769 0.2308704"
      ]
     },
     "metadata": {},
     "output_type": "display_data"
    }
   ],
   "source": [
    "library(rstatix)\n",
    "df %>% group_by(plant_var) %>%  shapiro_test(height, canopy_vol)"
   ]
  },
  {
   "cell_type": "markdown",
   "id": "2c7e8f2f",
   "metadata": {},
   "source": [
    "As the p value is non-significant (p > 0.05) for each combination of independent and dependent variable, we fail to reject the null hypothesis and conclude that data follows univariate normality.\n",
    "\n",
    "If the sample size is large (say n > 50), the visual approaches such as QQ-plot and histogram will be better for assessing the normality assumption. Read more here\n",
    "\n",
    "Now, let’s check for multivariate normality Skewness and Kurtosis test, \n",
    "Using linear model fit <- lm(response_variable ~ predictor_variable_1 + predictor_variable_2 + ..., data = data_frame)  Alt +126"
   ]
  },
  {
   "cell_type": "code",
   "execution_count": null,
   "id": "ad11de39-56f5-4211-9844-5df3851aa242",
   "metadata": {
    "tags": []
   },
   "outputs": [],
   "source": [
    "library(mvnormtest)\n",
    "dep_vars <- cbind(df$height, df$canopy_vol)\n",
    "fit <- lm(dep_vars~plant_var,data = df)\n",
    "mvnormtest(fit)"
   ]
  },
  {
   "cell_type": "code",
   "execution_count": null,
   "id": "fec90c10",
   "metadata": {},
   "outputs": [],
   "source": [
    "library(mvnormalTest)\n",
    "mardia(df[, c(\"height\", \"canopy_vol\")])$mv.test"
   ]
  },
  {
   "cell_type": "markdown",
   "id": "9a33bd3c",
   "metadata": {},
   "source": [
    "As the p value is non-significant (p > 0.05) for Mardia’s Skewness and Kurtosis test, we fail to reject the null hypothesis and conclude that data follows multivariate normality.\n",
    "\n",
    "Here both Skewness and Kurtosis p value should be > 0.05 for concluding the multivariate normality.\n",
    "\n"
   ]
  },
  {
   "cell_type": "markdown",
   "id": "700c91c1",
   "metadata": {},
   "source": [
    "As the p value is non-significant (p > 0.001) for Box’s M test, we fail to reject the null hypothesis and conclude that variance-covariance matrices are equal for each combination of dependent variable formed by each group in independent variable.\n",
    "\n",
    "If this assumption fails, it would be good to check the homogeneity of variance assumption using Bartlett’s or Levene’s test to identify which variable fails in equal variance.\n",
    "\n",
    "Multivariate outliers:\n",
    "MANOVA is highly sensitive to outliers and may produce type I or II errors. Multivariate outliers can be detected using the Mahalanobis Distance test. The larger the Mahalanobis Distance, the more likely it is an outlier."
   ]
  },
  {
   "cell_type": "code",
   "execution_count": null,
   "id": "f47adca8",
   "metadata": {},
   "outputs": [],
   "source": [
    "library(rstatix)\n",
    "# get distance\n",
    "# get distance\n",
    "mahalanobis_distance(data = df[, c(\"height\", \"canopy_vol\")])$is.outlier\n"
   ]
  },
  {
   "cell_type": "markdown",
   "id": "f76bdb6e",
   "metadata": {},
   "source": [
    "From the results, there is no multivariate outliers (all is.outlier = FALSE or p > 0.001) in the dataset. If is.outlier = TRUE, it means there is multivariate outlier in the dataset.\n",
    "\n",
    "Linearity assumption:\n",
    "Linearity assumption can be checked by visualizing the pairwise scatterplot for the dependent variable for each group. The data points should lie on the straight line to meet the linearity assumption. The violation of the linearity assumption reduces the statistical power."
   ]
  },
  {
   "cell_type": "code",
   "execution_count": null,
   "id": "cbeb9ad6",
   "metadata": {},
   "outputs": [],
   "source": [
    "library(gridExtra)\n",
    "p1 <- df  %>% group_by(plant_var) %>% filter(plant_var == \"A\") %>% ggplot(aes(x = height, y = canopy_vol)) + geom_point() + ggtitle(\"Variety: A\")\n",
    "p2 <- df  %>% group_by(plant_var) %>% filter(plant_var == \"B\") %>% ggplot(aes(x = height, y = canopy_vol)) + geom_point() + ggtitle(\"Variety: B\") \n",
    "p3 <- df  %>% group_by(plant_var) %>% filter(plant_var == \"C\") %>% ggplot(aes(x = height, y = canopy_vol)) + geom_point() + ggtitle(\"Variety: C\") \n",
    "p4 <- df  %>% group_by(plant_var) %>% filter(plant_var == \"D\") %>% ggplot(aes(x = height, y = canopy_vol)) + geom_point() + ggtitle(\"Variety: D\") \n",
    "grid.arrange(p1, p2, p3, p4, ncol=2)"
   ]
  },
  {
   "cell_type": "markdown",
   "id": "edc9b27c",
   "metadata": {},
   "source": [
    "The scatterplot indicates that dependent variables have a linear relationship for each group in the independent variable"
   ]
  },
  {
   "cell_type": "markdown",
   "id": "657236f9-d8c7-46bb-85e8-02eb4efedc23",
   "metadata": {},
   "source": [
    "source: https://www.reneshbedre.com/blog/manova.html#test-manova-assumptions"
   ]
  }
 ],
 "metadata": {
  "kernelspec": {
   "display_name": "R",
   "language": "R",
   "name": "ir"
  },
  "language_info": {
   "codemirror_mode": "r",
   "file_extension": ".r",
   "mimetype": "text/x-r-source",
   "name": "R",
   "pygments_lexer": "r",
   "version": "4.1.3"
  }
 },
 "nbformat": 4,
 "nbformat_minor": 5
}
