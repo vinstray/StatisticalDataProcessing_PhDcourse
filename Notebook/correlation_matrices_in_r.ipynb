{
 "cells": [
  {
   "cell_type": "markdown",
   "metadata": {},
   "source": [
    "# Seven Easy Graphs to Visualize Correlation Matrices in R\n",
    "By James Marquez, April 15, 2017\n",
    "\n",
    "I want to share seven insightful correlation matrix visualizations that are beautiful and simple to build with only one line of code. However, each graph does have many customization options for power users to explore. We'll use the built in [mtcars](https://stat.ethz.ch/R-manual/R-devel/library/datasets/html/mtcars.html) dataset that consists of fuel consumption and 10 variables of automobile design, such as number of cylinders, horsepower, engine displacement, etc., for 32 automobiles. We'll start by saving five variables to a new object called 'mydata'. We'll use the 'mydata' object in all our examples."
   ]
  },
  {
   "cell_type": "code",
   "execution_count": 1,
   "metadata": {
    "collapsed": true,
    "jupyter": {
     "outputs_hidden": true
    }
   },
   "outputs": [],
   "source": [
    "mydata <- mtcars[, c('mpg', 'cyl', 'disp', 'hp', 'carb')]"
   ]
  },
  {
   "cell_type": "markdown",
   "metadata": {},
   "source": [
    "## [PerformanceAnalytics Package](https://cran.r-project.org/web/packages/PerformanceAnalytics/PerformanceAnalytics.pdf)\n",
    "We'll start with the best implementation, in my opinion, from the PerformanceAnalytics package. This graph provides the following information:\n",
    "1. Correlation coefficient (r) - The strength of the relationship.\n",
    "2. p-value - The significance of the relationship. Significance codes 0 ‘\\*\\*\\*’ 0.001 ‘\\*\\*’ 0.01 ‘\\*’ 0.05 ‘.’ 0.1 ‘ ‘ 1\n",
    "3. Histogram with kernel density estimation and rug plot.\n",
    "4. Scatter plot with fitted line."
   ]
  },
  {
   "cell_type": "code",
   "execution_count": 2,
   "metadata": {},
   "outputs": [
    {
     "ename": "ERROR",
     "evalue": "Error in library(\"PerformanceAnalytics\"): non c'è alcun pacchetto chiamato 'PerformanceAnalytics'\n",
     "output_type": "error",
     "traceback": [
      "Error in library(\"PerformanceAnalytics\"): non c'è alcun pacchetto chiamato 'PerformanceAnalytics'\nTraceback:\n",
      "1. library(\"PerformanceAnalytics\")"
     ]
    }
   ],
   "source": [
    "library(\"PerformanceAnalytics\")\n",
    "\n",
    "chart.Correlation(mydata, histogram=TRUE, pch=19)"
   ]
  },
  {
   "cell_type": "markdown",
   "metadata": {},
   "source": [
    "## [Corrr Package](https://cran.r-project.org/web/packages/corrr/index.html)\n",
    "I found this next graph particularly interesting and enjoy the different approach its author took at visualizing correlations between variables. We'll call it using the pipe method %>% where we feed our dataset into the correlate() function which is then fed into the network_plot() function."
   ]
  },
  {
   "cell_type": "code",
   "execution_count": null,
   "metadata": {},
   "outputs": [],
   "source": [
    "library(corrr)\n",
    "\n",
    "mydata %>% correlate() %>% network_plot(min_cor=0.6)\n",
    "\n",
    "# It can also be called using the traditional method\n",
    "# network_plot(correlate(mydata), min_cor=0.5)"
   ]
  },
  {
   "cell_type": "markdown",
   "metadata": {},
   "source": [
    "This plot uses clustering to make it easy to see which variables are closely correlated with each other. The closer each variable is to each other the higher the relationship while the opposite is true for widely spaced variables. The color of the line represents the direction of the correlation while the line shade and thickness represent the strength of the relationship. The min_cor parameter is the minimum correlation coefficient required to display a line between variables."
   ]
  },
  {
   "cell_type": "markdown",
   "metadata": {},
   "source": [
    "## [Psych Package](http://personality-project.org/r/overview.pdf)\n",
    "This third plot is from the psych package and is similar to the PerformanceAnalytics plot. The scale parameter is used to automatically increase and decrease the text size based on the absolute value of the correlation coefficient. This graph provides the following information:\n",
    "1. Correlation coefficient (r) - The strength of the relationship.\n",
    "2. Histogram with kernel density estimation and rug plot.\n",
    "3. Scatter plot with fitted line and ellipses to display the strength of the relationship."
   ]
  },
  {
   "cell_type": "code",
   "execution_count": null,
   "metadata": {},
   "outputs": [],
   "source": [
    "library(psych)\n",
    "\n",
    "pairs.panels(mydata, scale=TRUE)"
   ]
  },
  {
   "cell_type": "markdown",
   "metadata": {},
   "source": [
    "## [Corrplot Package](https://cran.r-project.org/web/packages/corrplot/corrplot.pdf)\n",
    "This next plot is simple, but has many customization options that you can view here [An Introduction to corrplot Package](https://cran.r-project.org/web/packages/corrplot/vignettes/corrplot-intro.html). The size and shade of each circle represents the strength of each relationship, while the color represents the direction, either negative or positive."
   ]
  },
  {
   "cell_type": "code",
   "execution_count": null,
   "metadata": {},
   "outputs": [],
   "source": [
    "library(corrplot)\n",
    "\n",
    "corrplot.mixed(cor(mydata), order=\"hclust\", tl.col=\"black\")"
   ]
  },
  {
   "cell_type": "markdown",
   "metadata": {},
   "source": [
    "## [GGally Package](https://cran.r-project.org/web/packages/GGally/GGally.pdf)\n",
    "This next plot uses ggplot2 if you like its style. This package also has many more chart types which you can expore here [GGally - Extension to 'ggplot'](http://ggobi.github.io/ggally/index.html)."
   ]
  },
  {
   "cell_type": "code",
   "execution_count": null,
   "metadata": {},
   "outputs": [],
   "source": [
    "library(GGally)\n",
    "\n",
    "ggpairs(mydata)"
   ]
  },
  {
   "cell_type": "markdown",
   "metadata": {},
   "source": [
    "This next plot is very simple, but actually requires the most arguments."
   ]
  },
  {
   "cell_type": "code",
   "execution_count": null,
   "metadata": {},
   "outputs": [],
   "source": [
    "ggcorr(mydata, nbreaks=8, palette='RdGy', label=TRUE, label_size=5, label_color='white')"
   ]
  },
  {
   "cell_type": "markdown",
   "metadata": {},
   "source": [
    "## [ggcorrplot Package](https://cran.r-project.org/web/packages/ggcorrplot/ggcorrplot.pdf)\n",
    "This next plot is similar to GGally in that it uses ggplot2 as well. This package also has many more options which you can expore here [ggcorrplot: Visualization of a correlation matrix using ggplot2](http://www.sthda.com/english/wiki/ggcorrplot-visualization-of-a-correlation-matrix-using-ggplot2). In this example, we're going to use the entire 'mtcars' dataset for the purpose of displaying insignificant correlation coeffients. You must pass in the <span class=\"ic\">cor_pmat()</span> function as an arguement to the <span class=\"ic\">p.mat</span> parameter to display the 'X's. You can also blank them out using the <span class=\"ic\">insig='blank'</span> parameter."
   ]
  },
  {
   "cell_type": "code",
   "execution_count": null,
   "metadata": {},
   "outputs": [],
   "source": [
    "library(ggcorrplot)\n",
    "\n",
    "ggcorrplot(cor(mtcars), p.mat = cor_pmat(mtcars), hc.order=TRUE, type='lower')"
   ]
  },
  {
   "cell_type": "markdown",
   "metadata": {},
   "source": [
    "That's it. Please leave a comment if you have any questions, spot any errors, or if you know of any other packages or graphs to display correlation matrices. You can grab the notebook from my GitHub here [correlation_matrices_in_r.ipynb](https://github.com/JamesMarquezDev/Jupyter-Notebooks-Statistic-Walk-Throughs-Using-R/blob/master/correlation_matrices_in_r.ipynb). Thanks for reading!"
   ]
  }
 ],
 "metadata": {
  "kernelspec": {
   "display_name": "R",
   "language": "R",
   "name": "ir"
  },
  "language_info": {
   "codemirror_mode": "r",
   "file_extension": ".r",
   "mimetype": "text/x-r-source",
   "name": "R",
   "pygments_lexer": "r",
   "version": "4.1.3"
  }
 },
 "nbformat": 4,
 "nbformat_minor": 4
}
