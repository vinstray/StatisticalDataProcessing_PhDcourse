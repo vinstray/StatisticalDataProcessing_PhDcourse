{
 "cells": [
  {
   "cell_type": "code",
   "execution_count": null,
   "id": "02b3cf53-4da1-4af4-859a-0bf0209375bd",
   "metadata": {},
   "outputs": [],
   "source": [
    "     \n",
    "windows()  \n",
    "  layout(matrix(1:4, nrow=2, byrow=T))\n",
    "  # plot of model for TOT vs AMT\n",
    "    plot(fitted(univ.mpg), univ.mpg$residuals, main = \"Fitted Values versus Residuals\", xlab = \"Fitted Values\", ylab = \"Residuals\")\n",
    "abline(h = 0, col = \"red\")\n",
    "lines(lowess(fitted(univ.mpg), univ.mpg$residuals), col = \"blue\")\n",
    "\n",
    "\n",
    "plot(fitted(univ.hp), univ.hp$residuals, main = \"Fitted Values versus Residuals\", xlab = \"Fitted Values\", ylab = \"Residuals\")\n",
    "abline(h = 0, col = \"red\")\n",
    "lines(lowess(fitted(univ.hp), univ.hp$residuals), col = \"blue\")\n",
    "\n",
    "\n",
    "\n",
    "plot(fitted(univ.wt), univ.wt$residuals, main = \"Fitted Values versus Residuals\", xlab = \"Fitted Values\", ylab = \"Residuals\")\n",
    "abline(h = 0, col = \"red\")\n",
    "lines(lowess(fitted(univ.wt), univ.wt$residuals), col = \"blue\")\n",
    "\n",
    "\n",
    "    plot(fitted(univ.qsec), univ.qsec$residuals, main = \"Fitted Values versus Residuals\", xlab = \"Fitted Values\", ylab = \"Residuals\")\n",
    "abline(h = 0, col = \"red\")\n",
    "lines(lowess(fitted(univ.qsec), univ.qsec$residuals), col = \"blue\")\n"
   ]
  }
 ],
 "metadata": {
  "kernelspec": {
   "display_name": "R",
   "language": "R",
   "name": "ir"
  },
  "language_info": {
   "codemirror_mode": "r",
   "file_extension": ".r",
   "mimetype": "text/x-r-source",
   "name": "R",
   "pygments_lexer": "r",
   "version": "4.1.3"
  }
 },
 "nbformat": 4,
 "nbformat_minor": 5
}
