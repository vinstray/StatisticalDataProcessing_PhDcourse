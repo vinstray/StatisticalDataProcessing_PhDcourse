{
 "cells": [
  {
   "cell_type": "markdown",
   "metadata": {},
   "source": [
    "# One-way ANOVA In R\n",
    "\n",
    "[ANOVA](https://en.wikipedia.org/wiki/Analysis_of_variance) is an **AN**alysis **O**f **VA**riance. It is a test to determine if there is a significant difference between the means of two or more populations. It describes the variance within groups and the variance between groups. It tests the null hypothesis which states that all population means are equal while the alternative hypothesis states that at least one is different. One-way ANOVA is used to test groups with only one response variable.\n",
    "\n",
    "- H0 null hypotesis\n",
    "- H1 alternative hypotesis\n",
    "\n",
    "example: \"significance\" alpha=0.05! we need it to consider casuality on extracted sample. We need to extract several sample for the population to analyze.\n",
    "\n",
    "For each population we want to associate the significativiy level for that specific population.\n",
    "\n",
    "<img src=\"miscellanea/z-score-table-1.png\" width=\"400\">\n",
    "<img src=\"miscellanea/5_AnovaAssumptionNull.jpg\" width=\"400\">"
   ]
  },
  {
   "cell_type": "markdown",
   "metadata": {},
   "source": [
    "We're going to use Sepal Width as our response variable (dependent variable) to test if there is a significant difference between the mean sepal widths of each species (independent variable) of iris flower."
   ]
  },
  {
   "cell_type": "markdown",
   "metadata": {},
   "source": [
    "## Loading the Data\n",
    "The first step is to load the custom packages we will use to increase the functionality of base R."
   ]
  },
  {
   "cell_type": "code",
   "execution_count": 1,
   "metadata": {
    "tags": []
   },
   "outputs": [
    {
     "name": "stderr",
     "output_type": "stream",
     "text": [
      "Registered S3 method overwritten by 'mosaic':\n",
      "  method                           from   \n",
      "  fortify.SpatialPolygonsDataFrame ggplot2\n",
      "\n",
      "\n",
      "The 'mosaic' package masks several functions from core packages in order to add \n",
      "additional features.  The original behavior of these functions should not be affected by this.\n",
      "\n",
      "\n",
      "Caricamento pacchetto: 'mosaic'\n",
      "\n",
      "\n",
      "I seguenti oggetti sono mascherati da 'package:dplyr':\n",
      "\n",
      "    count, do, tally\n",
      "\n",
      "\n",
      "Il seguente oggetto è mascherato da 'package:Matrix':\n",
      "\n",
      "    mean\n",
      "\n",
      "\n",
      "Il seguente oggetto è mascherato da 'package:ggplot2':\n",
      "\n",
      "    stat\n",
      "\n",
      "\n",
      "I seguenti oggetti sono mascherati da 'package:stats':\n",
      "\n",
      "    binom.test, cor, cor.test, cov, fivenum, IQR, median, prop.test,\n",
      "    quantile, sd, t.test, var\n",
      "\n",
      "\n",
      "I seguenti oggetti sono mascherati da 'package:base':\n",
      "\n",
      "    max, mean, min, prod, range, sample, sum\n",
      "\n",
      "\n"
     ]
    }
   ],
   "source": [
    "library(ggplot2) # Functions used to create beautful plots\n",
    "library(mosaic) # Plot TukeyHSD"
   ]
  },
  {
   "cell_type": "markdown",
   "metadata": {},
   "source": [
    "## Viewing the Data's Structure\n",
    "Next, let's load the iris dataset and explore it a few different ways to get a good understanding of the data we have available to us."
   ]
  },
  {
   "cell_type": "code",
   "execution_count": 2,
   "metadata": {},
   "outputs": [
    {
     "name": "stdout",
     "output_type": "stream",
     "text": [
      "'data.frame':\t150 obs. of  5 variables:\n",
      " $ Sepal.Length: num  5.1 4.9 4.7 4.6 5 5.4 4.6 5 4.4 4.9 ...\n",
      " $ Sepal.Width : num  3.5 3 3.2 3.1 3.6 3.9 3.4 3.4 2.9 3.1 ...\n",
      " $ Petal.Length: num  1.4 1.4 1.3 1.5 1.4 1.7 1.4 1.5 1.4 1.5 ...\n",
      " $ Petal.Width : num  0.2 0.2 0.2 0.2 0.2 0.4 0.3 0.2 0.2 0.1 ...\n",
      " $ Species     : Factor w/ 3 levels \"setosa\",\"versicolor\",..: 1 1 1 1 1 1 1 1 1 1 ...\n"
     ]
    },
    {
     "data": {
      "text/plain": [
       "\n",
       "    setosa versicolor  virginica \n",
       "        50         50         50 "
      ]
     },
     "metadata": {},
     "output_type": "display_data"
    },
    {
     "data": {
      "text/html": [
       "<table class=\"dataframe\">\n",
       "<caption>A data.frame: 6 × 5</caption>\n",
       "<thead>\n",
       "\t<tr><th></th><th scope=col>Sepal.Length</th><th scope=col>Sepal.Width</th><th scope=col>Petal.Length</th><th scope=col>Petal.Width</th><th scope=col>Species</th></tr>\n",
       "\t<tr><th></th><th scope=col>&lt;dbl&gt;</th><th scope=col>&lt;dbl&gt;</th><th scope=col>&lt;dbl&gt;</th><th scope=col>&lt;dbl&gt;</th><th scope=col>&lt;fct&gt;</th></tr>\n",
       "</thead>\n",
       "<tbody>\n",
       "\t<tr><th scope=row>1</th><td>5.1</td><td>3.5</td><td>1.4</td><td>0.2</td><td>setosa</td></tr>\n",
       "\t<tr><th scope=row>2</th><td>4.9</td><td>3.0</td><td>1.4</td><td>0.2</td><td>setosa</td></tr>\n",
       "\t<tr><th scope=row>3</th><td>4.7</td><td>3.2</td><td>1.3</td><td>0.2</td><td>setosa</td></tr>\n",
       "\t<tr><th scope=row>4</th><td>4.6</td><td>3.1</td><td>1.5</td><td>0.2</td><td>setosa</td></tr>\n",
       "\t<tr><th scope=row>5</th><td>5.0</td><td>3.6</td><td>1.4</td><td>0.2</td><td>setosa</td></tr>\n",
       "\t<tr><th scope=row>6</th><td>5.4</td><td>3.9</td><td>1.7</td><td>0.4</td><td>setosa</td></tr>\n",
       "</tbody>\n",
       "</table>\n"
      ],
      "text/latex": [
       "A data.frame: 6 × 5\n",
       "\\begin{tabular}{r|lllll}\n",
       "  & Sepal.Length & Sepal.Width & Petal.Length & Petal.Width & Species\\\\\n",
       "  & <dbl> & <dbl> & <dbl> & <dbl> & <fct>\\\\\n",
       "\\hline\n",
       "\t1 & 5.1 & 3.5 & 1.4 & 0.2 & setosa\\\\\n",
       "\t2 & 4.9 & 3.0 & 1.4 & 0.2 & setosa\\\\\n",
       "\t3 & 4.7 & 3.2 & 1.3 & 0.2 & setosa\\\\\n",
       "\t4 & 4.6 & 3.1 & 1.5 & 0.2 & setosa\\\\\n",
       "\t5 & 5.0 & 3.6 & 1.4 & 0.2 & setosa\\\\\n",
       "\t6 & 5.4 & 3.9 & 1.7 & 0.4 & setosa\\\\\n",
       "\\end{tabular}\n"
      ],
      "text/markdown": [
       "\n",
       "A data.frame: 6 × 5\n",
       "\n",
       "| <!--/--> | Sepal.Length &lt;dbl&gt; | Sepal.Width &lt;dbl&gt; | Petal.Length &lt;dbl&gt; | Petal.Width &lt;dbl&gt; | Species &lt;fct&gt; |\n",
       "|---|---|---|---|---|---|\n",
       "| 1 | 5.1 | 3.5 | 1.4 | 0.2 | setosa |\n",
       "| 2 | 4.9 | 3.0 | 1.4 | 0.2 | setosa |\n",
       "| 3 | 4.7 | 3.2 | 1.3 | 0.2 | setosa |\n",
       "| 4 | 4.6 | 3.1 | 1.5 | 0.2 | setosa |\n",
       "| 5 | 5.0 | 3.6 | 1.4 | 0.2 | setosa |\n",
       "| 6 | 5.4 | 3.9 | 1.7 | 0.4 | setosa |\n",
       "\n"
      ],
      "text/plain": [
       "  Sepal.Length Sepal.Width Petal.Length Petal.Width Species\n",
       "1 5.1          3.5         1.4          0.2         setosa \n",
       "2 4.9          3.0         1.4          0.2         setosa \n",
       "3 4.7          3.2         1.3          0.2         setosa \n",
       "4 4.6          3.1         1.5          0.2         setosa \n",
       "5 5.0          3.6         1.4          0.2         setosa \n",
       "6 5.4          3.9         1.7          0.4         setosa "
      ]
     },
     "metadata": {},
     "output_type": "display_data"
    }
   ],
   "source": [
    "data('iris') # Load the iris dataset into local memory\n",
    "\n",
    "str(iris) # View the structure of the iris dataset\n",
    "table(iris$Species) # View the number of samples in each category of Species\n",
    "head(iris) # View the first six rows of the iris dataset "
   ]
  },
  {
   "cell_type": "markdown",
   "metadata": {},
   "source": [
    "We can see that our dataset has 150 observations or samples. It has 5 variables, four continuous variables that explain each Species type. The Species variable consists of 3 factor levels (categories); setosa, versicolor, and virginica consisting of 50 samples each."
   ]
  },
  {
   "cell_type": "markdown",
   "metadata": {},
   "source": [
    "In our walk-through, we're going to look at the variances of only one variable, Sepal Width, which is called the response variable. We are going to run an ANOVA test on this variable to see if there are significant differences between the means of each flower type's sepal widths or if the differences may be caused by random chance."
   ]
  },
  {
   "cell_type": "markdown",
   "metadata": {},
   "source": [
    "## Determining If Groups Are Normally Distributed"
   ]
  },
  {
   "cell_type": "markdown",
   "metadata": {},
   "source": [
    "Let's first look at a density plot of each species' Sepal Width to verify that each is approximately a normally distributed population, which is a requirement to perform an ANOVA test. We'll use ggplot2 to create our plot."
   ]
  },
  {
   "cell_type": "code",
   "execution_count": 3,
   "metadata": {},
   "outputs": [
    {
     "data": {
      "image/png": "[encoded data removed]",
      "text/plain": [
       "plot without title"
      ]
     },
     "metadata": {
      "image/png": {
       "height": 420,
       "width": 420
      }
     },
     "output_type": "display_data"
    }
   ],
   "source": [
    "# Group, color, and fill by Species\n",
    "ggplot(iris, aes(x=Sepal.Width)) +\n",
    "  geom_density(aes(group=Species, color=Species, fill=Species), alpha=0.3)"
   ]
  },
  {
   "cell_type": "markdown",
   "metadata": {},
   "source": [
    "We can see that all three have approximately normally distributed populations so we can continue with our one-way ANOVA test."
   ]
  },
  {
   "cell_type": "markdown",
   "metadata": {},
   "source": [
    "## One-way ANOVA\n",
    "Next, let's perform our ANOVA test. We'll use the aov() function and pass in our variables in the correct order. We'll save our results to an object we name ANOVA."
   ]
  },
  {
   "cell_type": "code",
   "execution_count": 4,
   "metadata": {
    "tags": []
   },
   "outputs": [
    {
     "data": {
      "text/html": [
       "\n",
       "<table width=\"100%\" summary=\"page for aov {stats}\"><tr><td>aov {stats}</td><td style=\"text-align: right;\">R Documentation</td></tr></table>\n",
       "\n",
       "<h2>Fit an Analysis of Variance Model</h2>\n",
       "\n",
       "<h3>Description</h3>\n",
       "\n",
       "<p>Fit an analysis of variance model by a call to <code>lm</code> for each stratum.\n",
       "</p>\n",
       "\n",
       "\n",
       "<h3>Usage</h3>\n",
       "\n",
       "<pre>\n",
       "aov(formula, data = NULL, projections = FALSE, qr = TRUE,\n",
       "    contrasts = NULL, ...)\n",
       "</pre>\n",
       "\n",
       "\n",
       "<h3>Arguments</h3>\n",
       "\n",
       "<table summary=\"R argblock\">\n",
       "<tr valign=\"top\"><td><code>formula</code></td>\n",
       "<td>\n",
       "<p>A formula specifying the model.</p>\n",
       "</td></tr>\n",
       "<tr valign=\"top\"><td><code>data</code></td>\n",
       "<td>\n",
       "<p>A data frame in which the variables specified in the\n",
       "formula will be found. If missing, the variables are searched for in\n",
       "the standard way.</p>\n",
       "</td></tr>\n",
       "<tr valign=\"top\"><td><code>projections</code></td>\n",
       "<td>\n",
       "<p>Logical flag: should the projections be returned?</p>\n",
       "</td></tr>\n",
       "<tr valign=\"top\"><td><code>qr</code></td>\n",
       "<td>\n",
       "<p>Logical flag: should the QR decomposition be returned?</p>\n",
       "</td></tr>\n",
       "<tr valign=\"top\"><td><code>contrasts</code></td>\n",
       "<td>\n",
       "<p>A list of contrasts to be used for some of the factors\n",
       "in the formula. These are not used for any <code>Error</code> term, and\n",
       "supplying contrasts for factors only in the <code>Error</code> term will give\n",
       "a warning.</p>\n",
       "</td></tr>\n",
       "<tr valign=\"top\"><td><code>...</code></td>\n",
       "<td>\n",
       "<p>Arguments to be passed to <code>lm</code>, such as <code>subset</code>\n",
       "or <code>na.action</code>.  See &lsquo;Details&rsquo; about <code>weights</code>.</p>\n",
       "</td></tr>\n",
       "</table>\n",
       "\n",
       "\n",
       "<h3>Details</h3>\n",
       "\n",
       "<p>This provides a wrapper to <code>lm</code> for fitting linear models to\n",
       "balanced or unbalanced experimental designs.\n",
       "</p>\n",
       "<p>The main difference from <code>lm</code> is in the way <code>print</code>,\n",
       "<code>summary</code> and so on handle the fit: this is expressed in the\n",
       "traditional language of the analysis of variance rather than that of\n",
       "linear models.\n",
       "</p>\n",
       "<p>If the formula contains a single <code>Error</code> term, this is used to\n",
       "specify error strata, and appropriate models are fitted within each\n",
       "error stratum.\n",
       "</p>\n",
       "<p>The formula can specify multiple responses.\n",
       "</p>\n",
       "<p>Weights can be specified by a <code>weights</code> argument, but should not\n",
       "be used with an <code>Error</code> term, and are incompletely supported\n",
       "(e.g., not by <code>model.tables</code>).\n",
       "</p>\n",
       "\n",
       "\n",
       "<h3>Value</h3>\n",
       "\n",
       "<p>An object of class <code>c(\"aov\", \"lm\")</code> or for multiple responses\n",
       "of class <code>c(\"maov\", \"aov\", \"mlm\", \"lm\")</code> or for multiple error\n",
       "strata of class <code>c(\"aovlist\", \"listof\")</code>.  There are\n",
       "<code>print</code> and <code>summary</code> methods available for these.\n",
       "</p>\n",
       "\n",
       "\n",
       "<h3>Note</h3>\n",
       "\n",
       "<p><code>aov</code> is designed for balanced designs, and the results can be\n",
       "hard to interpret without balance: beware that missing values in the\n",
       "response(s) will likely lose the balance.  If there are two or more\n",
       "error strata, the methods used are statistically inefficient without\n",
       "balance, and it may be better to use <code>lme</code> in\n",
       "package <a href=\"https://CRAN.R-project.org/package=nlme\"><span class=\"pkg\">nlme</span></a>.\n",
       "</p>\n",
       "<p>Balance can be checked with the <code>replications</code> function.\n",
       "</p>\n",
       "<p>The default &lsquo;contrasts&rsquo; in <span style=\"font-family: Courier New, Courier; color: #666666;\"><b>R</b></span> are not orthogonal contrasts, and\n",
       "<code>aov</code> and its helper functions will work better with such\n",
       "contrasts: see the examples for how to select these.\n",
       "</p>\n",
       "\n",
       "\n",
       "<h3>Author(s)</h3>\n",
       "\n",
       "<p>The design was inspired by the S function of the same name described\n",
       "in Chambers <em>et al</em> (1992).\n",
       "</p>\n",
       "\n",
       "\n",
       "<h3>References</h3>\n",
       "\n",
       "<p>Chambers, J. M., Freeny, A and Heiberger, R. M. (1992)\n",
       "<em>Analysis of variance; designed experiments.</em>\n",
       "Chapter 5 of <em>Statistical Models in S</em>\n",
       "eds J. M. Chambers and T. J. Hastie, Wadsworth &amp; Brooks/Cole.\n",
       "</p>\n",
       "\n",
       "\n",
       "<h3>See Also</h3>\n",
       "\n",
       "<p><code>lm</code>, <code>summary.aov</code>,\n",
       "<code>replications</code>, <code>alias</code>,\n",
       "<code>proj</code>, <code>model.tables</code>, <code>TukeyHSD</code>\n",
       "</p>\n",
       "\n",
       "\n",
       "<h3>Examples</h3>\n",
       "\n",
       "<pre>\n",
       "## From Venables and Ripley (2002) p.165.\n",
       "\n",
       "## Set orthogonal contrasts.\n",
       "op &lt;- options(contrasts = c(\"contr.helmert\", \"contr.poly\"))\n",
       "( npk.aov &lt;- aov(yield ~ block + N*P*K, npk) )\n",
       "summary(npk.aov)\n",
       "coefficients(npk.aov)\n",
       "\n",
       "## to show the effects of re-ordering terms contrast the two fits\n",
       "aov(yield ~ block + N * P + K, npk)\n",
       "aov(terms(yield ~ block + N * P + K, keep.order = TRUE), npk)\n",
       "\n",
       "\n",
       "## as a test, not particularly sensible statistically\n",
       "npk.aovE &lt;- aov(yield ~  N*P*K + Error(block), npk)\n",
       "npk.aovE\n",
       "## IGNORE_RDIFF_BEGIN\n",
       "summary(npk.aovE)\n",
       "## IGNORE_RDIFF_END\n",
       "options(op)  # reset to previous\n",
       "</pre>\n",
       "\n",
       "<hr /><div style=\"text-align: center;\">[Package <em>stats</em> version 4.1.3 ]</div>"
      ],
      "text/latex": [
       "\\inputencoding{utf8}\n",
       "\\HeaderA{aov}{Fit an Analysis of Variance Model}{aov}\n",
       "\\aliasA{Error}{aov}{Error}\n",
       "\\aliasA{print.aov}{aov}{print.aov}\n",
       "\\aliasA{print.aovlist}{aov}{print.aovlist}\n",
       "\\keyword{models}{aov}\n",
       "\\keyword{regression}{aov}\n",
       "%\n",
       "\\begin{Description}\\relax\n",
       "Fit an analysis of variance model by a call to \\code{lm} for each stratum.\n",
       "\\end{Description}\n",
       "%\n",
       "\\begin{Usage}\n",
       "\\begin{verbatim}\n",
       "aov(formula, data = NULL, projections = FALSE, qr = TRUE,\n",
       "    contrasts = NULL, ...)\n",
       "\\end{verbatim}\n",
       "\\end{Usage}\n",
       "%\n",
       "\\begin{Arguments}\n",
       "\\begin{ldescription}\n",
       "\\item[\\code{formula}] A formula specifying the model.\n",
       "\\item[\\code{data}] A data frame in which the variables specified in the\n",
       "formula will be found. If missing, the variables are searched for in\n",
       "the standard way.\n",
       "\\item[\\code{projections}] Logical flag: should the projections be returned?\n",
       "\\item[\\code{qr}] Logical flag: should the QR decomposition be returned?\n",
       "\\item[\\code{contrasts}] A list of contrasts to be used for some of the factors\n",
       "in the formula. These are not used for any \\code{Error} term, and\n",
       "supplying contrasts for factors only in the \\code{Error} term will give\n",
       "a warning.\n",
       "\\item[\\code{...}] Arguments to be passed to \\code{lm}, such as \\code{subset}\n",
       "or \\code{na.action}.  See `Details' about \\code{weights}.\n",
       "\\end{ldescription}\n",
       "\\end{Arguments}\n",
       "%\n",
       "\\begin{Details}\\relax\n",
       "This provides a wrapper to \\code{lm} for fitting linear models to\n",
       "balanced or unbalanced experimental designs.\n",
       "\n",
       "The main difference from \\code{lm} is in the way \\code{print},\n",
       "\\code{summary} and so on handle the fit: this is expressed in the\n",
       "traditional language of the analysis of variance rather than that of\n",
       "linear models.\n",
       "\n",
       "If the formula contains a single \\code{Error} term, this is used to\n",
       "specify error strata, and appropriate models are fitted within each\n",
       "error stratum.\n",
       "\n",
       "The formula can specify multiple responses.\n",
       "\n",
       "Weights can be specified by a \\code{weights} argument, but should not\n",
       "be used with an \\code{Error} term, and are incompletely supported\n",
       "(e.g., not by \\code{\\LinkA{model.tables}{model.tables}}).\n",
       "\\end{Details}\n",
       "%\n",
       "\\begin{Value}\n",
       "An object of class \\code{c(\"aov\", \"lm\")} or for multiple responses\n",
       "of class \\code{c(\"maov\", \"aov\", \"mlm\", \"lm\")} or for multiple error\n",
       "strata of class \\code{c(\"aovlist\", \"\\LinkA{listof}{listof}\")}.  There are\n",
       "\\code{\\LinkA{print}{print}} and \\code{\\LinkA{summary}{summary}} methods available for these.\n",
       "\\end{Value}\n",
       "%\n",
       "\\begin{Note}\\relax\n",
       "\\code{aov} is designed for balanced designs, and the results can be\n",
       "hard to interpret without balance: beware that missing values in the\n",
       "response(s) will likely lose the balance.  If there are two or more\n",
       "error strata, the methods used are statistically inefficient without\n",
       "balance, and it may be better to use \\code{\\LinkA{lme}{lme}} in\n",
       "package \\Rhref{https://CRAN.R-project.org/package=nlme}{\\pkg{nlme}}.\n",
       "\n",
       "Balance can be checked with the \\code{\\LinkA{replications}{replications}} function.\n",
       "\n",
       "The default `contrasts' in \\R{} are not orthogonal contrasts, and\n",
       "\\code{aov} and its helper functions will work better with such\n",
       "contrasts: see the examples for how to select these.\n",
       "\\end{Note}\n",
       "%\n",
       "\\begin{Author}\\relax\n",
       "The design was inspired by the S function of the same name described\n",
       "in Chambers \\emph{et al} (1992).\n",
       "\\end{Author}\n",
       "%\n",
       "\\begin{References}\\relax\n",
       "Chambers, J. M., Freeny, A and Heiberger, R. M. (1992)\n",
       "\\emph{Analysis of variance; designed experiments.}\n",
       "Chapter 5 of \\emph{Statistical Models in S}\n",
       "eds J. M. Chambers and T. J. Hastie, Wadsworth \\& Brooks/Cole.\n",
       "\\end{References}\n",
       "%\n",
       "\\begin{SeeAlso}\\relax\n",
       "\\code{\\LinkA{lm}{lm}}, \\code{\\LinkA{summary.aov}{summary.aov}},\n",
       "\\code{\\LinkA{replications}{replications}}, \\code{\\LinkA{alias}{alias}},\n",
       "\\code{\\LinkA{proj}{proj}}, \\code{\\LinkA{model.tables}{model.tables}}, \\code{\\LinkA{TukeyHSD}{TukeyHSD}}\n",
       "\\end{SeeAlso}\n",
       "%\n",
       "\\begin{Examples}\n",
       "\\begin{ExampleCode}\n",
       "## From Venables and Ripley (2002) p.165.\n",
       "\n",
       "## Set orthogonal contrasts.\n",
       "op <- options(contrasts = c(\"contr.helmert\", \"contr.poly\"))\n",
       "( npk.aov <- aov(yield ~ block + N*P*K, npk) )\n",
       "summary(npk.aov)\n",
       "coefficients(npk.aov)\n",
       "\n",
       "## to show the effects of re-ordering terms contrast the two fits\n",
       "aov(yield ~ block + N * P + K, npk)\n",
       "aov(terms(yield ~ block + N * P + K, keep.order = TRUE), npk)\n",
       "\n",
       "\n",
       "## as a test, not particularly sensible statistically\n",
       "npk.aovE <- aov(yield ~  N*P*K + Error(block), npk)\n",
       "npk.aovE\n",
       "## IGNORE_RDIFF_BEGIN\n",
       "summary(npk.aovE)\n",
       "## IGNORE_RDIFF_END\n",
       "options(op)  # reset to previous\n",
       "\\end{ExampleCode}\n",
       "\\end{Examples}"
      ],
      "text/plain": [
       "aov                   package:stats                    R Documentation\n",
       "\n",
       "_\bF_\bi_\bt _\ba_\bn _\bA_\bn_\ba_\bl_\by_\bs_\bi_\bs _\bo_\bf _\bV_\ba_\br_\bi_\ba_\bn_\bc_\be _\bM_\bo_\bd_\be_\bl\n",
       "\n",
       "_\bD_\be_\bs_\bc_\br_\bi_\bp_\bt_\bi_\bo_\bn:\n",
       "\n",
       "     Fit an analysis of variance model by a call to 'lm' for each\n",
       "     stratum.\n",
       "\n",
       "_\bU_\bs_\ba_\bg_\be:\n",
       "\n",
       "     aov(formula, data = NULL, projections = FALSE, qr = TRUE,\n",
       "         contrasts = NULL, ...)\n",
       "     \n",
       "_\bA_\br_\bg_\bu_\bm_\be_\bn_\bt_\bs:\n",
       "\n",
       " formula: A formula specifying the model.\n",
       "\n",
       "    data: A data frame in which the variables specified in the formula\n",
       "          will be found. If missing, the variables are searched for in\n",
       "          the standard way.\n",
       "\n",
       "projections: Logical flag: should the projections be returned?\n",
       "\n",
       "      qr: Logical flag: should the QR decomposition be returned?\n",
       "\n",
       "contrasts: A list of contrasts to be used for some of the factors in\n",
       "          the formula. These are not used for any 'Error' term, and\n",
       "          supplying contrasts for factors only in the 'Error' term will\n",
       "          give a warning.\n",
       "\n",
       "     ...: Arguments to be passed to 'lm', such as 'subset' or\n",
       "          'na.action'.  See 'Details' about 'weights'.\n",
       "\n",
       "_\bD_\be_\bt_\ba_\bi_\bl_\bs:\n",
       "\n",
       "     This provides a wrapper to 'lm' for fitting linear models to\n",
       "     balanced or unbalanced experimental designs.\n",
       "\n",
       "     The main difference from 'lm' is in the way 'print', 'summary' and\n",
       "     so on handle the fit: this is expressed in the traditional\n",
       "     language of the analysis of variance rather than that of linear\n",
       "     models.\n",
       "\n",
       "     If the formula contains a single 'Error' term, this is used to\n",
       "     specify error strata, and appropriate models are fitted within\n",
       "     each error stratum.\n",
       "\n",
       "     The formula can specify multiple responses.\n",
       "\n",
       "     Weights can be specified by a 'weights' argument, but should not\n",
       "     be used with an 'Error' term, and are incompletely supported\n",
       "     (e.g., not by 'model.tables').\n",
       "\n",
       "_\bV_\ba_\bl_\bu_\be:\n",
       "\n",
       "     An object of class 'c(\"aov\", \"lm\")' or for multiple responses of\n",
       "     class 'c(\"maov\", \"aov\", \"mlm\", \"lm\")' or for multiple error strata\n",
       "     of class 'c(\"aovlist\", \"listof\")'.  There are 'print' and\n",
       "     'summary' methods available for these.\n",
       "\n",
       "_\bN_\bo_\bt_\be:\n",
       "\n",
       "     'aov' is designed for balanced designs, and the results can be\n",
       "     hard to interpret without balance: beware that missing values in\n",
       "     the response(s) will likely lose the balance.  If there are two or\n",
       "     more error strata, the methods used are statistically inefficient\n",
       "     without balance, and it may be better to use 'lme' in package\n",
       "     'nlme'.\n",
       "\n",
       "     Balance can be checked with the 'replications' function.\n",
       "\n",
       "     The default 'contrasts' in R are not orthogonal contrasts, and\n",
       "     'aov' and its helper functions will work better with such\n",
       "     contrasts: see the examples for how to select these.\n",
       "\n",
       "_\bA_\bu_\bt_\bh_\bo_\br(_\bs):\n",
       "\n",
       "     The design was inspired by the S function of the same name\n",
       "     described in Chambers _et al_ (1992).\n",
       "\n",
       "_\bR_\be_\bf_\be_\br_\be_\bn_\bc_\be_\bs:\n",
       "\n",
       "     Chambers, J. M., Freeny, A and Heiberger, R. M. (1992) _Analysis\n",
       "     of variance; designed experiments._ Chapter 5 of _Statistical\n",
       "     Models in S_ eds J. M. Chambers and T. J. Hastie, Wadsworth &\n",
       "     Brooks/Cole.\n",
       "\n",
       "_\bS_\be_\be _\bA_\bl_\bs_\bo:\n",
       "\n",
       "     'lm', 'summary.aov', 'replications', 'alias', 'proj',\n",
       "     'model.tables', 'TukeyHSD'\n",
       "\n",
       "_\bE_\bx_\ba_\bm_\bp_\bl_\be_\bs:\n",
       "\n",
       "     ## From Venables and Ripley (2002) p.165.\n",
       "     \n",
       "     ## Set orthogonal contrasts.\n",
       "     op <- options(contrasts = c(\"contr.helmert\", \"contr.poly\"))\n",
       "     ( npk.aov <- aov(yield ~ block + N*P*K, npk) )\n",
       "     summary(npk.aov)\n",
       "     coefficients(npk.aov)\n",
       "     \n",
       "     ## to show the effects of re-ordering terms contrast the two fits\n",
       "     aov(yield ~ block + N * P + K, npk)\n",
       "     aov(terms(yield ~ block + N * P + K, keep.order = TRUE), npk)\n",
       "     \n",
       "     \n",
       "     ## as a test, not particularly sensible statistically\n",
       "     npk.aovE <- aov(yield ~  N*P*K + Error(block), npk)\n",
       "     npk.aovE\n",
       "     ## IGNORE_RDIFF_BEGIN\n",
       "     summary(npk.aovE)\n",
       "     ## IGNORE_RDIFF_END\n",
       "     options(op)  # reset to previous\n",
       "     "
      ]
     },
     "metadata": {},
     "output_type": "display_data"
    }
   ],
   "source": [
    "help(aov)"
   ]
  },
  {
   "cell_type": "code",
   "execution_count": 2,
   "metadata": {},
   "outputs": [
    {
     "data": {
      "text/plain": [
       "             Df Sum Sq Mean Sq F value Pr(>F)    \n",
       "Species       2  11.35   5.672   49.16 <2e-16 ***\n",
       "Residuals   147  16.96   0.115                   \n",
       "---\n",
       "Signif. codes:  0 '***' 0.001 '**' 0.01 '*' 0.05 '.' 0.1 ' ' 1"
      ]
     },
     "metadata": {},
     "output_type": "display_data"
    }
   ],
   "source": [
    "ANOVA <- aov(Sepal.Width ~ Species, data=iris) # (DV ~ IV, data=dataset)\n",
    "summary(ANOVA) # View results of the ANOVA test"
   ]
  },
  {
   "cell_type": "markdown",
   "metadata": {},
   "source": [
    "We can see that the p-value is less than our alpha 0.05 significance level we've chosen, which means we reject the null hypothesis that the differences between the means are not statistically significant and instead accept the alternative hypothesis that the differences between at least one of the means is statistically significant. Our extremely low p-value means that there is a 0.00000000000002% chance we are wrong in our decision to reject the null hypothesis.  Next, we'll run post-hoc tests, such as Tukey's Honest Significant Difference test, to determine which species have significantly different means."
   ]
  },
  {
   "cell_type": "markdown",
   "metadata": {},
   "source": [
    "- if p.value > alpha => H0 is valid and if we have found some differences in the distribution it depends only on casuality\n",
    "- if p.value < alpha => H0 is not valid and we accept the alternative hypotesis."
   ]
  },
  {
   "cell_type": "markdown",
   "metadata": {},
   "source": [
    "remember: The relationship between two variances is described by a F distribution. F is the ratio of between-goup/within-goup variance. \n",
    "\n",
    "This value will be approximately equal to 1 if H0  is correct, and will tend to be larger if H0 is not true"
   ]
  },
  {
   "cell_type": "markdown",
   "metadata": {
    "tags": []
   },
   "source": [
    "### so once rejected the null hypothesis, the question is what means that the differences between spices is statistically significatnt? Lets use the Turkey's Honest Test"
   ]
  },
  {
   "cell_type": "markdown",
   "metadata": {},
   "source": [
    "## Post-hoc Tests\n",
    "### Tukey's Honest Significant Difference Test\n",
    "Performing this test is easy as it requires only one line. We pass in our ANOVA object to the TukeyHSD function."
   ]
  },
  {
   "cell_type": "code",
   "execution_count": 8,
   "metadata": {},
   "outputs": [
    {
     "data": {
      "text/plain": [
       "  Tukey multiple comparisons of means\n",
       "    95% family-wise confidence level\n",
       "\n",
       "Fit: aov(formula = Sepal.Width ~ Species, data = iris)\n",
       "\n",
       "$Species\n",
       "                       diff         lwr        upr     p adj\n",
       "versicolor-setosa    -0.658 -0.81885528 -0.4971447 0.0000000\n",
       "virginica-setosa     -0.454 -0.61485528 -0.2931447 0.0000000\n",
       "virginica-versicolor  0.204  0.04314472  0.3648553 0.0087802\n"
      ]
     },
     "metadata": {},
     "output_type": "display_data"
    }
   ],
   "source": [
    "T <- TukeyHSD(ANOVA)\n",
    "T"
   ]
  },
  {
   "cell_type": "markdown",
   "metadata": {},
   "source": [
    "This output indicates that the differences versicolor-setosa, virginica-setosa and virginica-versicolor are significant."
   ]
  },
  {
   "cell_type": "markdown",
   "metadata": {},
   "source": [
    "Using an alpha of 0.05, we can see that the p adj value is less than our alpha in all three pairwise comparisons meaning there is a significant difference between all three species' means. We can use the mosaic package to visualize the results of TukeyHSD. We pass the TukeyHSD() function into the mplot() function."
   ]
  },
  {
   "cell_type": "markdown",
   "metadata": {},
   "source": [
    " A more “easy” way to interpret this output is visualizing the confidence intervals for the mean differences."
   ]
  },
  {
   "cell_type": "code",
   "execution_count": 9,
   "metadata": {},
   "outputs": [
    {
     "data": {
      "image/png": "[encoded data removed]",
      "text/plain": [
       "Plot with title \"95% family-wise confidence level\n",
       "\""
      ]
     },
     "metadata": {
      "image/png": {
       "height": 420,
       "width": 420
      }
     },
     "output_type": "display_data"
    }
   ],
   "source": [
    "plot(T)\n"
   ]
  },
  {
   "cell_type": "code",
   "execution_count": 10,
   "metadata": {},
   "outputs": [
    {
     "data": {
      "image/png": "[encoded data removed]",
      "text/plain": [
       "plot without title"
      ]
     },
     "metadata": {
      "image/png": {
       "height": 420,
       "width": 420
      }
     },
     "output_type": "display_data"
    }
   ],
   "source": [
    "mplot(TukeyHSD(ANOVA), system=\"ggplot\") # Use the mosaic package to plot the results of TukeyHSD"
   ]
  },
  {
   "cell_type": "markdown",
   "metadata": {},
   "source": [
    "### Pairwise T-Test\n",
    "If you prefer to do t-tests, you can use the following method to perform pairwise t-tests on all your factor levels. The pairwise.t.test() function allows you to choose between eight p-value adjustments to help counteract the problem of multiple comparisons: holm, hochberg, hommel, bonferroni, BH, BY, fdr, and none. To reduce the chance of incorrectly rejecting our null hypothesis (Type I error) we'll use the [Bonferroni correction](https://en.wikipedia.org/wiki/Bonferroni_correction) method when performing our multiple comparisons."
   ]
  },
  {
   "cell_type": "code",
   "execution_count": 11,
   "metadata": {},
   "outputs": [
    {
     "data": {
      "text/plain": [
       "\n",
       "\tPairwise comparisons using t tests with pooled SD \n",
       "\n",
       "data:  iris$Sepal.Width and iris$Species \n",
       "\n",
       "           setosa  versicolor\n",
       "versicolor < 2e-16 -         \n",
       "virginica  1.4e-09 0.0094    \n",
       "\n",
       "P value adjustment method: bonferroni "
      ]
     },
     "metadata": {},
     "output_type": "display_data"
    }
   ],
   "source": [
    "pairwise.t.test(iris$Sepal.Width, iris$Species, \n",
    "                p.adj=\"bonferroni\", paired=FALSE)"
   ]
  },
  {
   "cell_type": "markdown",
   "metadata": {},
   "source": [
    "Our t-test comparisons show that all three species' means are significantly different because all p-values are less than our 0.05 alpha."
   ]
  },
  {
   "cell_type": "markdown",
   "metadata": {},
   "source": [
    "## References"
   ]
  },
  {
   "cell_type": "markdown",
   "metadata": {},
   "source": [
    "1. [One-way ANOVAs in R – including post-hocs/t-tests and graphs](https://www.r-bloggers.com/one-way-anovas-in-r-–-including-post-hocst-tests-and-graphs/) by Hayward Godwin\n",
    "2. [What is ANOVA?](http://support.minitab.com/en-us/minitab/17/topic-library/modeling-statistics/anova/basics/what-is-anova/) by Minitab\n",
    "3. [Analysis of variance](https://en.wikipedia.org/wiki/Analysis_of_variance) by Wikipedia\n",
    "4. [Iris flower data set](https://en.wikipedia.org/wiki/Iris_flower_data_set) by Wikipedia\n",
    "5. [Tukey's range test](https://en.wikipedia.org/wiki/Tukey%27s_range_test) by Wikipedia\n",
    "6. [ANOVA and Tukey’s test on R](https://www.r-bloggers.com/anova-and-tukeys-test-on-r/) by Flavio Barros\n",
    "7. [Graphics with the mosaic package](https://cran.r-project.org/web/packages/mosaic/vignettes/GraphicsWithMosaic.html) by Randall Pruim\n",
    "8. [Bonferroni correction](https://en.wikipedia.org/wiki/Bonferroni_correction) by Wikipedia"
   ]
  }
 ],
 "metadata": {
  "kernelspec": {
   "display_name": "R",
   "language": "R",
   "name": "ir"
  },
  "language_info": {
   "codemirror_mode": "r",
   "file_extension": ".r",
   "mimetype": "text/x-r-source",
   "name": "R",
   "pygments_lexer": "r",
   "version": "4.1.3"
  }
 },
 "nbformat": 4,
 "nbformat_minor": 4
}
