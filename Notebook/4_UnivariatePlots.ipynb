{
 "cells": [
  {
   "cell_type": "markdown",
   "id": "b6bdc10b-c16f-4fd6-81f4-5b5e7a442318",
   "metadata": {
    "tags": []
   },
   "source": [
    "# Basic Graphics for univariate data"
   ]
  },
  {
   "cell_type": "markdown",
   "id": "a35b34e7-f2a0-4d3e-88b2-86a95173bb65",
   "metadata": {},
   "source": [
    "Let's Introduce first plotting functions independently from univariate or bivariate distribution"
   ]
  },
  {
   "cell_type": "markdown",
   "id": "849b5c9c-cb37-4ddc-83fd-90ce51855fbb",
   "metadata": {},
   "source": [
    "## 1. Plot Data\n",
    "\n",
    "Basic graphics of data for visual interpretation is based on command plot().\n",
    "It adapts itself to datatype!"
   ]
  },
  {
   "cell_type": "code",
   "execution_count": 1,
   "id": "7ebc48de-2807-4d8c-bde4-1846d8219dd5",
   "metadata": {},
   "outputs": [],
   "source": [
    "# load default dataset\n",
    "# library(dataset)"
   ]
  },
  {
   "cell_type": "code",
   "execution_count": 2,
   "id": "edc8819b-c0fe-49af-9039-becc56da01fd",
   "metadata": {
    "tags": []
   },
   "outputs": [
    {
     "data": {
      "text/html": [
       "<table class=\"dataframe\">\n",
       "<caption>A data.frame: 6 × 5</caption>\n",
       "<thead>\n",
       "\t<tr><th></th><th scope=col>Sepal.Length</th><th scope=col>Sepal.Width</th><th scope=col>Petal.Length</th><th scope=col>Petal.Width</th><th scope=col>Species</th></tr>\n",
       "\t<tr><th></th><th scope=col>&lt;dbl&gt;</th><th scope=col>&lt;dbl&gt;</th><th scope=col>&lt;dbl&gt;</th><th scope=col>&lt;dbl&gt;</th><th scope=col>&lt;fct&gt;</th></tr>\n",
       "</thead>\n",
       "<tbody>\n",
       "\t<tr><th scope=row>1</th><td>5.1</td><td>3.5</td><td>1.4</td><td>0.2</td><td>setosa</td></tr>\n",
       "\t<tr><th scope=row>2</th><td>4.9</td><td>3.0</td><td>1.4</td><td>0.2</td><td>setosa</td></tr>\n",
       "\t<tr><th scope=row>3</th><td>4.7</td><td>3.2</td><td>1.3</td><td>0.2</td><td>setosa</td></tr>\n",
       "\t<tr><th scope=row>4</th><td>4.6</td><td>3.1</td><td>1.5</td><td>0.2</td><td>setosa</td></tr>\n",
       "\t<tr><th scope=row>5</th><td>5.0</td><td>3.6</td><td>1.4</td><td>0.2</td><td>setosa</td></tr>\n",
       "\t<tr><th scope=row>6</th><td>5.4</td><td>3.9</td><td>1.7</td><td>0.4</td><td>setosa</td></tr>\n",
       "</tbody>\n",
       "</table>\n"
      ],
      "text/latex": [
       "A data.frame: 6 × 5\n",
       "\\begin{tabular}{r|lllll}\n",
       "  & Sepal.Length & Sepal.Width & Petal.Length & Petal.Width & Species\\\\\n",
       "  & <dbl> & <dbl> & <dbl> & <dbl> & <fct>\\\\\n",
       "\\hline\n",
       "\t1 & 5.1 & 3.5 & 1.4 & 0.2 & setosa\\\\\n",
       "\t2 & 4.9 & 3.0 & 1.4 & 0.2 & setosa\\\\\n",
       "\t3 & 4.7 & 3.2 & 1.3 & 0.2 & setosa\\\\\n",
       "\t4 & 4.6 & 3.1 & 1.5 & 0.2 & setosa\\\\\n",
       "\t5 & 5.0 & 3.6 & 1.4 & 0.2 & setosa\\\\\n",
       "\t6 & 5.4 & 3.9 & 1.7 & 0.4 & setosa\\\\\n",
       "\\end{tabular}\n"
      ],
      "text/markdown": [
       "\n",
       "A data.frame: 6 × 5\n",
       "\n",
       "| <!--/--> | Sepal.Length &lt;dbl&gt; | Sepal.Width &lt;dbl&gt; | Petal.Length &lt;dbl&gt; | Petal.Width &lt;dbl&gt; | Species &lt;fct&gt; |\n",
       "|---|---|---|---|---|---|\n",
       "| 1 | 5.1 | 3.5 | 1.4 | 0.2 | setosa |\n",
       "| 2 | 4.9 | 3.0 | 1.4 | 0.2 | setosa |\n",
       "| 3 | 4.7 | 3.2 | 1.3 | 0.2 | setosa |\n",
       "| 4 | 4.6 | 3.1 | 1.5 | 0.2 | setosa |\n",
       "| 5 | 5.0 | 3.6 | 1.4 | 0.2 | setosa |\n",
       "| 6 | 5.4 | 3.9 | 1.7 | 0.4 | setosa |\n",
       "\n"
      ],
      "text/plain": [
       "  Sepal.Length Sepal.Width Petal.Length Petal.Width Species\n",
       "1 5.1          3.5         1.4          0.2         setosa \n",
       "2 4.9          3.0         1.4          0.2         setosa \n",
       "3 4.7          3.2         1.3          0.2         setosa \n",
       "4 4.6          3.1         1.5          0.2         setosa \n",
       "5 5.0          3.6         1.4          0.2         setosa \n",
       "6 5.4          3.9         1.7          0.4         setosa "
      ]
     },
     "metadata": {},
     "output_type": "display_data"
    }
   ],
   "source": [
    "#iris dataset: characteristics of petals for 3 species of Iris flower\n",
    "# ?iris\n",
    "head(iris) #show the first six lines of iris dataset\n"
   ]
  },
  {
   "cell_type": "markdown",
   "id": "21ccecd5-559a-48eb-a30a-007f7a4425d5",
   "metadata": {},
   "source": [
    "For univariate data the indeces of dispersion are:\n",
    "- range\n",
    "- interquartile range (IQR)\n",
    "- variance\n",
    "- etc\n",
    "\n",
    "Let's use summary() function and lets plot the scatterplot\n",
    "\n",
    "n.b. for categirical data we have only counting index"
   ]
  },
  {
   "cell_type": "code",
   "execution_count": 3,
   "id": "d69ceb1c-60b7-48bf-ba41-de3f7fe2302c",
   "metadata": {
    "tags": []
   },
   "outputs": [
    {
     "data": {
      "text/plain": [
       "  Sepal.Length    Sepal.Width     Petal.Length    Petal.Width   \n",
       " Min.   :4.300   Min.   :2.000   Min.   :1.000   Min.   :0.100  \n",
       " 1st Qu.:5.100   1st Qu.:2.800   1st Qu.:1.600   1st Qu.:0.300  \n",
       " Median :5.800   Median :3.000   Median :4.350   Median :1.300  \n",
       " Mean   :5.843   Mean   :3.057   Mean   :3.758   Mean   :1.199  \n",
       " 3rd Qu.:6.400   3rd Qu.:3.300   3rd Qu.:5.100   3rd Qu.:1.800  \n",
       " Max.   :7.900   Max.   :4.400   Max.   :6.900   Max.   :2.500  \n",
       "       Species  \n",
       " setosa    :50  \n",
       " versicolor:50  \n",
       " virginica :50  \n",
       "                \n",
       "                \n",
       "                "
      ]
     },
     "metadata": {},
     "output_type": "display_data"
    },
    {
     "data": {
      "image/png": "[encoded data removed]",
      "text/plain": [
       "plot without title"
      ]
     },
     "metadata": {
      "image/png": {
       "height": 420,
       "width": 420
      }
     },
     "output_type": "display_data"
    }
   ],
   "source": [
    "summary(iris) #summary statistics of iris data\n",
    "plot(iris) #scatter matrix for iris data"
   ]
  },
  {
   "cell_type": "code",
   "execution_count": 4,
   "id": "3431b377-9370-4ec7-a067-cb7b67a18276",
   "metadata": {
    "tags": []
   },
   "outputs": [
    {
     "data": {
      "text/html": [
       "\n",
       "<table width=\"100%\" summary=\"page for plot.default {graphics}\"><tr><td>plot.default {graphics}</td><td style=\"text-align: right;\">R Documentation</td></tr></table>\n",
       "\n",
       "<h2>The Default Scatterplot Function</h2>\n",
       "\n",
       "<h3>Description</h3>\n",
       "\n",
       "<p>Draw a scatter plot with decorations such as axes and titles\n",
       "in the active graphics window.\n",
       "</p>\n",
       "\n",
       "\n",
       "<h3>Usage</h3>\n",
       "\n",
       "<pre>\n",
       "## Default S3 method:\n",
       "plot(x, y = NULL, type = \"p\",  xlim = NULL, ylim = NULL,\n",
       "     log = \"\", main = NULL, sub = NULL, xlab = NULL, ylab = NULL,\n",
       "     ann = par(\"ann\"), axes = TRUE, frame.plot = axes,\n",
       "     panel.first = NULL, panel.last = NULL, asp = NA,\n",
       "     xgap.axis = NA, ygap.axis = NA,\n",
       "     ...)\n",
       "</pre>\n",
       "\n",
       "\n",
       "<h3>Arguments</h3>\n",
       "\n",
       "<table summary=\"R argblock\">\n",
       "<tr valign=\"top\"><td><code>x, y</code></td>\n",
       "<td>\n",
       "<p>the <code>x</code> and <code>y</code> arguments provide the x and y\n",
       "coordinates for the plot.  Any reasonable way of defining the\n",
       "coordinates is acceptable.  See the function <code>xy.coords</code>\n",
       "for details.  If supplied separately, they must be of the same length.</p>\n",
       "</td></tr>\n",
       "<tr valign=\"top\"><td><code>type</code></td>\n",
       "<td>\n",
       "<p>1-character string giving the type of plot desired.  The\n",
       "following values are possible, for details, see <code>plot</code>:\n",
       "<code>\"p\"</code> for points, <code>\"l\"</code> for lines,\n",
       "<code>\"b\"</code> for both points and lines,\n",
       "<code>\"c\"</code> for empty points joined by lines,\n",
       "<code>\"o\"</code> for overplotted points and lines,\n",
       "<code>\"s\"</code> and <code>\"S\"</code> for stair steps and\n",
       "<code>\"h\"</code> for histogram-like vertical lines.  Finally,\n",
       "<code>\"n\"</code> does not produce any points or lines.</p>\n",
       "</td></tr>\n",
       "<tr valign=\"top\"><td><code>xlim</code></td>\n",
       "<td>\n",
       "<p>the x limits (x1, x2) of the plot.  Note that <code>x1 &gt; x2</code>\n",
       "is allowed and leads to a &lsquo;reversed axis&rsquo;.\n",
       "</p>\n",
       "<p>The default value, <code>NULL</code>, indicates that the range of the\n",
       "finite values to be plotted should be used.</p>\n",
       "</td></tr>\n",
       "<tr valign=\"top\"><td><code>ylim</code></td>\n",
       "<td>\n",
       "<p>the y limits of the plot.</p>\n",
       "</td></tr>\n",
       "<tr valign=\"top\"><td><code>log</code></td>\n",
       "<td>\n",
       "<p>a character string which contains <code>\"x\"</code> if the x axis\n",
       "is to be logarithmic, <code>\"y\"</code> if the y axis is to be logarithmic\n",
       "and <code>\"xy\"</code> or <code>\"yx\"</code> if both axes are to be logarithmic.</p>\n",
       "</td></tr>\n",
       "<tr valign=\"top\"><td><code>main</code></td>\n",
       "<td>\n",
       "<p>a main title for the plot, see also <code>title</code>.</p>\n",
       "</td></tr>\n",
       "<tr valign=\"top\"><td><code>sub</code></td>\n",
       "<td>\n",
       "<p>a sub title for the plot.</p>\n",
       "</td></tr>\n",
       "<tr valign=\"top\"><td><code>xlab</code></td>\n",
       "<td>\n",
       "<p>a label for the x axis, defaults to a description of <code>x</code>.</p>\n",
       "</td></tr>\n",
       "<tr valign=\"top\"><td><code>ylab</code></td>\n",
       "<td>\n",
       "<p>a label for the y axis, defaults to a description of <code>y</code>.</p>\n",
       "</td></tr>\n",
       "<tr valign=\"top\"><td><code>ann</code></td>\n",
       "<td>\n",
       "<p>a logical value indicating whether the default annotation\n",
       "(title and x and y axis labels) should appear on the plot.</p>\n",
       "</td></tr>\n",
       "<tr valign=\"top\"><td><code>axes</code></td>\n",
       "<td>\n",
       "<p>a logical value indicating whether both axes should be drawn on\n",
       "the plot.  Use graphical parameter <code>\"xaxt\"</code> or <code>\"yaxt\"</code>\n",
       "to suppress just one of the axes.</p>\n",
       "</td></tr>\n",
       "<tr valign=\"top\"><td><code>frame.plot</code></td>\n",
       "<td>\n",
       "<p>a logical indicating whether a box should be drawn\n",
       "around the plot.</p>\n",
       "</td></tr>\n",
       "<tr valign=\"top\"><td><code>panel.first</code></td>\n",
       "<td>\n",
       "<p>an &lsquo;expression&rsquo; to be evaluated after the\n",
       "plot axes are set up but before any plotting takes place.  This can\n",
       "be useful for drawing background grids or scatterplot smooths.  Note\n",
       "that this works by lazy evaluation: passing this argument from other\n",
       "<code>plot</code> methods may well not work since it may be evaluated too\n",
       "early.</p>\n",
       "</td></tr>\n",
       "<tr valign=\"top\"><td><code>panel.last</code></td>\n",
       "<td>\n",
       "<p>an expression to be evaluated after plotting has\n",
       "taken place but before the axes, title and box are added.  See the\n",
       "comments about <code>panel.first</code>.</p>\n",
       "</td></tr>\n",
       "<tr valign=\"top\"><td><code>asp</code></td>\n",
       "<td>\n",
       "<p>the <i>y/x</i> aspect ratio, see <code>plot.window</code>.</p>\n",
       "</td></tr>\n",
       "<tr valign=\"top\"><td><code>xgap.axis, ygap.axis</code></td>\n",
       "<td>\n",
       "<p>the <i>x/y</i> axis gap factors, passed as\n",
       "<code>gap.axis</code> to the two <code>axis()</code> calls (when\n",
       "<code>axes</code> is true, as per default).</p>\n",
       "</td></tr>\n",
       "<tr valign=\"top\"><td><code>...</code></td>\n",
       "<td>\n",
       "<p>other graphical parameters (see <code>par</code> and\n",
       "section &lsquo;Details&rsquo; below).</p>\n",
       "</td></tr>\n",
       "</table>\n",
       "\n",
       "\n",
       "<h3>Details</h3>\n",
       "\n",
       "<p>Commonly used graphical parameters are:\n",
       "</p>\n",
       "\n",
       "<dl>\n",
       "<dt><code>col</code></dt><dd><p>The colors for lines and points.  Multiple colors can be\n",
       "specified so that each point can be given its own color.  If there\n",
       "are fewer colors than points they are recycled in the standard\n",
       "fashion.  Lines will all be plotted in the first colour specified.</p>\n",
       "</dd>\n",
       "<dt><code>bg</code></dt><dd><p>a vector of background colors for open plot symbols, see\n",
       "<code>points</code>.  Note: this is <b>not</b> the same setting\n",
       "as <code>par(\"bg\")</code>.</p>\n",
       "</dd>\n",
       "<dt><code>pch</code></dt><dd><p>a vector of plotting characters or symbols:\n",
       "see <code>points</code>.</p>\n",
       "</dd>\n",
       "<dt><code>cex</code></dt><dd><p>a numerical vector giving the amount by which\n",
       "plotting characters and symbols should be scaled relative to the\n",
       "default.  This works as a multiple of <code>par(\"cex\")</code>.\n",
       "<code>NULL</code> and <code>NA</code> are equivalent to <code>1.0</code>.  Note that\n",
       "this does not affect annotation: see below.</p>\n",
       "</dd>\n",
       "<dt><code>lty</code></dt><dd><p>a vector of line types, see <code>par</code>.</p>\n",
       "</dd>\n",
       "<dt><code>cex.main</code>, <code>col.lab</code>, <code>font.sub</code>,\n",
       "etc</dt><dd><p>settings for main- and sub-title and axis annotation, see\n",
       "<code>title</code> and <code>par</code>.</p>\n",
       "</dd>\n",
       "<dt><code>lwd</code></dt><dd><p>a vector of line widths, see <code>par</code>.</p>\n",
       "</dd>\n",
       "</dl>\n",
       "\n",
       "\n",
       "\n",
       "<h3>Note</h3>\n",
       "\n",
       "<p>The presence of <code>panel.first</code> and <code>panel.last</code> is a\n",
       "historical anomaly: default plots do not have &lsquo;panels&rsquo;, unlike\n",
       "e.g. <code>pairs</code> plots.  For more control, use lower-level\n",
       "plotting functions: <code>plot.default</code> calls in turn some of\n",
       "<code>plot.new</code>, <code>plot.window</code>,\n",
       "<code>plot.xy</code>, <code>axis</code>, <code>box</code> and\n",
       "<code>title</code>, and plots can be built up by calling these\n",
       "individually, or by calling <code>plot(type = \"n\")</code> and adding further\n",
       "elements.\n",
       "</p>\n",
       "<p>The <code>plot</code> generic was moved from the <span class=\"pkg\">graphics</span> package to\n",
       "the <span class=\"pkg\">base</span> package in <span style=\"font-family: Courier New, Courier; color: #666666;\"><b>R</b></span> 4.0.0. It is currently re-exported from\n",
       "the <span class=\"pkg\">graphics</span> namespace to allow packages importing it from there\n",
       "to continue working, but this may change in future versions of <span style=\"font-family: Courier New, Courier; color: #666666;\"><b>R</b></span>.\n",
       "</p>\n",
       "\n",
       "\n",
       "<h3>References</h3>\n",
       "\n",
       "<p>Becker, R. A., Chambers, J. M. and Wilks, A. R. (1988)\n",
       "<em>The New S Language</em>.\n",
       "Wadsworth &amp; Brooks/Cole.\n",
       "</p>\n",
       "<p>Cleveland, W. S. (1985)\n",
       "<em>The Elements of Graphing Data.</em>\n",
       "Monterey, CA: Wadsworth.\n",
       "</p>\n",
       "<p>Murrell, P. (2005) <em>R Graphics</em>. Chapman &amp; Hall/CRC Press.\n",
       "</p>\n",
       "\n",
       "\n",
       "<h3>See Also</h3>\n",
       "\n",
       "<p><code>plot</code>, <code>plot.window</code>, <code>xy.coords</code>.\n",
       "For thousands of points, consider using <code>smoothScatter</code>\n",
       "instead.\n",
       "</p>\n",
       "\n",
       "\n",
       "<h3>Examples</h3>\n",
       "\n",
       "<pre>\n",
       "Speed &lt;- cars$speed\n",
       "Distance &lt;- cars$dist\n",
       "plot(Speed, Distance, panel.first = grid(8, 8),\n",
       "     pch = 0, cex = 1.2, col = \"blue\")\n",
       "plot(Speed, Distance,\n",
       "     panel.first = lines(stats::lowess(Speed, Distance), lty = \"dashed\"),\n",
       "     pch = 0, cex = 1.2, col = \"blue\")\n",
       "\n",
       "## Show the different plot types\n",
       "x &lt;- 0:12\n",
       "y &lt;- sin(pi/5 * x)\n",
       "op &lt;- par(mfrow = c(3,3), mar = .1+ c(2,2,3,1))\n",
       "for (tp in c(\"p\",\"l\",\"b\",  \"c\",\"o\",\"h\",  \"s\",\"S\",\"n\")) {\n",
       "   plot(y ~ x, type = tp, main = paste0(\"plot(*, type = \\\"\", tp, \"\\\")\"))\n",
       "   if(tp == \"S\") {\n",
       "      lines(x, y, type = \"s\", col = \"red\", lty = 2)\n",
       "      mtext(\"lines(*, type = \\\"s\\\", ...)\", col = \"red\", cex = 0.8)\n",
       "   }\n",
       "}\n",
       "par(op)\n",
       "\n",
       "##--- Log-Log Plot  with  custom axes\n",
       "lx &lt;- seq(1, 5, length.out = 41)\n",
       "yl &lt;- expression(e^{-frac(1,2) * {log[10](x)}^2})\n",
       "y &lt;- exp(-.5*lx^2)\n",
       "op &lt;- par(mfrow = c(2,1), mar = par(\"mar\")-c(1,0,2,0), mgp = c(2, .7, 0))\n",
       "plot(10^lx, y, log = \"xy\", type = \"l\", col = \"purple\",\n",
       "     main = \"Log-Log plot\", ylab = yl, xlab = \"x\")\n",
       "plot(10^lx, y, log = \"xy\", type = \"o\", pch = \".\", col = \"forestgreen\",\n",
       "     main = \"Log-Log plot with custom axes\", ylab = yl, xlab = \"x\",\n",
       "     axes = FALSE, frame.plot = TRUE)\n",
       "my.at &lt;- 10^(1:5)\n",
       "axis(1, at = my.at, labels = formatC(my.at, format = \"fg\"))\n",
       "e.y &lt;- -5:-1 ; at.y &lt;- 10^e.y\n",
       "axis(2, at = at.y, col.axis = \"red\", las = 1,\n",
       "     labels = as.expression(lapply(e.y, function(E) bquote(10^.(E)))))\n",
       "par(op)\n",
       "</pre>\n",
       "\n",
       "<hr /><div style=\"text-align: center;\">[Package <em>graphics</em> version 4.1.3 ]</div>"
      ],
      "text/latex": [
       "\\inputencoding{utf8}\n",
       "\\HeaderA{plot.default}{The Default Scatterplot Function}{plot.default}\n",
       "\\aliasA{plot}{plot.default}{plot}\n",
       "\\keyword{hplot}{plot.default}\n",
       "%\n",
       "\\begin{Description}\\relax\n",
       "Draw a scatter plot with decorations such as axes and titles\n",
       "in the active graphics window.\n",
       "\\end{Description}\n",
       "%\n",
       "\\begin{Usage}\n",
       "\\begin{verbatim}\n",
       "## Default S3 method:\n",
       "plot(x, y = NULL, type = \"p\",  xlim = NULL, ylim = NULL,\n",
       "     log = \"\", main = NULL, sub = NULL, xlab = NULL, ylab = NULL,\n",
       "     ann = par(\"ann\"), axes = TRUE, frame.plot = axes,\n",
       "     panel.first = NULL, panel.last = NULL, asp = NA,\n",
       "     xgap.axis = NA, ygap.axis = NA,\n",
       "     ...)\n",
       "\\end{verbatim}\n",
       "\\end{Usage}\n",
       "%\n",
       "\\begin{Arguments}\n",
       "\\begin{ldescription}\n",
       "\\item[\\code{x, y}] the \\code{x} and \\code{y} arguments provide the x and y\n",
       "coordinates for the plot.  Any reasonable way of defining the\n",
       "coordinates is acceptable.  See the function \\code{\\LinkA{xy.coords}{xy.coords}}\n",
       "for details.  If supplied separately, they must be of the same length.\n",
       "\\item[\\code{type}] 1-character string giving the type of plot desired.  The\n",
       "following values are possible, for details, see \\code{\\LinkA{plot}{plot}}:\n",
       "\\code{\"p\"} for points, \\code{\"l\"} for lines,\n",
       "\\code{\"b\"} for both points and lines,\n",
       "\\code{\"c\"} for empty points joined by lines,\n",
       "\\code{\"o\"} for overplotted points and lines,\n",
       "\\code{\"s\"} and \\code{\"S\"} for stair steps and\n",
       "\\code{\"h\"} for histogram-like vertical lines.  Finally,\n",
       "\\code{\"n\"} does not produce any points or lines.\n",
       "\\item[\\code{xlim}] the x limits (x1, x2) of the plot.  Note that \\code{x1 > x2}\n",
       "is allowed and leads to a `reversed axis'.\n",
       "\n",
       "The default value, \\code{NULL}, indicates that the range of the\n",
       "\\LinkA{finite}{finite} values to be plotted should be used.\n",
       "\\item[\\code{ylim}] the y limits of the plot.\n",
       "\\item[\\code{log}] a character string which contains \\code{\"x\"} if the x axis\n",
       "is to be logarithmic, \\code{\"y\"} if the y axis is to be logarithmic\n",
       "and \\code{\"xy\"} or \\code{\"yx\"} if both axes are to be logarithmic.\n",
       "\n",
       "\\item[\\code{main}] a main title for the plot, see also \\code{\\LinkA{title}{title}}.\n",
       "\\item[\\code{sub}] a sub title for the plot.\n",
       "\\item[\\code{xlab}] a label for the x axis, defaults to a description of \\code{x}.\n",
       "\\item[\\code{ylab}] a label for the y axis, defaults to a description of \\code{y}.\n",
       "\n",
       "\\item[\\code{ann}] a logical value indicating whether the default annotation\n",
       "(title and x and y axis labels) should appear on the plot.\n",
       "\\item[\\code{axes}] a logical value indicating whether both axes should be drawn on\n",
       "the plot.  Use \\LinkA{graphical parameter}{graphical parameter} \\code{\"xaxt\"} or \\code{\"yaxt\"}\n",
       "to suppress just one of the axes.\n",
       "\\item[\\code{frame.plot}] a logical indicating whether a box should be drawn\n",
       "around the plot.\n",
       "\n",
       "\\item[\\code{panel.first}] an `expression' to be evaluated after the\n",
       "plot axes are set up but before any plotting takes place.  This can\n",
       "be useful for drawing background grids or scatterplot smooths.  Note\n",
       "that this works by lazy evaluation: passing this argument from other\n",
       "\\code{plot} methods may well not work since it may be evaluated too\n",
       "early.\n",
       "\n",
       "\\item[\\code{panel.last}] an expression to be evaluated after plotting has\n",
       "taken place but before the axes, title and box are added.  See the\n",
       "comments about \\code{panel.first}.\n",
       "\n",
       "\\item[\\code{asp}] the \\eqn{y/x}{} aspect ratio, see \\code{\\LinkA{plot.window}{plot.window}}.\n",
       "\n",
       "\\item[\\code{xgap.axis, ygap.axis}] the \\eqn{x/y}{} axis gap factors, passed as\n",
       "\\code{gap.axis} to the two \\code{\\LinkA{axis}{axis}()} calls (when\n",
       "\\code{axes} is true, as per default).\n",
       "\n",
       "\\item[\\code{...}] other \\LinkA{graphical parameters}{graphical parameters} (see \\code{\\LinkA{par}{par}} and\n",
       "section `Details' below).\n",
       "\\end{ldescription}\n",
       "\\end{Arguments}\n",
       "%\n",
       "\\begin{Details}\\relax\n",
       "Commonly used \\LinkA{graphical parameters}{graphical parameters} are:\n",
       "\\begin{description}\n",
       "\n",
       "\\item[\\code{col}] The colors for lines and points.  Multiple colors can be\n",
       "specified so that each point can be given its own color.  If there\n",
       "are fewer colors than points they are recycled in the standard\n",
       "fashion.  Lines will all be plotted in the first colour specified.\n",
       "\\item[\\code{bg}] a vector of background colors for open plot symbols, see\n",
       "\\code{\\LinkA{points}{points}}.  Note: this is \\bold{not} the same setting\n",
       "as \\code{\\LinkA{par}{par}(\"bg\")}.\n",
       "\\item[\\code{pch}] a vector of plotting characters or symbols:\n",
       "see \\code{\\LinkA{points}{points}}.\n",
       "\\item[\\code{cex}] a numerical vector giving the amount by which\n",
       "plotting characters and symbols should be scaled relative to the\n",
       "default.  This works as a multiple of \\code{\\LinkA{par}{par}(\"cex\")}.\n",
       "\\code{NULL} and \\code{NA} are equivalent to \\code{1.0}.  Note that\n",
       "this does not affect annotation: see below.\n",
       "\\item[\\code{lty}] a vector of line types, see \\code{\\LinkA{par}{par}}.\n",
       "\\item[\\code{cex.main}, \\code{col.lab}, \\code{font.sub},\n",
       "etc] settings for main- and sub-title and axis annotation, see\n",
       "\\code{\\LinkA{title}{title}} and \\code{\\LinkA{par}{par}}.\n",
       "\\item[\\code{lwd}] a vector of line widths, see \\code{\\LinkA{par}{par}}.\n",
       "\n",
       "\\end{description}\n",
       "\n",
       "\\end{Details}\n",
       "%\n",
       "\\begin{Note}\\relax\n",
       "The presence of \\code{panel.first} and \\code{panel.last} is a\n",
       "historical anomaly: default plots do not have `panels', unlike\n",
       "e.g.~\\code{\\LinkA{pairs}{pairs}} plots.  For more control, use lower-level\n",
       "plotting functions: \\code{plot.default} calls in turn some of\n",
       "\\code{\\LinkA{plot.new}{plot.new}}, \\code{\\LinkA{plot.window}{plot.window}},\n",
       "\\code{\\LinkA{plot.xy}{plot.xy}}, \\code{\\LinkA{axis}{axis}}, \\code{\\LinkA{box}{box}} and\n",
       "\\code{\\LinkA{title}{title}}, and plots can be built up by calling these\n",
       "individually, or by calling \\code{plot(type = \"n\")} and adding further\n",
       "elements.\n",
       "\n",
       "The \\code{plot} generic was moved from the \\pkg{graphics} package to\n",
       "the \\pkg{base} package in \\R{} 4.0.0. It is currently re-exported from\n",
       "the \\pkg{graphics} namespace to allow packages importing it from there\n",
       "to continue working, but this may change in future versions of \\R{}.\n",
       "\\end{Note}\n",
       "%\n",
       "\\begin{References}\\relax\n",
       "Becker, R. A., Chambers, J. M. and Wilks, A. R. (1988)\n",
       "\\emph{The New S Language}.\n",
       "Wadsworth \\& Brooks/Cole.\n",
       "\n",
       "Cleveland, W. S. (1985)\n",
       "\\emph{The Elements of Graphing Data.}\n",
       "Monterey, CA: Wadsworth.\n",
       "\n",
       "Murrell, P. (2005) \\emph{R Graphics}. Chapman \\& Hall/CRC Press.\n",
       "\\end{References}\n",
       "%\n",
       "\\begin{SeeAlso}\\relax\n",
       "\\code{\\LinkA{plot}{plot}}, \\code{\\LinkA{plot.window}{plot.window}}, \\code{\\LinkA{xy.coords}{xy.coords}}.\n",
       "For thousands of points, consider using \\code{\\LinkA{smoothScatter}{smoothScatter}}\n",
       "instead.\n",
       "\\end{SeeAlso}\n",
       "%\n",
       "\\begin{Examples}\n",
       "\\begin{ExampleCode}\n",
       "Speed <- cars$speed\n",
       "Distance <- cars$dist\n",
       "plot(Speed, Distance, panel.first = grid(8, 8),\n",
       "     pch = 0, cex = 1.2, col = \"blue\")\n",
       "plot(Speed, Distance,\n",
       "     panel.first = lines(stats::lowess(Speed, Distance), lty = \"dashed\"),\n",
       "     pch = 0, cex = 1.2, col = \"blue\")\n",
       "\n",
       "## Show the different plot types\n",
       "x <- 0:12\n",
       "y <- sin(pi/5 * x)\n",
       "op <- par(mfrow = c(3,3), mar = .1+ c(2,2,3,1))\n",
       "for (tp in c(\"p\",\"l\",\"b\",  \"c\",\"o\",\"h\",  \"s\",\"S\",\"n\")) {\n",
       "   plot(y ~ x, type = tp, main = paste0(\"plot(*, type = \\\"\", tp, \"\\\")\"))\n",
       "   if(tp == \"S\") {\n",
       "      lines(x, y, type = \"s\", col = \"red\", lty = 2)\n",
       "      mtext(\"lines(*, type = \\\"s\\\", ...)\", col = \"red\", cex = 0.8)\n",
       "   }\n",
       "}\n",
       "par(op)\n",
       "\n",
       "##--- Log-Log Plot  with  custom axes\n",
       "lx <- seq(1, 5, length.out = 41)\n",
       "yl <- expression(e^{-frac(1,2) * {log[10](x)}^2})\n",
       "y <- exp(-.5*lx^2)\n",
       "op <- par(mfrow = c(2,1), mar = par(\"mar\")-c(1,0,2,0), mgp = c(2, .7, 0))\n",
       "plot(10^lx, y, log = \"xy\", type = \"l\", col = \"purple\",\n",
       "     main = \"Log-Log plot\", ylab = yl, xlab = \"x\")\n",
       "plot(10^lx, y, log = \"xy\", type = \"o\", pch = \".\", col = \"forestgreen\",\n",
       "     main = \"Log-Log plot with custom axes\", ylab = yl, xlab = \"x\",\n",
       "     axes = FALSE, frame.plot = TRUE)\n",
       "my.at <- 10^(1:5)\n",
       "axis(1, at = my.at, labels = formatC(my.at, format = \"fg\"))\n",
       "e.y <- -5:-1 ; at.y <- 10^e.y\n",
       "axis(2, at = at.y, col.axis = \"red\", las = 1,\n",
       "     labels = as.expression(lapply(e.y, function(E) bquote(10^.(E)))))\n",
       "par(op)\n",
       "\\end{ExampleCode}\n",
       "\\end{Examples}"
      ],
      "text/plain": [
       "plot.default             package:graphics              R Documentation\n",
       "\n",
       "_\bT_\bh_\be _\bD_\be_\bf_\ba_\bu_\bl_\bt _\bS_\bc_\ba_\bt_\bt_\be_\br_\bp_\bl_\bo_\bt _\bF_\bu_\bn_\bc_\bt_\bi_\bo_\bn\n",
       "\n",
       "_\bD_\be_\bs_\bc_\br_\bi_\bp_\bt_\bi_\bo_\bn:\n",
       "\n",
       "     Draw a scatter plot with decorations such as axes and titles in\n",
       "     the active graphics window.\n",
       "\n",
       "_\bU_\bs_\ba_\bg_\be:\n",
       "\n",
       "     ## Default S3 method:\n",
       "     plot(x, y = NULL, type = \"p\",  xlim = NULL, ylim = NULL,\n",
       "          log = \"\", main = NULL, sub = NULL, xlab = NULL, ylab = NULL,\n",
       "          ann = par(\"ann\"), axes = TRUE, frame.plot = axes,\n",
       "          panel.first = NULL, panel.last = NULL, asp = NA,\n",
       "          xgap.axis = NA, ygap.axis = NA,\n",
       "          ...)\n",
       "     \n",
       "_\bA_\br_\bg_\bu_\bm_\be_\bn_\bt_\bs:\n",
       "\n",
       "    x, y: the 'x' and 'y' arguments provide the x and y coordinates for\n",
       "          the plot.  Any reasonable way of defining the coordinates is\n",
       "          acceptable.  See the function 'xy.coords' for details.  If\n",
       "          supplied separately, they must be of the same length.\n",
       "\n",
       "    type: 1-character string giving the type of plot desired.  The\n",
       "          following values are possible, for details, see 'plot': '\"p\"'\n",
       "          for points, '\"l\"' for lines, '\"b\"' for both points and lines,\n",
       "          '\"c\"' for empty points joined by lines, '\"o\"' for overplotted\n",
       "          points and lines, '\"s\"' and '\"S\"' for stair steps and '\"h\"'\n",
       "          for histogram-like vertical lines.  Finally, '\"n\"' does not\n",
       "          produce any points or lines.\n",
       "\n",
       "    xlim: the x limits (x1, x2) of the plot.  Note that 'x1 > x2' is\n",
       "          allowed and leads to a 'reversed axis'.\n",
       "\n",
       "          The default value, 'NULL', indicates that the range of the\n",
       "          finite values to be plotted should be used.\n",
       "\n",
       "    ylim: the y limits of the plot.\n",
       "\n",
       "     log: a character string which contains '\"x\"' if the x axis is to\n",
       "          be logarithmic, '\"y\"' if the y axis is to be logarithmic and\n",
       "          '\"xy\"' or '\"yx\"' if both axes are to be logarithmic.\n",
       "\n",
       "    main: a main title for the plot, see also 'title'.\n",
       "\n",
       "     sub: a sub title for the plot.\n",
       "\n",
       "    xlab: a label for the x axis, defaults to a description of 'x'.\n",
       "\n",
       "    ylab: a label for the y axis, defaults to a description of 'y'.\n",
       "\n",
       "     ann: a logical value indicating whether the default annotation\n",
       "          (title and x and y axis labels) should appear on the plot.\n",
       "\n",
       "    axes: a logical value indicating whether both axes should be drawn\n",
       "          on the plot.  Use graphical parameter '\"xaxt\"' or '\"yaxt\"' to\n",
       "          suppress just one of the axes.\n",
       "\n",
       "frame.plot: a logical indicating whether a box should be drawn around\n",
       "          the plot.\n",
       "\n",
       "panel.first: an 'expression' to be evaluated after the plot axes are\n",
       "          set up but before any plotting takes place.  This can be\n",
       "          useful for drawing background grids or scatterplot smooths.\n",
       "          Note that this works by lazy evaluation: passing this\n",
       "          argument from other 'plot' methods may well not work since it\n",
       "          may be evaluated too early.\n",
       "\n",
       "panel.last: an expression to be evaluated after plotting has taken\n",
       "          place but before the axes, title and box are added.  See the\n",
       "          comments about 'panel.first'.\n",
       "\n",
       "     asp: the y/x aspect ratio, see 'plot.window'.\n",
       "\n",
       "xgap.axis, ygap.axis: the x/y axis gap factors, passed as 'gap.axis' to\n",
       "          the two 'axis()' calls (when 'axes' is true, as per default).\n",
       "\n",
       "     ...: other graphical parameters (see 'par' and section 'Details'\n",
       "          below).\n",
       "\n",
       "_\bD_\be_\bt_\ba_\bi_\bl_\bs:\n",
       "\n",
       "     Commonly used graphical parameters are:\n",
       "\n",
       "     'col' The colors for lines and points.  Multiple colors can be\n",
       "          specified so that each point can be given its own color.  If\n",
       "          there are fewer colors than points they are recycled in the\n",
       "          standard fashion.  Lines will all be plotted in the first\n",
       "          colour specified.\n",
       "\n",
       "     'bg' a vector of background colors for open plot symbols, see\n",
       "          'points'.  Note: this is *not* the same setting as\n",
       "          'par(\"bg\")'.\n",
       "\n",
       "     'pch' a vector of plotting characters or symbols: see 'points'.\n",
       "\n",
       "     'cex' a numerical vector giving the amount by which plotting\n",
       "          characters and symbols should be scaled relative to the\n",
       "          default.  This works as a multiple of 'par(\"cex\")'.  'NULL'\n",
       "          and 'NA' are equivalent to '1.0'.  Note that this does not\n",
       "          affect annotation: see below.\n",
       "\n",
       "     'lty' a vector of line types, see 'par'.\n",
       "\n",
       "     'cex.main', 'col.lab', 'font.sub', etc settings for main- and\n",
       "          sub-title and axis annotation, see 'title' and 'par'.\n",
       "\n",
       "     'lwd' a vector of line widths, see 'par'.\n",
       "\n",
       "_\bN_\bo_\bt_\be:\n",
       "\n",
       "     The presence of 'panel.first' and 'panel.last' is a historical\n",
       "     anomaly: default plots do not have 'panels', unlike e.g. 'pairs'\n",
       "     plots.  For more control, use lower-level plotting functions:\n",
       "     'plot.default' calls in turn some of 'plot.new', 'plot.window',\n",
       "     'plot.xy', 'axis', 'box' and 'title', and plots can be built up by\n",
       "     calling these individually, or by calling 'plot(type = \"n\")' and\n",
       "     adding further elements.\n",
       "\n",
       "     The 'plot' generic was moved from the 'graphics' package to the\n",
       "     'base' package in R 4.0.0. It is currently re-exported from the\n",
       "     'graphics' namespace to allow packages importing it from there to\n",
       "     continue working, but this may change in future versions of R.\n",
       "\n",
       "_\bR_\be_\bf_\be_\br_\be_\bn_\bc_\be_\bs:\n",
       "\n",
       "     Becker, R. A., Chambers, J. M. and Wilks, A. R. (1988) _The New S\n",
       "     Language_.  Wadsworth & Brooks/Cole.\n",
       "\n",
       "     Cleveland, W. S. (1985) _The Elements of Graphing Data._ Monterey,\n",
       "     CA: Wadsworth.\n",
       "\n",
       "     Murrell, P. (2005) _R Graphics_. Chapman & Hall/CRC Press.\n",
       "\n",
       "_\bS_\be_\be _\bA_\bl_\bs_\bo:\n",
       "\n",
       "     'plot', 'plot.window', 'xy.coords'.  For thousands of points,\n",
       "     consider using 'smoothScatter' instead.\n",
       "\n",
       "_\bE_\bx_\ba_\bm_\bp_\bl_\be_\bs:\n",
       "\n",
       "     Speed <- cars$speed\n",
       "     Distance <- cars$dist\n",
       "     plot(Speed, Distance, panel.first = grid(8, 8),\n",
       "          pch = 0, cex = 1.2, col = \"blue\")\n",
       "     plot(Speed, Distance,\n",
       "          panel.first = lines(stats::lowess(Speed, Distance), lty = \"dashed\"),\n",
       "          pch = 0, cex = 1.2, col = \"blue\")\n",
       "     \n",
       "     ## Show the different plot types\n",
       "     x <- 0:12\n",
       "     y <- sin(pi/5 * x)\n",
       "     op <- par(mfrow = c(3,3), mar = .1+ c(2,2,3,1))\n",
       "     for (tp in c(\"p\",\"l\",\"b\",  \"c\",\"o\",\"h\",  \"s\",\"S\",\"n\")) {\n",
       "        plot(y ~ x, type = tp, main = paste0(\"plot(*, type = \\\"\", tp, \"\\\")\"))\n",
       "        if(tp == \"S\") {\n",
       "           lines(x, y, type = \"s\", col = \"red\", lty = 2)\n",
       "           mtext(\"lines(*, type = \\\"s\\\", ...)\", col = \"red\", cex = 0.8)\n",
       "        }\n",
       "     }\n",
       "     par(op)\n",
       "     \n",
       "     ##--- Log-Log Plot  with  custom axes\n",
       "     lx <- seq(1, 5, length.out = 41)\n",
       "     yl <- expression(e^{-frac(1,2) * {log[10](x)}^2})\n",
       "     y <- exp(-.5*lx^2)\n",
       "     op <- par(mfrow = c(2,1), mar = par(\"mar\")-c(1,0,2,0), mgp = c(2, .7, 0))\n",
       "     plot(10^lx, y, log = \"xy\", type = \"l\", col = \"purple\",\n",
       "          main = \"Log-Log plot\", ylab = yl, xlab = \"x\")\n",
       "     plot(10^lx, y, log = \"xy\", type = \"o\", pch = \".\", col = \"forestgreen\",\n",
       "          main = \"Log-Log plot with custom axes\", ylab = yl, xlab = \"x\",\n",
       "          axes = FALSE, frame.plot = TRUE)\n",
       "     my.at <- 10^(1:5)\n",
       "     axis(1, at = my.at, labels = formatC(my.at, format = \"fg\"))\n",
       "     e.y <- -5:-1 ; at.y <- 10^e.y\n",
       "     axis(2, at = at.y, col.axis = \"red\", las = 1,\n",
       "          labels = as.expression(lapply(e.y, function(E) bquote(10^.(E)))))\n",
       "     par(op)\n",
       "     "
      ]
     },
     "metadata": {},
     "output_type": "display_data"
    }
   ],
   "source": [
    "?plot"
   ]
  },
  {
   "cell_type": "markdown",
   "id": "65f7a524-8be5-449c-b967-839c512e6987",
   "metadata": {},
   "source": [
    "Let's see how plot() function is able to adapt itself"
   ]
  },
  {
   "cell_type": "code",
   "execution_count": 5,
   "id": "6eae80e9-a0d0-4685-9bb9-92f0edb76161",
   "metadata": {
    "tags": []
   },
   "outputs": [
    {
     "data": {
      "image/png": "[encoded data removed]",
      "text/plain": [
       "plot without title"
      ]
     },
     "metadata": {
      "image/png": {
       "height": 420,
       "width": 420
      }
     },
     "output_type": "display_data"
    },
    {
     "data": {
      "image/png": "[encoded data removed]",
      "text/plain": [
       "plot without title"
      ]
     },
     "metadata": {
      "image/png": {
       "height": 420,
       "width": 420
      }
     },
     "output_type": "display_data"
    },
    {
     "data": {
      "image/png": "[encoded data removed]",
      "text/plain": [
       "plot without title"
      ]
     },
     "metadata": {
      "image/png": {
       "height": 420,
       "width": 420
      }
     },
     "output_type": "display_data"
    },
    {
     "data": {
      "image/png": "[encoded data removed]",
      "text/plain": [
       "plot without title"
      ]
     },
     "metadata": {
      "image/png": {
       "height": 420,
       "width": 420
      }
     },
     "output_type": "display_data"
    }
   ],
   "source": [
    "plot(iris$Species) #Categorical variable\n",
    "plot(iris$Petal.Length) #Quantitative variable\n",
    "plot(iris$Species, iris$Petal.Width) #Cat x Quant\n",
    "plot(iris$Petal.Length, iris$Petal.Width) #Quant pair"
   ]
  },
  {
   "cell_type": "code",
   "execution_count": 6,
   "id": "f66f185b-4c38-490c-aeb3-a800e9fa7ef4",
   "metadata": {
    "tags": []
   },
   "outputs": [
    {
     "data": {
      "image/png": "[encoded data removed]",
      "text/plain": [
       "plot without title"
      ]
     },
     "metadata": {
      "image/png": {
       "height": 420,
       "width": 420
      }
     },
     "output_type": "display_data"
    }
   ],
   "source": [
    "plot(iris)"
   ]
  },
  {
   "cell_type": "code",
   "execution_count": 7,
   "id": "35c66662-21a8-4085-8f5d-9efb50955038",
   "metadata": {
    "tags": []
   },
   "outputs": [
    {
     "data": {
      "image/png": "[encoded data removed]",
      "text/plain": [
       "Plot with title \"Iris: Petal Length vs. Petal Width\""
      ]
     },
     "metadata": {
      "image/png": {
       "height": 420,
       "width": 420
      }
     },
     "output_type": "display_data"
    }
   ],
   "source": [
    "# The plot is able to adapt itself in function od the type of data.\n",
    "\n",
    "# Plot with options\n",
    "plot(iris$Petal.Length, iris$Petal.Width,\n",
    "  col = \"#cc0000\",  # Hex code for datalab.cc red\n",
    "  pch = 19,         # Use solid circles for points\n",
    "  main = \"Iris: Petal Length vs. Petal Width\",\n",
    "  xlab = \"Petal Length\",\n",
    "  ylab = \"Petal Width\")\n",
    "     \n",
    "     "
   ]
  },
  {
   "cell_type": "markdown",
   "id": "25591c2d-3d05-4260-bce3-b2e395e04257",
   "metadata": {},
   "source": [
    "Lets see some other plot() capabilities:"
   ]
  },
  {
   "cell_type": "code",
   "execution_count": 8,
   "id": "ca662b73-ae74-4660-8b24-72f61cbe2572",
   "metadata": {
    "tags": []
   },
   "outputs": [
    {
     "data": {
      "image/png": "[encoded data removed]",
      "text/plain": [
       "plot without title"
      ]
     },
     "metadata": {
      "image/png": {
       "height": 420,
       "width": 420
      }
     },
     "output_type": "display_data"
    },
    {
     "data": {
      "image/png": "[encoded data removed]",
      "text/plain": [
       "plot without title"
      ]
     },
     "metadata": {
      "image/png": {
       "height": 420,
       "width": 420
      }
     },
     "output_type": "display_data"
    },
    {
     "data": {
      "image/png": "[encoded data removed]",
      "text/plain": [
       "plot without title"
      ]
     },
     "metadata": {
      "image/png": {
       "height": 420,
       "width": 420
      }
     },
     "output_type": "display_data"
    },
    {
     "data": {
      "image/png": "[encoded data removed]",
      "text/plain": [
       "Plot with title \"Standard Normal Distribution\""
      ]
     },
     "metadata": {
      "image/png": {
       "height": 420,
       "width": 420
      }
     },
     "output_type": "display_data"
    }
   ],
   "source": [
    "# PLOT FORMULAS WITH PLOT()\n",
    "\n",
    "plot(cos, 0, 2*pi)\n",
    "plot(exp, 1, 5)\n",
    "plot(dnorm, -3, +3)\n",
    "\n",
    "# Formula plot with options\n",
    "plot(dnorm, -3, +3,\n",
    "  col = \"#cc0000\",\n",
    "  lwd = 5,\n",
    "  main = \"Standard Normal Distribution\",\n",
    "  xlab = \"z-scores\",\n",
    "  ylab = \"Density\")"
   ]
  },
  {
   "cell_type": "markdown",
   "id": "25a8c007-6214-4a0a-9553-8e7d51757e17",
   "metadata": {
    "tags": []
   },
   "source": [
    "## 2. Bar charts\n",
    "very siple representation of data. Categorical visualization of the data."
   ]
  },
  {
   "cell_type": "code",
   "execution_count": 9,
   "id": "31dc60d3-8303-4f4b-8def-8d2026d6b09c",
   "metadata": {
    "tags": []
   },
   "outputs": [
    {
     "data": {
      "text/html": [
       "<table class=\"dataframe\">\n",
       "<caption>A data.frame: 6 × 11</caption>\n",
       "<thead>\n",
       "\t<tr><th></th><th scope=col>mpg</th><th scope=col>cyl</th><th scope=col>disp</th><th scope=col>hp</th><th scope=col>drat</th><th scope=col>wt</th><th scope=col>qsec</th><th scope=col>vs</th><th scope=col>am</th><th scope=col>gear</th><th scope=col>carb</th></tr>\n",
       "\t<tr><th></th><th scope=col>&lt;dbl&gt;</th><th scope=col>&lt;dbl&gt;</th><th scope=col>&lt;dbl&gt;</th><th scope=col>&lt;dbl&gt;</th><th scope=col>&lt;dbl&gt;</th><th scope=col>&lt;dbl&gt;</th><th scope=col>&lt;dbl&gt;</th><th scope=col>&lt;dbl&gt;</th><th scope=col>&lt;dbl&gt;</th><th scope=col>&lt;dbl&gt;</th><th scope=col>&lt;dbl&gt;</th></tr>\n",
       "</thead>\n",
       "<tbody>\n",
       "\t<tr><th scope=row>Mazda RX4</th><td>21.0</td><td>6</td><td>160</td><td>110</td><td>3.90</td><td>2.620</td><td>16.46</td><td>0</td><td>1</td><td>4</td><td>4</td></tr>\n",
       "\t<tr><th scope=row>Mazda RX4 Wag</th><td>21.0</td><td>6</td><td>160</td><td>110</td><td>3.90</td><td>2.875</td><td>17.02</td><td>0</td><td>1</td><td>4</td><td>4</td></tr>\n",
       "\t<tr><th scope=row>Datsun 710</th><td>22.8</td><td>4</td><td>108</td><td> 93</td><td>3.85</td><td>2.320</td><td>18.61</td><td>1</td><td>1</td><td>4</td><td>1</td></tr>\n",
       "\t<tr><th scope=row>Hornet 4 Drive</th><td>21.4</td><td>6</td><td>258</td><td>110</td><td>3.08</td><td>3.215</td><td>19.44</td><td>1</td><td>0</td><td>3</td><td>1</td></tr>\n",
       "\t<tr><th scope=row>Hornet Sportabout</th><td>18.7</td><td>8</td><td>360</td><td>175</td><td>3.15</td><td>3.440</td><td>17.02</td><td>0</td><td>0</td><td>3</td><td>2</td></tr>\n",
       "\t<tr><th scope=row>Valiant</th><td>18.1</td><td>6</td><td>225</td><td>105</td><td>2.76</td><td>3.460</td><td>20.22</td><td>1</td><td>0</td><td>3</td><td>1</td></tr>\n",
       "</tbody>\n",
       "</table>\n"
      ],
      "text/latex": [
       "A data.frame: 6 × 11\n",
       "\\begin{tabular}{r|lllllllllll}\n",
       "  & mpg & cyl & disp & hp & drat & wt & qsec & vs & am & gear & carb\\\\\n",
       "  & <dbl> & <dbl> & <dbl> & <dbl> & <dbl> & <dbl> & <dbl> & <dbl> & <dbl> & <dbl> & <dbl>\\\\\n",
       "\\hline\n",
       "\tMazda RX4 & 21.0 & 6 & 160 & 110 & 3.90 & 2.620 & 16.46 & 0 & 1 & 4 & 4\\\\\n",
       "\tMazda RX4 Wag & 21.0 & 6 & 160 & 110 & 3.90 & 2.875 & 17.02 & 0 & 1 & 4 & 4\\\\\n",
       "\tDatsun 710 & 22.8 & 4 & 108 &  93 & 3.85 & 2.320 & 18.61 & 1 & 1 & 4 & 1\\\\\n",
       "\tHornet 4 Drive & 21.4 & 6 & 258 & 110 & 3.08 & 3.215 & 19.44 & 1 & 0 & 3 & 1\\\\\n",
       "\tHornet Sportabout & 18.7 & 8 & 360 & 175 & 3.15 & 3.440 & 17.02 & 0 & 0 & 3 & 2\\\\\n",
       "\tValiant & 18.1 & 6 & 225 & 105 & 2.76 & 3.460 & 20.22 & 1 & 0 & 3 & 1\\\\\n",
       "\\end{tabular}\n"
      ],
      "text/markdown": [
       "\n",
       "A data.frame: 6 × 11\n",
       "\n",
       "| <!--/--> | mpg &lt;dbl&gt; | cyl &lt;dbl&gt; | disp &lt;dbl&gt; | hp &lt;dbl&gt; | drat &lt;dbl&gt; | wt &lt;dbl&gt; | qsec &lt;dbl&gt; | vs &lt;dbl&gt; | am &lt;dbl&gt; | gear &lt;dbl&gt; | carb &lt;dbl&gt; |\n",
       "|---|---|---|---|---|---|---|---|---|---|---|---|\n",
       "| Mazda RX4 | 21.0 | 6 | 160 | 110 | 3.90 | 2.620 | 16.46 | 0 | 1 | 4 | 4 |\n",
       "| Mazda RX4 Wag | 21.0 | 6 | 160 | 110 | 3.90 | 2.875 | 17.02 | 0 | 1 | 4 | 4 |\n",
       "| Datsun 710 | 22.8 | 4 | 108 |  93 | 3.85 | 2.320 | 18.61 | 1 | 1 | 4 | 1 |\n",
       "| Hornet 4 Drive | 21.4 | 6 | 258 | 110 | 3.08 | 3.215 | 19.44 | 1 | 0 | 3 | 1 |\n",
       "| Hornet Sportabout | 18.7 | 8 | 360 | 175 | 3.15 | 3.440 | 17.02 | 0 | 0 | 3 | 2 |\n",
       "| Valiant | 18.1 | 6 | 225 | 105 | 2.76 | 3.460 | 20.22 | 1 | 0 | 3 | 1 |\n",
       "\n"
      ],
      "text/plain": [
       "                  mpg  cyl disp hp  drat wt    qsec  vs am gear carb\n",
       "Mazda RX4         21.0 6   160  110 3.90 2.620 16.46 0  1  4    4   \n",
       "Mazda RX4 Wag     21.0 6   160  110 3.90 2.875 17.02 0  1  4    4   \n",
       "Datsun 710        22.8 4   108   93 3.85 2.320 18.61 1  1  4    1   \n",
       "Hornet 4 Drive    21.4 6   258  110 3.08 3.215 19.44 1  0  3    1   \n",
       "Hornet Sportabout 18.7 8   360  175 3.15 3.440 17.02 0  0  3    2   \n",
       "Valiant           18.1 6   225  105 2.76 3.460 20.22 1  0  3    1   "
      ]
     },
     "metadata": {},
     "output_type": "display_data"
    },
    {
     "data": {
      "text/plain": [
       "      mpg             cyl             disp             hp       \n",
       " Min.   :10.40   Min.   :4.000   Min.   : 71.1   Min.   : 52.0  \n",
       " 1st Qu.:15.43   1st Qu.:4.000   1st Qu.:120.8   1st Qu.: 96.5  \n",
       " Median :19.20   Median :6.000   Median :196.3   Median :123.0  \n",
       " Mean   :20.09   Mean   :6.188   Mean   :230.7   Mean   :146.7  \n",
       " 3rd Qu.:22.80   3rd Qu.:8.000   3rd Qu.:326.0   3rd Qu.:180.0  \n",
       " Max.   :33.90   Max.   :8.000   Max.   :472.0   Max.   :335.0  \n",
       "      drat             wt             qsec             vs        \n",
       " Min.   :2.760   Min.   :1.513   Min.   :14.50   Min.   :0.0000  \n",
       " 1st Qu.:3.080   1st Qu.:2.581   1st Qu.:16.89   1st Qu.:0.0000  \n",
       " Median :3.695   Median :3.325   Median :17.71   Median :0.0000  \n",
       " Mean   :3.597   Mean   :3.217   Mean   :17.85   Mean   :0.4375  \n",
       " 3rd Qu.:3.920   3rd Qu.:3.610   3rd Qu.:18.90   3rd Qu.:1.0000  \n",
       " Max.   :4.930   Max.   :5.424   Max.   :22.90   Max.   :1.0000  \n",
       "       am              gear            carb      \n",
       " Min.   :0.0000   Min.   :3.000   Min.   :1.000  \n",
       " 1st Qu.:0.0000   1st Qu.:3.000   1st Qu.:2.000  \n",
       " Median :0.0000   Median :4.000   Median :2.000  \n",
       " Mean   :0.4062   Mean   :3.688   Mean   :2.812  \n",
       " 3rd Qu.:1.0000   3rd Qu.:4.000   3rd Qu.:4.000  \n",
       " Max.   :1.0000   Max.   :5.000   Max.   :8.000  "
      ]
     },
     "metadata": {},
     "output_type": "display_data"
    },
    {
     "data": {
      "image/png": "[encoded data removed]",
      "text/plain": [
       "plot without title"
      ]
     },
     "metadata": {
      "image/png": {
       "height": 420,
       "width": 420
      }
     },
     "output_type": "display_data"
    },
    {
     "data": {
      "text/html": [
       "\n",
       "<table width=\"100%\" summary=\"page for mtcars {datasets}\"><tr><td>mtcars {datasets}</td><td style=\"text-align: right;\">R Documentation</td></tr></table>\n",
       "\n",
       "<h2>Motor Trend Car Road Tests</h2>\n",
       "\n",
       "<h3>Description</h3>\n",
       "\n",
       "<p>The data was extracted from the 1974 <em>Motor Trend</em> US magazine,\n",
       "and comprises fuel consumption and 10 aspects of\n",
       "automobile design and performance for 32 automobiles (1973&ndash;74\n",
       "models).\n",
       "</p>\n",
       "\n",
       "\n",
       "<h3>Usage</h3>\n",
       "\n",
       "<pre>mtcars</pre>\n",
       "\n",
       "\n",
       "<h3>Format</h3>\n",
       "\n",
       "<p>A data frame with 32 observations on 11 (numeric) variables.\n",
       "</p>\n",
       "\n",
       "<table summary=\"Rd table\">\n",
       "<tr>\n",
       " <td style=\"text-align: right;\">\n",
       "    [, 1] </td><td style=\"text-align: left;\"> mpg  </td><td style=\"text-align: left;\"> Miles/(US) gallon </td>\n",
       "</tr>\n",
       "<tr>\n",
       " <td style=\"text-align: right;\">\n",
       "    [, 2] </td><td style=\"text-align: left;\"> cyl  </td><td style=\"text-align: left;\"> Number of cylinders </td>\n",
       "</tr>\n",
       "<tr>\n",
       " <td style=\"text-align: right;\">\n",
       "    [, 3] </td><td style=\"text-align: left;\"> disp </td><td style=\"text-align: left;\"> Displacement (cu.in.) </td>\n",
       "</tr>\n",
       "<tr>\n",
       " <td style=\"text-align: right;\">\n",
       "    [, 4] </td><td style=\"text-align: left;\"> hp   </td><td style=\"text-align: left;\"> Gross horsepower </td>\n",
       "</tr>\n",
       "<tr>\n",
       " <td style=\"text-align: right;\">\n",
       "    [, 5] </td><td style=\"text-align: left;\"> drat </td><td style=\"text-align: left;\"> Rear axle ratio </td>\n",
       "</tr>\n",
       "<tr>\n",
       " <td style=\"text-align: right;\">\n",
       "    [, 6] </td><td style=\"text-align: left;\"> wt   </td><td style=\"text-align: left;\"> Weight (1000 lbs) </td>\n",
       "</tr>\n",
       "<tr>\n",
       " <td style=\"text-align: right;\">\n",
       "    [, 7] </td><td style=\"text-align: left;\"> qsec </td><td style=\"text-align: left;\"> 1/4 mile time </td>\n",
       "</tr>\n",
       "<tr>\n",
       " <td style=\"text-align: right;\">\n",
       "    [, 8] </td><td style=\"text-align: left;\"> vs   </td><td style=\"text-align: left;\"> Engine (0 = V-shaped, 1 = straight) </td>\n",
       "</tr>\n",
       "<tr>\n",
       " <td style=\"text-align: right;\">\n",
       "    [, 9] </td><td style=\"text-align: left;\"> am   </td><td style=\"text-align: left;\"> Transmission (0 = automatic, 1 = manual) </td>\n",
       "</tr>\n",
       "<tr>\n",
       " <td style=\"text-align: right;\">\n",
       "    [,10] </td><td style=\"text-align: left;\"> gear </td><td style=\"text-align: left;\"> Number of forward gears </td>\n",
       "</tr>\n",
       "<tr>\n",
       " <td style=\"text-align: right;\">\n",
       "    [,11] </td><td style=\"text-align: left;\"> carb </td><td style=\"text-align: left;\"> Number of carburetors\n",
       "  </td>\n",
       "</tr>\n",
       "\n",
       "</table>\n",
       "\n",
       "\n",
       "\n",
       "<h3>Note</h3>\n",
       "\n",
       "<p>Henderson and Velleman (1981) comment in a footnote to Table 1:\n",
       "&lsquo;Hocking [original transcriber]'s noncrucial coding of the\n",
       "Mazda's rotary engine as a straight six-cylinder engine and the\n",
       "Porsche's flat engine as a V engine, as well as the inclusion of the\n",
       "diesel Mercedes 240D, have been retained to enable direct comparisons\n",
       "to be made with previous analyses.&rsquo;\n",
       "</p>\n",
       "\n",
       "\n",
       "<h3>Source</h3>\n",
       "\n",
       "<p>Henderson and Velleman (1981),\n",
       "Building multiple regression models interactively.\n",
       "<em>Biometrics</em>, <b>37</b>, 391&ndash;411.\n",
       "</p>\n",
       "\n",
       "\n",
       "<h3>Examples</h3>\n",
       "\n",
       "<pre>\n",
       "require(graphics)\n",
       "pairs(mtcars, main = \"mtcars data\", gap = 1/4)\n",
       "coplot(mpg ~ disp | as.factor(cyl), data = mtcars,\n",
       "       panel = panel.smooth, rows = 1)\n",
       "## possibly more meaningful, e.g., for summary() or bivariate plots:\n",
       "mtcars2 &lt;- within(mtcars, {\n",
       "   vs &lt;- factor(vs, labels = c(\"V\", \"S\"))\n",
       "   am &lt;- factor(am, labels = c(\"automatic\", \"manual\"))\n",
       "   cyl  &lt;- ordered(cyl)\n",
       "   gear &lt;- ordered(gear)\n",
       "   carb &lt;- ordered(carb)\n",
       "})\n",
       "summary(mtcars2)\n",
       "</pre>\n",
       "\n",
       "<hr /><div style=\"text-align: center;\">[Package <em>datasets</em> version 4.1.3 ]</div>"
      ],
      "text/latex": [
       "\\inputencoding{utf8}\n",
       "\\HeaderA{mtcars}{Motor Trend Car Road Tests}{mtcars}\n",
       "\\keyword{datasets}{mtcars}\n",
       "%\n",
       "\\begin{Description}\\relax\n",
       "The data was extracted from the 1974 \\emph{Motor Trend} US magazine,\n",
       "and comprises fuel consumption and 10 aspects of\n",
       "automobile design and performance for 32 automobiles (1973--74\n",
       "models).\n",
       "\\end{Description}\n",
       "%\n",
       "\\begin{Usage}\n",
       "\\begin{verbatim}\n",
       "mtcars\n",
       "\\end{verbatim}\n",
       "\\end{Usage}\n",
       "%\n",
       "\\begin{Format}\n",
       "A data frame with 32 observations on 11 (numeric) variables.\n",
       "\n",
       "\\Tabular{rll}{\n",
       "[, 1] & mpg  & Miles/(US) gallon \\\\{}\n",
       "[, 2] & cyl  & Number of cylinders \\\\{}\n",
       "[, 3] & disp & Displacement (cu.in.) \\\\{}\n",
       "[, 4] & hp   & Gross horsepower \\\\{}\n",
       "[, 5] & drat & Rear axle ratio \\\\{}\n",
       "[, 6] & wt   & Weight (1000 lbs) \\\\{}\n",
       "[, 7] & qsec & 1/4 mile time \\\\{}\n",
       "[, 8] & vs   & Engine (0 = V-shaped, 1 = straight) \\\\{}\n",
       "[, 9] & am   & Transmission (0 = automatic, 1 = manual) \\\\{}\n",
       "[,10] & gear & Number of forward gears \\\\{}\n",
       "[,11] & carb & Number of carburetors\n",
       "}\n",
       "\\end{Format}\n",
       "%\n",
       "\\begin{Note}\\relax\n",
       "Henderson and Velleman (1981) comment in a footnote to Table 1:\n",
       "`Hocking [original transcriber]'s noncrucial coding of the\n",
       "Mazda's rotary engine as a straight six-cylinder engine and the\n",
       "Porsche's flat engine as a V engine, as well as the inclusion of the\n",
       "diesel Mercedes 240D, have been retained to enable direct comparisons\n",
       "to be made with previous analyses.'\n",
       "\\end{Note}\n",
       "%\n",
       "\\begin{Source}\\relax\n",
       "Henderson and Velleman (1981),\n",
       "Building multiple regression models interactively.\n",
       "\\emph{Biometrics}, \\bold{37}, 391--411.\n",
       "\\end{Source}\n",
       "%\n",
       "\\begin{Examples}\n",
       "\\begin{ExampleCode}\n",
       "require(graphics)\n",
       "pairs(mtcars, main = \"mtcars data\", gap = 1/4)\n",
       "coplot(mpg ~ disp | as.factor(cyl), data = mtcars,\n",
       "       panel = panel.smooth, rows = 1)\n",
       "## possibly more meaningful, e.g., for summary() or bivariate plots:\n",
       "mtcars2 <- within(mtcars, {\n",
       "   vs <- factor(vs, labels = c(\"V\", \"S\"))\n",
       "   am <- factor(am, labels = c(\"automatic\", \"manual\"))\n",
       "   cyl  <- ordered(cyl)\n",
       "   gear <- ordered(gear)\n",
       "   carb <- ordered(carb)\n",
       "})\n",
       "summary(mtcars2)\n",
       "\\end{ExampleCode}\n",
       "\\end{Examples}"
      ],
      "text/plain": [
       "mtcars                package:datasets                 R Documentation\n",
       "\n",
       "_\bM_\bo_\bt_\bo_\br _\bT_\br_\be_\bn_\bd _\bC_\ba_\br _\bR_\bo_\ba_\bd _\bT_\be_\bs_\bt_\bs\n",
       "\n",
       "_\bD_\be_\bs_\bc_\br_\bi_\bp_\bt_\bi_\bo_\bn:\n",
       "\n",
       "     The data was extracted from the 1974 _Motor Trend_ US magazine,\n",
       "     and comprises fuel consumption and 10 aspects of automobile design\n",
       "     and performance for 32 automobiles (1973-74 models).\n",
       "\n",
       "_\bU_\bs_\ba_\bg_\be:\n",
       "\n",
       "     mtcars\n",
       "     \n",
       "_\bF_\bo_\br_\bm_\ba_\bt:\n",
       "\n",
       "     A data frame with 32 observations on 11 (numeric) variables.\n",
       "\n",
       "       [, 1]  mpg   Miles/(US) gallon                        \n",
       "       [, 2]  cyl   Number of cylinders                      \n",
       "       [, 3]  disp  Displacement (cu.in.)                    \n",
       "       [, 4]  hp    Gross horsepower                         \n",
       "       [, 5]  drat  Rear axle ratio                          \n",
       "       [, 6]  wt    Weight (1000 lbs)                        \n",
       "       [, 7]  qsec  1/4 mile time                            \n",
       "       [, 8]  vs    Engine (0 = V-shaped, 1 = straight)      \n",
       "       [, 9]  am    Transmission (0 = automatic, 1 = manual) \n",
       "       [,10]  gear  Number of forward gears                  \n",
       "       [,11]  carb  Number of carburetors                    \n",
       "      \n",
       "_\bN_\bo_\bt_\be:\n",
       "\n",
       "     Henderson and Velleman (1981) comment in a footnote to Table 1:\n",
       "     'Hocking [original transcriber]'s noncrucial coding of the Mazda's\n",
       "     rotary engine as a straight six-cylinder engine and the Porsche's\n",
       "     flat engine as a V engine, as well as the inclusion of the diesel\n",
       "     Mercedes 240D, have been retained to enable direct comparisons to\n",
       "     be made with previous analyses.'\n",
       "\n",
       "_\bS_\bo_\bu_\br_\bc_\be:\n",
       "\n",
       "     Henderson and Velleman (1981), Building multiple regression models\n",
       "     interactively.  _Biometrics_, *37*, 391-411.\n",
       "\n",
       "_\bE_\bx_\ba_\bm_\bp_\bl_\be_\bs:\n",
       "\n",
       "     require(graphics)\n",
       "     pairs(mtcars, main = \"mtcars data\", gap = 1/4)\n",
       "     coplot(mpg ~ disp | as.factor(cyl), data = mtcars,\n",
       "            panel = panel.smooth, rows = 1)\n",
       "     ## possibly more meaningful, e.g., for summary() or bivariate plots:\n",
       "     mtcars2 <- within(mtcars, {\n",
       "        vs <- factor(vs, labels = c(\"V\", \"S\"))\n",
       "        am <- factor(am, labels = c(\"automatic\", \"manual\"))\n",
       "        cyl  <- ordered(cyl)\n",
       "        gear <- ordered(gear)\n",
       "        carb <- ordered(carb)\n",
       "     })\n",
       "     summary(mtcars2)\n",
       "     "
      ]
     },
     "metadata": {},
     "output_type": "display_data"
    }
   ],
   "source": [
    "?mtcars\n",
    "help(mtcars)\n",
    "head(mtcars)\n",
    "summary(mtcars)\n",
    "barplot(mtcars$cyl) #all the cases one by one"
   ]
  },
  {
   "cell_type": "code",
   "execution_count": 10,
   "id": "2b60f3db-5073-41a7-a00d-5b75e059e8ac",
   "metadata": {
    "tags": []
   },
   "outputs": [
    {
     "data": {
      "text/plain": [
       "\n",
       " 4  6  8 \n",
       "11  7 14 "
      ]
     },
     "metadata": {},
     "output_type": "display_data"
    },
    {
     "data": {
      "image/png": "[encoded data removed]",
      "text/plain": [
       "plot without title"
      ]
     },
     "metadata": {
      "image/png": {
       "height": 420,
       "width": 420
      }
     },
     "output_type": "display_data"
    },
    {
     "data": {
      "image/png": "[encoded data removed]",
      "text/plain": [
       "plot without title"
      ]
     },
     "metadata": {
      "image/png": {
       "height": 420,
       "width": 420
      }
     },
     "output_type": "display_data"
    }
   ],
   "source": [
    "#create a summary table\n",
    "cylinders <- table(mtcars$cyl) \n",
    "head(cylinders)\n",
    "plot(cylinders)\n",
    "barplot(cylinders)"
   ]
  },
  {
   "cell_type": "markdown",
   "id": "96e20187-e9d3-4eb6-ae50-b057198eb502",
   "metadata": {
    "tags": []
   },
   "source": [
    "## 3. Histogram\n",
    "Quantitative variables, scaled, measured, ratio, ect.Help us to search for:\n",
    "- shape\n",
    "- gaps\n",
    "- outliers\n",
    "- symmetry"
   ]
  },
  {
   "cell_type": "code",
   "execution_count": 11,
   "id": "abd310e9-673c-4145-b52d-f9ce1b92209f",
   "metadata": {
    "tags": []
   },
   "outputs": [
    {
     "data": {
      "image/png": "[encoded data removed]",
      "text/plain": [
       "Plot with title \"Histogram of iris$Petal.Length\""
      ]
     },
     "metadata": {
      "image/png": {
       "height": 420,
       "width": 420
      }
     },
     "output_type": "display_data"
    }
   ],
   "source": [
    "# Let's use Iris dataset.\n",
    "# Plot the basic histogram\n",
    "#n.b. the data must be numerical, no dataframe\n",
    "\n",
    "hist(iris$Petal.Length)"
   ]
  },
  {
   "cell_type": "markdown",
   "id": "9e9a5cf3-63ca-4544-a229-337196762ad3",
   "metadata": {},
   "source": [
    "### Histogram by groupiris\n",
    "\n",
    "- iris$Petal.Width - This retrieves the column with the petal width values from the iris data frame.\n",
    "\n",
    "- iris$Species == \"setosa\" - This returns a logical vector indicating whether each iris flower belongs to the \"setosa\" species or not.\n",
    "\n",
    "- iris$Petal.Width [iris$Species == \"setosa\"] - This filters the petal width values to only include the flowers that belong to the \"setosa\" species."
   ]
  },
  {
   "cell_type": "code",
   "execution_count": 12,
   "id": "62aed753-1f9b-40e0-ba56-cae6d8740e6a",
   "metadata": {
    "tags": []
   },
   "outputs": [
    {
     "data": {
      "image/png": "[encoded data removed]",
      "text/plain": [
       "Plot with title \"Petal Width for Virginica\""
      ]
     },
     "metadata": {
      "image/png": {
       "height": 420,
       "width": 420
      }
     },
     "output_type": "display_data"
    }
   ],
   "source": [
    "#histogram by group (features, speaces, phenomena)\n",
    "\n",
    "#Put graphs in 3 rows and 1 columns\n",
    "\n",
    "par(mfrow = c(3,1)) #par=parameter, c=concatenate\n",
    "\n",
    "#histogram fo each species using options\n",
    "\n",
    "\n",
    "# Histograms for each species using options\n",
    "hist(iris$Petal.Width [iris$Species == \"setosa\"],\n",
    "  xlim = c(0, 10), #same scale for each plot\n",
    "  breaks = 9, #number of bins \n",
    "  main = \"Petal Width for Setosa\", #title\n",
    "  xlab = \"\",\n",
    "  col = \"red\")\n",
    "\n",
    "hist(iris$Petal.Width [iris$Species == \"versicolor\"],\n",
    "  xlim = c(0, 3),\n",
    "  breaks = 9,\n",
    "  main = \"Petal Width for Versicolor\",\n",
    "  xlab = \"\",\n",
    "  col = \"purple\")\n",
    "\n",
    "hist(iris$Petal.Width [iris$Species == \"virginica\"],\n",
    "  xlim = c(0, 3),\n",
    "  breaks = 9,\n",
    "  main = \"Petal Width for Virginica\",\n",
    "  xlab = \"\",\n",
    "  col = \"blue\")"
   ]
  },
  {
   "cell_type": "markdown",
   "id": "0b29dd77-83f4-4cdc-b83e-fada47af9ad2",
   "metadata": {},
   "source": [
    "## Data Visualization: Univariate case\n",
    "We have ralready seen: \n",
    "For univariate data the indeces of dispersion are:\n",
    "- range\n",
    "- interquartile range (IQR)\n",
    "- variance\n",
    "- etc\n",
    "\n",
    "Let's use summary() function and lets plot the scatterplot\n",
    "\n",
    "n.b. for categirical data we have only counting index"
   ]
  },
  {
   "cell_type": "code",
   "execution_count": 13,
   "id": "3d5afefd-2642-4d43-8786-e2086b0eb979",
   "metadata": {
    "tags": []
   },
   "outputs": [
    {
     "data": {
      "text/plain": [
       "  Sepal.Length    Sepal.Width     Petal.Length    Petal.Width   \n",
       " Min.   :4.300   Min.   :2.000   Min.   :1.000   Min.   :0.100  \n",
       " 1st Qu.:5.100   1st Qu.:2.800   1st Qu.:1.600   1st Qu.:0.300  \n",
       " Median :5.800   Median :3.000   Median :4.350   Median :1.300  \n",
       " Mean   :5.843   Mean   :3.057   Mean   :3.758   Mean   :1.199  \n",
       " 3rd Qu.:6.400   3rd Qu.:3.300   3rd Qu.:5.100   3rd Qu.:1.800  \n",
       " Max.   :7.900   Max.   :4.400   Max.   :6.900   Max.   :2.500  \n",
       "       Species  \n",
       " setosa    :50  \n",
       " versicolor:50  \n",
       " virginica :50  \n",
       "                \n",
       "                \n",
       "                "
      ]
     },
     "metadata": {},
     "output_type": "display_data"
    }
   ],
   "source": [
    "summary(iris)"
   ]
  },
  {
   "cell_type": "markdown",
   "id": "619ae307-f946-4a11-8dbc-4c74dee0f54c",
   "metadata": {},
   "source": [
    "<img src=\"miscellanea/1_boxplot.jpg\" width=\"400\">"
   ]
  },
  {
   "cell_type": "markdown",
   "id": "ded9f69d-e49a-4a55-af47-b9b9ec38e4e5",
   "metadata": {},
   "source": [
    "## Exercise of data visualization\n",
    "Lets' observe a set of relative distance measurement acquired by two radio-frequency tranceives. Each set of measurement has been made at fixed distance"
   ]
  },
  {
   "cell_type": "code",
   "execution_count": 14,
   "id": "c0f79765-697c-4d00-9ca5-d05117e7b2be",
   "metadata": {},
   "outputs": [
    {
     "data": {
      "text/html": [
       "'data.frame'"
      ],
      "text/latex": [
       "'data.frame'"
      ],
      "text/markdown": [
       "'data.frame'"
      ],
      "text/plain": [
       "[1] \"data.frame\""
      ]
     },
     "metadata": {},
     "output_type": "display_data"
    },
    {
     "data": {
      "text/html": [
       "<table class=\"dataframe\">\n",
       "<caption>A data.frame: 6 × 9</caption>\n",
       "<thead>\n",
       "\t<tr><th></th><th scope=col>X1m</th><th scope=col>X2m</th><th scope=col>X3m</th><th scope=col>X4m</th><th scope=col>X5m</th><th scope=col>X10m</th><th scope=col>X15m</th><th scope=col>X25m</th><th scope=col>X30m</th></tr>\n",
       "\t<tr><th></th><th scope=col>&lt;dbl&gt;</th><th scope=col>&lt;dbl&gt;</th><th scope=col>&lt;dbl&gt;</th><th scope=col>&lt;dbl&gt;</th><th scope=col>&lt;dbl&gt;</th><th scope=col>&lt;dbl&gt;</th><th scope=col>&lt;dbl&gt;</th><th scope=col>&lt;dbl&gt;</th><th scope=col>&lt;dbl&gt;</th></tr>\n",
       "</thead>\n",
       "<tbody>\n",
       "\t<tr><th scope=row>1</th><td>-0.13</td><td>-0.22</td><td>-0.12</td><td>-0.14</td><td>-0.16</td><td>-0.08</td><td>-0.01</td><td> 0.03</td><td>-0.16</td></tr>\n",
       "\t<tr><th scope=row>2</th><td>-0.12</td><td>-0.21</td><td>-0.11</td><td>-0.14</td><td>-0.15</td><td>-0.09</td><td> 0.02</td><td> 0.01</td><td>-0.17</td></tr>\n",
       "\t<tr><th scope=row>3</th><td>-0.12</td><td>-0.20</td><td>-0.11</td><td>-0.14</td><td>-0.13</td><td>-0.08</td><td> 0.02</td><td>-0.02</td><td>-0.13</td></tr>\n",
       "\t<tr><th scope=row>4</th><td>-0.11</td><td>-0.20</td><td>-0.11</td><td>-0.13</td><td>-0.13</td><td>-0.12</td><td> 0.03</td><td> 0.00</td><td>-0.14</td></tr>\n",
       "\t<tr><th scope=row>5</th><td>-0.11</td><td>-0.20</td><td>-0.10</td><td>-0.13</td><td>-0.12</td><td>-0.08</td><td> 0.03</td><td> 0.02</td><td>-0.14</td></tr>\n",
       "\t<tr><th scope=row>6</th><td>-0.11</td><td>-0.20</td><td>-0.10</td><td>-0.12</td><td>-0.12</td><td>-0.07</td><td> 0.03</td><td> 0.00</td><td>-0.10</td></tr>\n",
       "</tbody>\n",
       "</table>\n"
      ],
      "text/latex": [
       "A data.frame: 6 × 9\n",
       "\\begin{tabular}{r|lllllllll}\n",
       "  & X1m & X2m & X3m & X4m & X5m & X10m & X15m & X25m & X30m\\\\\n",
       "  & <dbl> & <dbl> & <dbl> & <dbl> & <dbl> & <dbl> & <dbl> & <dbl> & <dbl>\\\\\n",
       "\\hline\n",
       "\t1 & -0.13 & -0.22 & -0.12 & -0.14 & -0.16 & -0.08 & -0.01 &  0.03 & -0.16\\\\\n",
       "\t2 & -0.12 & -0.21 & -0.11 & -0.14 & -0.15 & -0.09 &  0.02 &  0.01 & -0.17\\\\\n",
       "\t3 & -0.12 & -0.20 & -0.11 & -0.14 & -0.13 & -0.08 &  0.02 & -0.02 & -0.13\\\\\n",
       "\t4 & -0.11 & -0.20 & -0.11 & -0.13 & -0.13 & -0.12 &  0.03 &  0.00 & -0.14\\\\\n",
       "\t5 & -0.11 & -0.20 & -0.10 & -0.13 & -0.12 & -0.08 &  0.03 &  0.02 & -0.14\\\\\n",
       "\t6 & -0.11 & -0.20 & -0.10 & -0.12 & -0.12 & -0.07 &  0.03 &  0.00 & -0.10\\\\\n",
       "\\end{tabular}\n"
      ],
      "text/markdown": [
       "\n",
       "A data.frame: 6 × 9\n",
       "\n",
       "| <!--/--> | X1m &lt;dbl&gt; | X2m &lt;dbl&gt; | X3m &lt;dbl&gt; | X4m &lt;dbl&gt; | X5m &lt;dbl&gt; | X10m &lt;dbl&gt; | X15m &lt;dbl&gt; | X25m &lt;dbl&gt; | X30m &lt;dbl&gt; |\n",
       "|---|---|---|---|---|---|---|---|---|---|\n",
       "| 1 | -0.13 | -0.22 | -0.12 | -0.14 | -0.16 | -0.08 | -0.01 |  0.03 | -0.16 |\n",
       "| 2 | -0.12 | -0.21 | -0.11 | -0.14 | -0.15 | -0.09 |  0.02 |  0.01 | -0.17 |\n",
       "| 3 | -0.12 | -0.20 | -0.11 | -0.14 | -0.13 | -0.08 |  0.02 | -0.02 | -0.13 |\n",
       "| 4 | -0.11 | -0.20 | -0.11 | -0.13 | -0.13 | -0.12 |  0.03 |  0.00 | -0.14 |\n",
       "| 5 | -0.11 | -0.20 | -0.10 | -0.13 | -0.12 | -0.08 |  0.03 |  0.02 | -0.14 |\n",
       "| 6 | -0.11 | -0.20 | -0.10 | -0.12 | -0.12 | -0.07 |  0.03 |  0.00 | -0.10 |\n",
       "\n"
      ],
      "text/plain": [
       "  X1m   X2m   X3m   X4m   X5m   X10m  X15m  X25m  X30m \n",
       "1 -0.13 -0.22 -0.12 -0.14 -0.16 -0.08 -0.01  0.03 -0.16\n",
       "2 -0.12 -0.21 -0.11 -0.14 -0.15 -0.09  0.02  0.01 -0.17\n",
       "3 -0.12 -0.20 -0.11 -0.14 -0.13 -0.08  0.02 -0.02 -0.13\n",
       "4 -0.11 -0.20 -0.11 -0.13 -0.13 -0.12  0.03  0.00 -0.14\n",
       "5 -0.11 -0.20 -0.10 -0.13 -0.12 -0.08  0.03  0.02 -0.14\n",
       "6 -0.11 -0.20 -0.10 -0.12 -0.12 -0.07  0.03  0.00 -0.10"
      ]
     },
     "metadata": {},
     "output_type": "display_data"
    },
    {
     "data": {
      "text/html": [
       "'numeric'"
      ],
      "text/latex": [
       "'numeric'"
      ],
      "text/markdown": [
       "'numeric'"
      ],
      "text/plain": [
       "[1] \"numeric\""
      ]
     },
     "metadata": {},
     "output_type": "display_data"
    },
    {
     "data": {
      "text/html": [
       "<style>\n",
       ".list-inline {list-style: none; margin:0; padding: 0}\n",
       ".list-inline>li {display: inline-block}\n",
       ".list-inline>li:not(:last-child)::after {content: \"\\00b7\"; padding: 0 .5ex}\n",
       "</style>\n",
       "<ol class=list-inline><li>-0.13</li><li>-0.12</li><li>-0.12</li><li>-0.11</li><li>-0.11</li><li>-0.11</li></ol>\n"
      ],
      "text/latex": [
       "\\begin{enumerate*}\n",
       "\\item -0.13\n",
       "\\item -0.12\n",
       "\\item -0.12\n",
       "\\item -0.11\n",
       "\\item -0.11\n",
       "\\item -0.11\n",
       "\\end{enumerate*}\n"
      ],
      "text/markdown": [
       "1. -0.13\n",
       "2. -0.12\n",
       "3. -0.12\n",
       "4. -0.11\n",
       "5. -0.11\n",
       "6. -0.11\n",
       "\n",
       "\n"
      ],
      "text/plain": [
       "[1] -0.13 -0.12 -0.12 -0.11 -0.11 -0.11"
      ]
     },
     "metadata": {},
     "output_type": "display_data"
    }
   ],
   "source": [
    "# Load the UWBranges.csv data file\n",
    "ranges <- read.csv(\"UWBrangesErrors.csv\", sep = \",\")\n",
    "# Clean ranges dataset of 0.0 values\n",
    "# ranges[ranges == 0] <- NA\n",
    "class(ranges)\n",
    "head(ranges)\n",
    "class(ranges$X1m)\n",
    "head(ranges$X1m)\n"
   ]
  },
  {
   "cell_type": "markdown",
   "id": "edd0a617-f014-47eb-80cd-d85184ec34a7",
   "metadata": {},
   "source": [
    "### 1. Plot Ranges and chek the plot\n"
   ]
  },
  {
   "cell_type": "code",
   "execution_count": 15,
   "id": "4faa6ee6-2c52-44cc-bf70-08b6454b7a88",
   "metadata": {},
   "outputs": [],
   "source": [
    "#plot ranges:"
   ]
  },
  {
   "cell_type": "markdown",
   "id": "5542b5b3-5f4e-4670-a056-3d6ad2461f91",
   "metadata": {},
   "source": [
    "### 2. Plot histogram of range errors for each variable"
   ]
  },
  {
   "cell_type": "code",
   "execution_count": 16,
   "id": "558ec699-814c-4022-ac9c-c4e9eb494cf6",
   "metadata": {},
   "outputs": [],
   "source": [
    "#histogram by group (features, speaces, phenomena)\n",
    "\n",
    "#Put graphs in 5 rows and 2 columns using par(mfrow = c(5,2))\n"
   ]
  },
  {
   "cell_type": "markdown",
   "id": "d6c3a3d2-a7d9-4bcd-bfbe-8f15205f2630",
   "metadata": {},
   "source": [
    "### 3. Plot Bocplot"
   ]
  },
  {
   "cell_type": "code",
   "execution_count": 17,
   "id": "e40f325b-877c-46a5-a458-0ff818ef1af8",
   "metadata": {
    "tags": []
   },
   "outputs": [],
   "source": [
    "# Plot Boxplot:"
   ]
  },
  {
   "cell_type": "markdown",
   "id": "8bbcb444-5772-44f6-acee-8dd53f7a3b6d",
   "metadata": {},
   "source": [
    "### n.b. Go to boxplot!"
   ]
  },
  {
   "cell_type": "code",
   "execution_count": null,
   "id": "9d96aba5-e059-40c3-9134-7f2a8186eb04",
   "metadata": {},
   "outputs": [],
   "source": []
  }
 ],
 "metadata": {
  "kernelspec": {
   "display_name": "R",
   "language": "R",
   "name": "ir"
  },
  "language_info": {
   "codemirror_mode": "r",
   "file_extension": ".r",
   "mimetype": "text/x-r-source",
   "name": "R",
   "pygments_lexer": "r",
   "version": "4.1.3"
  }
 },
 "nbformat": 4,
 "nbformat_minor": 5
}
