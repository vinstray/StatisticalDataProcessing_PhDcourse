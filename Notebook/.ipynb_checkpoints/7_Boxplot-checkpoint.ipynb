{
 "cells": [
  {
   "cell_type": "markdown",
   "id": "5a332a50-4b19-4240-92fb-12699c935e62",
   "metadata": {
    "tags": []
   },
   "source": [
    "# Data visualization: univariate case"
   ]
  },
  {
   "cell_type": "markdown",
   "id": "55c0803d-6d64-4d56-ac63-4d4cd26443ec",
   "metadata": {
    "tags": []
   },
   "source": [
    "<img src=\"miscellanea/1_boxplot.jpg\" width=\"400\">"
   ]
  },
  {
   "cell_type": "markdown",
   "id": "c275dba0-a417-4536-80ce-6ef5bedbc79d",
   "metadata": {},
   "source": [
    "## Exercise of data visualization\n",
    "Lets' observe a set of relative distance measurement acquired by two radio-frequency tranceives. Each set of measurement has been made at fixed distance"
   ]
  },
  {
   "cell_type": "code",
   "execution_count": 1,
   "id": "95cd8192-5bde-4f48-9453-aa9f9dc54fea",
   "metadata": {
    "tags": []
   },
   "outputs": [
    {
     "data": {
      "text/html": [
       "<table class=\"dataframe\">\n",
       "<caption>A data.frame: 6 × 5</caption>\n",
       "<thead>\n",
       "\t<tr><th></th><th scope=col>Sepal.Length</th><th scope=col>Sepal.Width</th><th scope=col>Petal.Length</th><th scope=col>Petal.Width</th><th scope=col>Species</th></tr>\n",
       "\t<tr><th></th><th scope=col>&lt;dbl&gt;</th><th scope=col>&lt;dbl&gt;</th><th scope=col>&lt;dbl&gt;</th><th scope=col>&lt;dbl&gt;</th><th scope=col>&lt;fct&gt;</th></tr>\n",
       "</thead>\n",
       "<tbody>\n",
       "\t<tr><th scope=row>1</th><td>5.1</td><td>3.5</td><td>1.4</td><td>0.2</td><td>setosa</td></tr>\n",
       "\t<tr><th scope=row>2</th><td>4.9</td><td>3.0</td><td>1.4</td><td>0.2</td><td>setosa</td></tr>\n",
       "\t<tr><th scope=row>3</th><td>4.7</td><td>3.2</td><td>1.3</td><td>0.2</td><td>setosa</td></tr>\n",
       "\t<tr><th scope=row>4</th><td>4.6</td><td>3.1</td><td>1.5</td><td>0.2</td><td>setosa</td></tr>\n",
       "\t<tr><th scope=row>5</th><td>5.0</td><td>3.6</td><td>1.4</td><td>0.2</td><td>setosa</td></tr>\n",
       "\t<tr><th scope=row>6</th><td>5.4</td><td>3.9</td><td>1.7</td><td>0.4</td><td>setosa</td></tr>\n",
       "</tbody>\n",
       "</table>\n"
      ],
      "text/latex": [
       "A data.frame: 6 × 5\n",
       "\\begin{tabular}{r|lllll}\n",
       "  & Sepal.Length & Sepal.Width & Petal.Length & Petal.Width & Species\\\\\n",
       "  & <dbl> & <dbl> & <dbl> & <dbl> & <fct>\\\\\n",
       "\\hline\n",
       "\t1 & 5.1 & 3.5 & 1.4 & 0.2 & setosa\\\\\n",
       "\t2 & 4.9 & 3.0 & 1.4 & 0.2 & setosa\\\\\n",
       "\t3 & 4.7 & 3.2 & 1.3 & 0.2 & setosa\\\\\n",
       "\t4 & 4.6 & 3.1 & 1.5 & 0.2 & setosa\\\\\n",
       "\t5 & 5.0 & 3.6 & 1.4 & 0.2 & setosa\\\\\n",
       "\t6 & 5.4 & 3.9 & 1.7 & 0.4 & setosa\\\\\n",
       "\\end{tabular}\n"
      ],
      "text/markdown": [
       "\n",
       "A data.frame: 6 × 5\n",
       "\n",
       "| <!--/--> | Sepal.Length &lt;dbl&gt; | Sepal.Width &lt;dbl&gt; | Petal.Length &lt;dbl&gt; | Petal.Width &lt;dbl&gt; | Species &lt;fct&gt; |\n",
       "|---|---|---|---|---|---|\n",
       "| 1 | 5.1 | 3.5 | 1.4 | 0.2 | setosa |\n",
       "| 2 | 4.9 | 3.0 | 1.4 | 0.2 | setosa |\n",
       "| 3 | 4.7 | 3.2 | 1.3 | 0.2 | setosa |\n",
       "| 4 | 4.6 | 3.1 | 1.5 | 0.2 | setosa |\n",
       "| 5 | 5.0 | 3.6 | 1.4 | 0.2 | setosa |\n",
       "| 6 | 5.4 | 3.9 | 1.7 | 0.4 | setosa |\n",
       "\n"
      ],
      "text/plain": [
       "  Sepal.Length Sepal.Width Petal.Length Petal.Width Species\n",
       "1 5.1          3.5         1.4          0.2         setosa \n",
       "2 4.9          3.0         1.4          0.2         setosa \n",
       "3 4.7          3.2         1.3          0.2         setosa \n",
       "4 4.6          3.1         1.5          0.2         setosa \n",
       "5 5.0          3.6         1.4          0.2         setosa \n",
       "6 5.4          3.9         1.7          0.4         setosa "
      ]
     },
     "metadata": {},
     "output_type": "display_data"
    }
   ],
   "source": [
    "head(iris)"
   ]
  },
  {
   "cell_type": "code",
   "execution_count": 2,
   "id": "c1ae668e-235b-4a99-a9c2-f8718a6932ad",
   "metadata": {
    "tags": []
   },
   "outputs": [
    {
     "data": {
      "text/html": [
       "'data.frame'"
      ],
      "text/latex": [
       "'data.frame'"
      ],
      "text/markdown": [
       "'data.frame'"
      ],
      "text/plain": [
       "[1] \"data.frame\""
      ]
     },
     "metadata": {},
     "output_type": "display_data"
    },
    {
     "data": {
      "text/html": [
       "<table class=\"dataframe\">\n",
       "<caption>A data.frame: 6 × 9</caption>\n",
       "<thead>\n",
       "\t<tr><th></th><th scope=col>X1m</th><th scope=col>X2m</th><th scope=col>X3m</th><th scope=col>X4m</th><th scope=col>X5m</th><th scope=col>X10m</th><th scope=col>X15m</th><th scope=col>X25m</th><th scope=col>X30m</th></tr>\n",
       "\t<tr><th></th><th scope=col>&lt;dbl&gt;</th><th scope=col>&lt;dbl&gt;</th><th scope=col>&lt;dbl&gt;</th><th scope=col>&lt;dbl&gt;</th><th scope=col>&lt;dbl&gt;</th><th scope=col>&lt;dbl&gt;</th><th scope=col>&lt;dbl&gt;</th><th scope=col>&lt;dbl&gt;</th><th scope=col>&lt;dbl&gt;</th></tr>\n",
       "</thead>\n",
       "<tbody>\n",
       "\t<tr><th scope=row>1</th><td>-0.13</td><td>-0.22</td><td>-0.12</td><td>-0.14</td><td>-0.16</td><td>-0.08</td><td>-0.01</td><td> 0.03</td><td>-0.16</td></tr>\n",
       "\t<tr><th scope=row>2</th><td>-0.12</td><td>-0.21</td><td>-0.11</td><td>-0.14</td><td>-0.15</td><td>-0.09</td><td> 0.02</td><td> 0.01</td><td>-0.17</td></tr>\n",
       "\t<tr><th scope=row>3</th><td>-0.12</td><td>-0.20</td><td>-0.11</td><td>-0.14</td><td>-0.13</td><td>-0.08</td><td> 0.02</td><td>-0.02</td><td>-0.13</td></tr>\n",
       "\t<tr><th scope=row>4</th><td>-0.11</td><td>-0.20</td><td>-0.11</td><td>-0.13</td><td>-0.13</td><td>-0.12</td><td> 0.03</td><td> 0.00</td><td>-0.14</td></tr>\n",
       "\t<tr><th scope=row>5</th><td>-0.11</td><td>-0.20</td><td>-0.10</td><td>-0.13</td><td>-0.12</td><td>-0.08</td><td> 0.03</td><td> 0.02</td><td>-0.14</td></tr>\n",
       "\t<tr><th scope=row>6</th><td>-0.11</td><td>-0.20</td><td>-0.10</td><td>-0.12</td><td>-0.12</td><td>-0.07</td><td> 0.03</td><td> 0.00</td><td>-0.10</td></tr>\n",
       "</tbody>\n",
       "</table>\n"
      ],
      "text/latex": [
       "A data.frame: 6 × 9\n",
       "\\begin{tabular}{r|lllllllll}\n",
       "  & X1m & X2m & X3m & X4m & X5m & X10m & X15m & X25m & X30m\\\\\n",
       "  & <dbl> & <dbl> & <dbl> & <dbl> & <dbl> & <dbl> & <dbl> & <dbl> & <dbl>\\\\\n",
       "\\hline\n",
       "\t1 & -0.13 & -0.22 & -0.12 & -0.14 & -0.16 & -0.08 & -0.01 &  0.03 & -0.16\\\\\n",
       "\t2 & -0.12 & -0.21 & -0.11 & -0.14 & -0.15 & -0.09 &  0.02 &  0.01 & -0.17\\\\\n",
       "\t3 & -0.12 & -0.20 & -0.11 & -0.14 & -0.13 & -0.08 &  0.02 & -0.02 & -0.13\\\\\n",
       "\t4 & -0.11 & -0.20 & -0.11 & -0.13 & -0.13 & -0.12 &  0.03 &  0.00 & -0.14\\\\\n",
       "\t5 & -0.11 & -0.20 & -0.10 & -0.13 & -0.12 & -0.08 &  0.03 &  0.02 & -0.14\\\\\n",
       "\t6 & -0.11 & -0.20 & -0.10 & -0.12 & -0.12 & -0.07 &  0.03 &  0.00 & -0.10\\\\\n",
       "\\end{tabular}\n"
      ],
      "text/markdown": [
       "\n",
       "A data.frame: 6 × 9\n",
       "\n",
       "| <!--/--> | X1m &lt;dbl&gt; | X2m &lt;dbl&gt; | X3m &lt;dbl&gt; | X4m &lt;dbl&gt; | X5m &lt;dbl&gt; | X10m &lt;dbl&gt; | X15m &lt;dbl&gt; | X25m &lt;dbl&gt; | X30m &lt;dbl&gt; |\n",
       "|---|---|---|---|---|---|---|---|---|---|\n",
       "| 1 | -0.13 | -0.22 | -0.12 | -0.14 | -0.16 | -0.08 | -0.01 |  0.03 | -0.16 |\n",
       "| 2 | -0.12 | -0.21 | -0.11 | -0.14 | -0.15 | -0.09 |  0.02 |  0.01 | -0.17 |\n",
       "| 3 | -0.12 | -0.20 | -0.11 | -0.14 | -0.13 | -0.08 |  0.02 | -0.02 | -0.13 |\n",
       "| 4 | -0.11 | -0.20 | -0.11 | -0.13 | -0.13 | -0.12 |  0.03 |  0.00 | -0.14 |\n",
       "| 5 | -0.11 | -0.20 | -0.10 | -0.13 | -0.12 | -0.08 |  0.03 |  0.02 | -0.14 |\n",
       "| 6 | -0.11 | -0.20 | -0.10 | -0.12 | -0.12 | -0.07 |  0.03 |  0.00 | -0.10 |\n",
       "\n"
      ],
      "text/plain": [
       "  X1m   X2m   X3m   X4m   X5m   X10m  X15m  X25m  X30m \n",
       "1 -0.13 -0.22 -0.12 -0.14 -0.16 -0.08 -0.01  0.03 -0.16\n",
       "2 -0.12 -0.21 -0.11 -0.14 -0.15 -0.09  0.02  0.01 -0.17\n",
       "3 -0.12 -0.20 -0.11 -0.14 -0.13 -0.08  0.02 -0.02 -0.13\n",
       "4 -0.11 -0.20 -0.11 -0.13 -0.13 -0.12  0.03  0.00 -0.14\n",
       "5 -0.11 -0.20 -0.10 -0.13 -0.12 -0.08  0.03  0.02 -0.14\n",
       "6 -0.11 -0.20 -0.10 -0.12 -0.12 -0.07  0.03  0.00 -0.10"
      ]
     },
     "metadata": {},
     "output_type": "display_data"
    },
    {
     "data": {
      "text/html": [
       "'numeric'"
      ],
      "text/latex": [
       "'numeric'"
      ],
      "text/markdown": [
       "'numeric'"
      ],
      "text/plain": [
       "[1] \"numeric\""
      ]
     },
     "metadata": {},
     "output_type": "display_data"
    },
    {
     "data": {
      "text/html": [
       "<style>\n",
       ".list-inline {list-style: none; margin:0; padding: 0}\n",
       ".list-inline>li {display: inline-block}\n",
       ".list-inline>li:not(:last-child)::after {content: \"\\00b7\"; padding: 0 .5ex}\n",
       "</style>\n",
       "<ol class=list-inline><li>-0.13</li><li>-0.12</li><li>-0.12</li><li>-0.11</li><li>-0.11</li><li>-0.11</li></ol>\n"
      ],
      "text/latex": [
       "\\begin{enumerate*}\n",
       "\\item -0.13\n",
       "\\item -0.12\n",
       "\\item -0.12\n",
       "\\item -0.11\n",
       "\\item -0.11\n",
       "\\item -0.11\n",
       "\\end{enumerate*}\n"
      ],
      "text/markdown": [
       "1. -0.13\n",
       "2. -0.12\n",
       "3. -0.12\n",
       "4. -0.11\n",
       "5. -0.11\n",
       "6. -0.11\n",
       "\n",
       "\n"
      ],
      "text/plain": [
       "[1] -0.13 -0.12 -0.12 -0.11 -0.11 -0.11"
      ]
     },
     "metadata": {},
     "output_type": "display_data"
    }
   ],
   "source": [
    "# Load the UWBranges.csv data file\n",
    "ranges <- read.csv(\"UWBrangesErrors.csv\", sep = \",\")\n",
    "# Clean ranges dataset of 0.0 values\n",
    "# ranges[ranges == 0] <- NA\n",
    "class(ranges)\n",
    "head(ranges)\n",
    "class(ranges$X1m)\n",
    "head(ranges$X1m)\n"
   ]
  },
  {
   "cell_type": "code",
   "execution_count": 3,
   "id": "3f46d33c-eb2f-488e-bbaa-acef9ff08e69",
   "metadata": {
    "tags": []
   },
   "outputs": [
    {
     "data": {
      "image/png": "[encoded data removed]",
      "text/plain": [
       "plot without title"
      ]
     },
     "metadata": {
      "image/png": {
       "height": 420,
       "width": 420
      }
     },
     "output_type": "display_data"
    }
   ],
   "source": [
    "#\n",
    "plot(ranges)"
   ]
  },
  {
   "cell_type": "code",
   "execution_count": 4,
   "id": "ff4dd0ff-2402-416e-8808-a080938868f9",
   "metadata": {
    "tags": []
   },
   "outputs": [
    {
     "data": {
      "image/png": "[encoded data removed]",
      "text/plain": [
       "Plot with title \"Range errors at 25m\""
      ]
     },
     "metadata": {
      "image/png": {
       "height": 420,
       "width": 420
      }
     },
     "output_type": "display_data"
    }
   ],
   "source": [
    "#histogram by group (features, speaces, phenomena)\n",
    "\n",
    "#Put graphs in 5 rows and 2 columns\n",
    "\n",
    "par(mfrow = c(5,2))\n",
    "\n",
    "# Histograms for each species using options\n",
    "hist(ranges$X1m,\n",
    "  breaks = 9,\n",
    "  main = \"Range errors at 1m\",\n",
    "  xlab = \"\",\n",
    "  col = \"red\")\n",
    "\n",
    "# Histograms for each species using options\n",
    "hist(ranges$X2m,\n",
    "  breaks = 9,\n",
    "  main = \"Range errors at 2m\",\n",
    "  xlab = \"\",\n",
    "  col = \"red\")\n",
    "\n",
    "# Histograms for each species using options\n",
    "hist(ranges$X3m,\n",
    "  breaks = 9,\n",
    "  main = \"Range errors at 3m\",\n",
    "  xlab = \"\",\n",
    "  col = \"red\")\n",
    "\n",
    "# Histograms for each species using options\n",
    "hist(ranges$X4m,\n",
    "  breaks = 9,\n",
    "  main = \"Range errors at 4m\",\n",
    "  xlab = \"\",\n",
    "  col = \"red\")\n",
    "hist(ranges$X1m,\n",
    "  breaks = 9,\n",
    "  main = \"Range errors at 5m\",\n",
    "  xlab = \"\",\n",
    "  col = \"red\")\n",
    "\n",
    "# Histograms for each species using options\n",
    "hist(ranges$X2m,\n",
    "  breaks = 9,\n",
    "  main = \"Range errors at 10m\",\n",
    "  xlab = \"\",\n",
    "  col = \"red\")\n",
    "\n",
    "# Histograms for each species using options\n",
    "hist(ranges$X3m,\n",
    "  breaks = 9,\n",
    "  main = \"Range errors at 15m\",\n",
    "  xlab = \"\",\n",
    "  col = \"red\")\n",
    "\n",
    "# Histograms for each species using options\n",
    "hist(ranges$X4m,\n",
    "  breaks = 9,\n",
    "  main = \"Range errors at 25m\",\n",
    "  xlab = \"\",\n",
    "  col = \"red\")\n"
   ]
  },
  {
   "cell_type": "code",
   "execution_count": 5,
   "id": "38683c30-74bc-4929-9f4e-0e2c1e2da977",
   "metadata": {
    "tags": []
   },
   "outputs": [
    {
     "ename": "ERROR",
     "evalue": "Error in df[, colnames(df)]: oggetto di tipo 'closure' non suddivisibile\n",
     "output_type": "error",
     "traceback": [
      "Error in df[, colnames(df)]: oggetto di tipo 'closure' non suddivisibile\nTraceback:\n",
      "1. boxplot(df[, colnames(df)], col = c(\"red\", \"blue\", \"green\"))"
     ]
    },
    {
     "data": {
      "image/png": "[encoded data removed]",
      "text/plain": [
       "plot without title"
      ]
     },
     "metadata": {
      "image/png": {
       "height": 420,
       "width": 420
      }
     },
     "output_type": "display_data"
    }
   ],
   "source": [
    "boxplot(ranges, col = c(\"bisque\"))"
   ]
  },
  {
   "cell_type": "code",
   "execution_count": null,
   "id": "8db9db0a-6a6a-4161-9c0c-ae29a7bcf122",
   "metadata": {
    "tags": []
   },
   "outputs": [],
   "source": [
    "help(boxplot)"
   ]
  },
  {
   "cell_type": "code",
   "execution_count": null,
   "id": "ad3cb842-5fb9-4f1b-8408-42edff773733",
   "metadata": {
    "tags": []
   },
   "outputs": [],
   "source": [
    "par(mfrow = c(1, 3))\n",
    "\n",
    "boxplot(ranges$X1m)\n",
    "boxplot(ranges$X2m)\n",
    "boxplot(ranges$X3m)\n",
    "xlab=colnames(ranges[0:3])\n",
    "\n",
    "\n",
    "# df <- data.frame(A = rnorm(100), B = rnorm(100), C = rnorm(100))\n",
    "# boxplot(A ~ 1, data = df, col = \"red\")\n",
    "\n",
    "\n",
    "\n",
    "# # Boxplots of mpg by number of gears \n",
    "# # observations (points) are overlayed and jittered\n",
    "# qplot(gear, mpg, data=mtcars, geom=c(\"boxplot\", \"jitter\"), \n",
    "#    fill=gear, main=\"Mileage by Gear Number\",\n",
    "#    xlab=\"\", ylab=\"Miles per Gallon\")"
   ]
  }
 ],
 "metadata": {
  "kernelspec": {
   "display_name": "R",
   "language": "R",
   "name": "ir"
  },
  "language_info": {
   "codemirror_mode": "r",
   "file_extension": ".r",
   "mimetype": "text/x-r-source",
   "name": "R",
   "pygments_lexer": "r",
   "version": "4.1.3"
  }
 },
 "nbformat": 4,
 "nbformat_minor": 5
}
