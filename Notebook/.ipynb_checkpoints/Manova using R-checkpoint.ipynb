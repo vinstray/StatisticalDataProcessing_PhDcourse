{
 "cells": [
  {
   "cell_type": "markdown",
   "id": "7435f20c",
   "metadata": {},
   "source": [
    "https://www.reneshbedre.com/blog/manova.html#test-manova-assumptions"
   ]
  },
  {
   "cell_type": "markdown",
   "id": "0e529136",
   "metadata": {},
   "source": [
    "Load dataset"
   ]
  },
  {
   "cell_type": "code",
   "execution_count": 1,
   "id": "26178998",
   "metadata": {},
   "outputs": [
    {
     "name": "stderr",
     "output_type": "stream",
     "text": [
      "-- \u001b[1mAttaching packages\u001b[22m --------------------------------------- tidyverse 1.3.2 --\n",
      "\u001b[32mv\u001b[39m \u001b[34mggplot2\u001b[39m 3.4.0      \u001b[32mv\u001b[39m \u001b[34mpurrr  \u001b[39m 1.0.0 \n",
      "\u001b[32mv\u001b[39m \u001b[34mtibble \u001b[39m 3.1.8      \u001b[32mv\u001b[39m \u001b[34mdplyr  \u001b[39m 1.0.10\n",
      "\u001b[32mv\u001b[39m \u001b[34mtidyr  \u001b[39m 1.2.1      \u001b[32mv\u001b[39m \u001b[34mstringr\u001b[39m 1.5.0 \n",
      "\u001b[32mv\u001b[39m \u001b[34mreadr  \u001b[39m 2.1.3      \u001b[32mv\u001b[39m \u001b[34mforcats\u001b[39m 0.5.2 \n",
      "-- \u001b[1mConflicts\u001b[22m ------------------------------------------ tidyverse_conflicts() --\n",
      "\u001b[31mx\u001b[39m \u001b[34mdplyr\u001b[39m::\u001b[32mfilter()\u001b[39m masks \u001b[34mstats\u001b[39m::filter()\n",
      "\u001b[31mx\u001b[39m \u001b[34mdplyr\u001b[39m::\u001b[32mlag()\u001b[39m    masks \u001b[34mstats\u001b[39m::lag()\n",
      "\u001b[1mRows: \u001b[22m\u001b[34m40\u001b[39m \u001b[1mColumns: \u001b[22m\u001b[34m3\u001b[39m\n",
      "\u001b[36m--\u001b[39m \u001b[1mColumn specification\u001b[22m \u001b[36m--------------------------------------------------------\u001b[39m\n",
      "\u001b[1mDelimiter:\u001b[22m \",\"\n",
      "\u001b[31mchr\u001b[39m (1): plant_var\n",
      "\u001b[32mdbl\u001b[39m (2): height, canopy_vol\n",
      "\n",
      "\u001b[36mi\u001b[39m Use `spec()` to retrieve the full column specification for this data.\n",
      "\u001b[36mi\u001b[39m Specify the column types or set `show_col_types = FALSE` to quiet this message.\n"
     ]
    },
    {
     "data": {
      "text/html": [
       "<table class=\"dataframe\">\n",
       "<caption>A tibble: 2 × 3</caption>\n",
       "<thead>\n",
       "\t<tr><th scope=col>plant_var</th><th scope=col>height</th><th scope=col>canopy_vol</th></tr>\n",
       "\t<tr><th scope=col>&lt;chr&gt;</th><th scope=col>&lt;dbl&gt;</th><th scope=col>&lt;dbl&gt;</th></tr>\n",
       "</thead>\n",
       "<tbody>\n",
       "\t<tr><td>A</td><td>20</td><td>0.7</td></tr>\n",
       "\t<tr><td>A</td><td>22</td><td>0.8</td></tr>\n",
       "</tbody>\n",
       "</table>\n"
      ],
      "text/latex": [
       "A tibble: 2 × 3\n",
       "\\begin{tabular}{lll}\n",
       " plant\\_var & height & canopy\\_vol\\\\\n",
       " <chr> & <dbl> & <dbl>\\\\\n",
       "\\hline\n",
       "\t A & 20 & 0.7\\\\\n",
       "\t A & 22 & 0.8\\\\\n",
       "\\end{tabular}\n"
      ],
      "text/markdown": [
       "\n",
       "A tibble: 2 × 3\n",
       "\n",
       "| plant_var &lt;chr&gt; | height &lt;dbl&gt; | canopy_vol &lt;dbl&gt; |\n",
       "|---|---|---|\n",
       "| A | 20 | 0.7 |\n",
       "| A | 22 | 0.8 |\n",
       "\n"
      ],
      "text/plain": [
       "  plant_var height canopy_vol\n",
       "1 A         20     0.7       \n",
       "2 A         22     0.8       "
      ]
     },
     "metadata": {},
     "output_type": "display_data"
    }
   ],
   "source": [
    "library(tidyverse)\n",
    "df=read_csv(\"https://reneshbedre.github.io/assets/posts/ancova/manova_data.csv\")\n",
    "head(df, 2)"
   ]
  },
  {
   "cell_type": "markdown",
   "id": "e1c12ed3",
   "metadata": {},
   "source": [
    "Summary statistics and visualization of datasetPermalink\n",
    "Get summary statistics based on each dependent variable,"
   ]
  },
  {
   "cell_type": "code",
   "execution_count": 2,
   "id": "f93b6e78",
   "metadata": {},
   "outputs": [
    {
     "data": {
      "text/html": [
       "<table class=\"dataframe\">\n",
       "<caption>A tibble: 4 × 4</caption>\n",
       "<thead>\n",
       "\t<tr><th scope=col>plant_var</th><th scope=col>n</th><th scope=col>mean</th><th scope=col>sd</th></tr>\n",
       "\t<tr><th scope=col>&lt;chr&gt;</th><th scope=col>&lt;int&gt;</th><th scope=col>&lt;dbl&gt;</th><th scope=col>&lt;dbl&gt;</th></tr>\n",
       "</thead>\n",
       "<tbody>\n",
       "\t<tr><td>A</td><td>10</td><td>18.90</td><td>2.923088</td></tr>\n",
       "\t<tr><td>B</td><td>10</td><td>16.54</td><td>1.920185</td></tr>\n",
       "\t<tr><td>C</td><td>10</td><td> 3.05</td><td>1.039498</td></tr>\n",
       "\t<tr><td>D</td><td>10</td><td> 9.35</td><td>2.106735</td></tr>\n",
       "</tbody>\n",
       "</table>\n"
      ],
      "text/latex": [
       "A tibble: 4 × 4\n",
       "\\begin{tabular}{llll}\n",
       " plant\\_var & n & mean & sd\\\\\n",
       " <chr> & <int> & <dbl> & <dbl>\\\\\n",
       "\\hline\n",
       "\t A & 10 & 18.90 & 2.923088\\\\\n",
       "\t B & 10 & 16.54 & 1.920185\\\\\n",
       "\t C & 10 &  3.05 & 1.039498\\\\\n",
       "\t D & 10 &  9.35 & 2.106735\\\\\n",
       "\\end{tabular}\n"
      ],
      "text/markdown": [
       "\n",
       "A tibble: 4 × 4\n",
       "\n",
       "| plant_var &lt;chr&gt; | n &lt;int&gt; | mean &lt;dbl&gt; | sd &lt;dbl&gt; |\n",
       "|---|---|---|---|\n",
       "| A | 10 | 18.90 | 2.923088 |\n",
       "| B | 10 | 16.54 | 1.920185 |\n",
       "| C | 10 |  3.05 | 1.039498 |\n",
       "| D | 10 |  9.35 | 2.106735 |\n",
       "\n"
      ],
      "text/plain": [
       "  plant_var n  mean  sd      \n",
       "1 A         10 18.90 2.923088\n",
       "2 B         10 16.54 1.920185\n",
       "3 C         10  3.05 1.039498\n",
       "4 D         10  9.35 2.106735"
      ]
     },
     "metadata": {},
     "output_type": "display_data"
    },
    {
     "data": {
      "text/html": [
       "<table class=\"dataframe\">\n",
       "<caption>A tibble: 4 × 4</caption>\n",
       "<thead>\n",
       "\t<tr><th scope=col>plant_var</th><th scope=col>n</th><th scope=col>mean</th><th scope=col>sd</th></tr>\n",
       "\t<tr><th scope=col>&lt;chr&gt;</th><th scope=col>&lt;int&gt;</th><th scope=col>&lt;dbl&gt;</th><th scope=col>&lt;dbl&gt;</th></tr>\n",
       "</thead>\n",
       "<tbody>\n",
       "\t<tr><td>A</td><td>10</td><td>0.784</td><td>0.12130769</td></tr>\n",
       "\t<tr><td>B</td><td>10</td><td>0.608</td><td>0.09681598</td></tr>\n",
       "\t<tr><td>C</td><td>10</td><td>0.272</td><td>0.14327906</td></tr>\n",
       "\t<tr><td>D</td><td>10</td><td>0.474</td><td>0.09453982</td></tr>\n",
       "</tbody>\n",
       "</table>\n"
      ],
      "text/latex": [
       "A tibble: 4 × 4\n",
       "\\begin{tabular}{llll}\n",
       " plant\\_var & n & mean & sd\\\\\n",
       " <chr> & <int> & <dbl> & <dbl>\\\\\n",
       "\\hline\n",
       "\t A & 10 & 0.784 & 0.12130769\\\\\n",
       "\t B & 10 & 0.608 & 0.09681598\\\\\n",
       "\t C & 10 & 0.272 & 0.14327906\\\\\n",
       "\t D & 10 & 0.474 & 0.09453982\\\\\n",
       "\\end{tabular}\n"
      ],
      "text/markdown": [
       "\n",
       "A tibble: 4 × 4\n",
       "\n",
       "| plant_var &lt;chr&gt; | n &lt;int&gt; | mean &lt;dbl&gt; | sd &lt;dbl&gt; |\n",
       "|---|---|---|---|\n",
       "| A | 10 | 0.784 | 0.12130769 |\n",
       "| B | 10 | 0.608 | 0.09681598 |\n",
       "| C | 10 | 0.272 | 0.14327906 |\n",
       "| D | 10 | 0.474 | 0.09453982 |\n",
       "\n"
      ],
      "text/plain": [
       "  plant_var n  mean  sd        \n",
       "1 A         10 0.784 0.12130769\n",
       "2 B         10 0.608 0.09681598\n",
       "3 C         10 0.272 0.14327906\n",
       "4 D         10 0.474 0.09453982"
      ]
     },
     "metadata": {},
     "output_type": "display_data"
    }
   ],
   "source": [
    "# summary statistics for dependent variable height \n",
    "df %>% group_by(plant_var) %>%  summarise(n = n(), mean = mean(height), sd = sd(height))\n",
    "# output\n",
    " \n",
    "\n",
    "# summary statistics for dependent variable canopy_vol \n",
    "df %>% group_by(plant_var) %>%  summarise(n = n(), mean = mean(canopy_vol), sd = sd(canopy_vol))\n",
    "# output\n",
    " "
   ]
  },
  {
   "cell_type": "markdown",
   "id": "bd59e097",
   "metadata": {},
   "source": [
    "Visualize dataset,"
   ]
  },
  {
   "cell_type": "code",
   "execution_count": 3,
   "id": "78ccad01",
   "metadata": {},
   "outputs": [
    {
     "name": "stderr",
     "output_type": "stream",
     "text": [
      "\n",
      "Caricamento pacchetto: 'gridExtra'\n",
      "\n",
      "\n",
      "Il seguente oggetto è mascherato da 'package:dplyr':\n",
      "\n",
      "    combine\n",
      "\n",
      "\n"
     ]
    },
    {
     "data": {
      "image/png": "[encoded data removed]",
      "text/plain": [
       "plot without title"
      ]
     },
     "metadata": {
      "image/png": {
       "height": 420,
       "width": 420
      }
     },
     "output_type": "display_data"
    }
   ],
   "source": [
    "library(gridExtra)\n",
    "p1 <- ggplot(df, aes(x = plant_var, y = height, fill = plant_var)) + geom_boxplot(outlier.shape = NA) + geom_jitter(width = 0.2) + theme(legend.position=\"top\")\n",
    "p2 <- ggplot(df, aes(x = plant_var, y = canopy_vol, fill = plant_var)) + geom_boxplot(outlier.shape = NA) + geom_jitter(width = 0.2) + theme(legend.position=\"top\")\n",
    "grid.arrange(p1, p2, ncol=2)"
   ]
  },
  {
   "cell_type": "markdown",
   "id": "a46460e5",
   "metadata": {},
   "source": [
    "perform one-way MANOVA"
   ]
  },
  {
   "cell_type": "code",
   "execution_count": 4,
   "id": "5b0efd75",
   "metadata": {},
   "outputs": [
    {
     "data": {
      "text/plain": [
       "          Df Pillai approx F num Df den Df    Pr(>F)    \n",
       "plant_var  3 1.0365   12.909      6     72 7.575e-10 ***\n",
       "Residuals 36                                            \n",
       "---\n",
       "Signif. codes:  0 '***' 0.001 '**' 0.01 '*' 0.05 '.' 0.1 ' ' 1"
      ]
     },
     "metadata": {},
     "output_type": "display_data"
    },
    {
     "data": {
      "text/html": [
       "<table class=\"dataframe\">\n",
       "<caption>A effectsize_anova: 1 × 5</caption>\n",
       "<thead>\n",
       "\t<tr><th scope=col>Parameter</th><th scope=col>Eta2_partial</th><th scope=col>CI</th><th scope=col>CI_low</th><th scope=col>CI_high</th></tr>\n",
       "\t<tr><th scope=col>&lt;chr&gt;</th><th scope=col>&lt;dbl&gt;</th><th scope=col>&lt;dbl&gt;</th><th scope=col>&lt;dbl&gt;</th><th scope=col>&lt;dbl&gt;</th></tr>\n",
       "</thead>\n",
       "<tbody>\n",
       "\t<tr><td>plant_var</td><td>0.5182515</td><td>0.95</td><td>0.3618079</td><td>1</td></tr>\n",
       "</tbody>\n",
       "</table>\n"
      ],
      "text/latex": [
       "A effectsize\\_anova: 1 × 5\n",
       "\\begin{tabular}{lllll}\n",
       " Parameter & Eta2\\_partial & CI & CI\\_low & CI\\_high\\\\\n",
       " <chr> & <dbl> & <dbl> & <dbl> & <dbl>\\\\\n",
       "\\hline\n",
       "\t plant\\_var & 0.5182515 & 0.95 & 0.3618079 & 1\\\\\n",
       "\\end{tabular}\n"
      ],
      "text/markdown": [
       "\n",
       "A effectsize_anova: 1 × 5\n",
       "\n",
       "| Parameter &lt;chr&gt; | Eta2_partial &lt;dbl&gt; | CI &lt;dbl&gt; | CI_low &lt;dbl&gt; | CI_high &lt;dbl&gt; |\n",
       "|---|---|---|---|---|\n",
       "| plant_var | 0.5182515 | 0.95 | 0.3618079 | 1 |\n",
       "\n"
      ],
      "text/plain": [
       "  Parameter Eta2_partial CI   CI_low    CI_high\n",
       "1 plant_var 0.5182515    0.95 0.3618079 1      "
      ]
     },
     "metadata": {},
     "output_type": "display_data"
    }
   ],
   "source": [
    "dep_vars <- cbind(df$height, df$canopy_vol)\n",
    "fit <- manova(dep_vars ~ plant_var, data = df)\n",
    "summary(fit)\n",
    "# output\n",
    "         \n",
    "# get effect size\n",
    "library(effectsize)\n",
    "effectsize::eta_squared(fit)\n",
    "# output\n"
   ]
  },
  {
   "cell_type": "markdown",
   "id": "5b6a4fd2",
   "metadata": {},
   "source": [
    "The Pillai’s Trace test statistics is statistically significant [Pillai’s Trace = 1.03, F(6, 72) = 12.90, p < 0.001] and indicates that plant varieties has a statistically significant association with both combined plant height and canopy volume.\n",
    "\n",
    "The measure of effect size (Partial Eta Squared; ηp2) is 0.52 and suggests that there is a large effect of plant varieties on both plant height and canopy volume."
   ]
  },
  {
   "cell_type": "markdown",
   "id": "2f4345ff",
   "metadata": {},
   "source": [
    "post-hoc test\n",
    "The MANOVA results suggest that there are statistically significant (p < 0.001) differences between plant varieties, but it does not tell which groups are different from each other. To know which groups are significantly different, the post-hoc test needs to carry out.\n",
    "\n",
    "To test the between-group differences, the univariate ANOVA can be done on each dependent variable, but this will be not appropriate and lose information that can be obtained from multiple variables together."
   ]
  },
  {
   "cell_type": "markdown",
   "id": "eb2ca22a",
   "metadata": {},
   "source": [
    "Here we will perform the linear discriminant analysis (LDA) to see the differences between each group. LDA will discriminate the groups using information from both the dependent variables."
   ]
  },
  {
   "cell_type": "code",
   "execution_count": 5,
   "id": "9edcdcf6",
   "metadata": {},
   "outputs": [
    {
     "name": "stderr",
     "output_type": "stream",
     "text": [
      "\n",
      "Caricamento pacchetto: 'MASS'\n",
      "\n",
      "\n",
      "Il seguente oggetto è mascherato da 'package:dplyr':\n",
      "\n",
      "    select\n",
      "\n",
      "\n"
     ]
    },
    {
     "data": {
      "text/plain": [
       "Call:\n",
       "lda(df$plant_var ~ dep_vars, CV = F)\n",
       "\n",
       "Prior probabilities of groups:\n",
       "   A    B    C    D \n",
       "0.25 0.25 0.25 0.25 \n",
       "\n",
       "Group means:\n",
       "  dep_vars1 dep_vars2\n",
       "A     18.90     0.784\n",
       "B     16.54     0.608\n",
       "C      3.05     0.272\n",
       "D      9.35     0.474\n",
       "\n",
       "Coefficients of linear discriminants:\n",
       "                 LD1        LD2\n",
       "dep_vars1 -0.4388374 -0.2751091\n",
       "dep_vars2 -1.3949158  9.3256280\n",
       "\n",
       "Proportion of trace:\n",
       "   LD1    LD2 \n",
       "0.9855 0.0145 "
      ]
     },
     "metadata": {},
     "output_type": "display_data"
    },
    {
     "ename": "ERROR",
     "evalue": "Error in eval(expr, envir, enclos): oggetto 'Call' non trovato\n",
     "output_type": "error",
     "traceback": [
      "Error in eval(expr, envir, enclos): oggetto 'Call' non trovato\nTraceback:\n"
     ]
    }
   ],
   "source": [
    "library(MASS)\n",
    "post_hoc <- lda(df$plant_var ~ dep_vars, CV=F)\n",
    "post_hoc\n",
    "# output\n",
    "Call:\n",
    "lda(df$plant_var ~ dep_vars, CV = F)\n",
    "\n",
    "\n",
    "\n",
    "\n",
    "\n",
    "# plot \n",
    "plot_lda <- data.frame(df[, \"plant_var\"], lda = predict(post_hoc)$x)\n",
    "ggplot(plot_lda) + geom_point(aes(x = lda.LD1, y = lda.LD2, colour = plant_var), size = 4)"
   ]
  },
  {
   "cell_type": "markdown",
   "id": "4254f913",
   "metadata": {},
   "source": [
    "The LDA scatter plot discriminates against multiple plant varieties based on the two dependent variables. The C and D plant variety has a significant difference (well separated) as compared to A and B. A and B plant varieties are more similar to each other. Overall, LDA discriminated between multiple plant varieties."
   ]
  },
  {
   "cell_type": "markdown",
   "id": "d1bff013",
   "metadata": {},
   "source": [
    "Test MANOVA assumptionsPermalink\n",
    "Assumptions of multivariate normalityPermalink\n",
    "This test may not be easy to test as it may not be available in all statistical software packages. You can initially check the univariate normality for each combination of the independent and dependent variables. If this test does not pass (significant p value), it may be possible that multivariate normality is violated.\n",
    "\n",
    "Note: As per Multivariate Central Limit Theorem, if the sample size is large (say n > 20) for each combination of the independent and dependent variable, we can assume the assumptions of multivariate normality."
   ]
  },
  {
   "cell_type": "code",
   "execution_count": null,
   "id": "904e682a",
   "metadata": {},
   "outputs": [],
   "source": [
    "library(rstatix)\n",
    "df %>% group_by(plant_var) %>%  shapiro_test(height, canopy_vol)"
   ]
  },
  {
   "cell_type": "markdown",
   "id": "2c7e8f2f",
   "metadata": {},
   "source": [
    "As the p value is non-significant (p > 0.05) for each combination of independent and dependent variable, we fail to reject the null hypothesis and conclude that data follows univariate normality.\n",
    "\n",
    "If the sample size is large (say n > 50), the visual approaches such as QQ-plot and histogram will be better for assessing the normality assumption. Read more here\n",
    "\n",
    "Now, let’s check for multivariate normality using Mardia’s Skewness and Kurtosis test,"
   ]
  },
  {
   "cell_type": "code",
   "execution_count": null,
   "id": "fec90c10",
   "metadata": {},
   "outputs": [],
   "source": [
    "library(mvnormalTest)\n",
    "mardia(df[, c(\"height\", \"canopy_vol\")])$mv.test"
   ]
  },
  {
   "cell_type": "markdown",
   "id": "9a33bd3c",
   "metadata": {},
   "source": [
    "As the p value is non-significant (p > 0.05) for Mardia’s Skewness and Kurtosis test, we fail to reject the null hypothesis and conclude that data follows multivariate normality.\n",
    "\n",
    "Here both Skewness and Kurtosis p value should be > 0.05 for concluding the multivariate normality.\n",
    "\n",
    "Homogeneity of the variance-covariance matricesPermalink\n",
    "We will use Box’s M test to assess the homogeneity of the variance-covariance matrices. Null hypothesis: variance-covariance matrices are equal for each combination formed by each group in the independent variable"
   ]
  },
  {
   "cell_type": "code",
   "execution_count": null,
   "id": "b03d4ce7",
   "metadata": {},
   "outputs": [],
   "source": [
    "library(heplots)\n",
    "boxM(Y = df[, c(\"height\", \"canopy_vol\")], group = df$plant_var)\n",
    "# output\n",
    "\tBox M-test for Homogeneity of Covariance Matrices\n",
    "\n",
    "data:  df[, c(\"height\", \"canopy_vol\")]\n",
    "Chi-Sq (approx.) = 21.048, df = 9, p-value = 0.01244"
   ]
  },
  {
   "cell_type": "markdown",
   "id": "700c91c1",
   "metadata": {},
   "source": [
    "As the p value is non-significant (p > 0.001) for Box’s M test, we fail to reject the null hypothesis and conclude that variance-covariance matrices are equal for each combination of dependent variable formed by each group in independent variable.\n",
    "\n",
    "If this assumption fails, it would be good to check the homogeneity of variance assumption using Bartlett’s or Levene’s test to identify which variable fails in equal variance.\n",
    "\n",
    "Multivariate outliersPermalink\n",
    "MANOVA is highly sensitive to outliers and may produce type I or II errors. Multivariate outliers can be detected using the Mahalanobis Distance test. The larger the Mahalanobis Distance, the more likely it is an outlier."
   ]
  },
  {
   "cell_type": "code",
   "execution_count": null,
   "id": "f47adca8",
   "metadata": {},
   "outputs": [],
   "source": [
    "library(rstatix)\n",
    "# get distance\n"
   ]
  },
  {
   "cell_type": "markdown",
   "id": "f76bdb6e",
   "metadata": {},
   "source": [
    "From the results, there is no multivariate outliers (all is.outlier = FALSE or p > 0.001) in the dataset. If is.outlier = TRUE, it means there is multivariate outlier in the dataset.\n",
    "\n",
    "Linearity assumptionPermalink\n",
    "Linearity assumption can be checked by visualizing the pairwise scatterplot for the dependent variable for each group. The data points should lie on the straight line to meet the linearity assumption. The violation of the linearity assumption reduces the statistical power."
   ]
  },
  {
   "cell_type": "code",
   "execution_count": null,
   "id": "cbeb9ad6",
   "metadata": {},
   "outputs": [],
   "source": [
    "library(gridExtra)\n",
    "p1 <- df  %>% group_by(plant_var) %>% filter(plant_var == \"A\") %>% ggplot(aes(x = height, y = canopy_vol)) + geom_point() + ggtitle(\"Variety: A\")\n",
    "p2 <- df  %>% group_by(plant_var) %>% filter(plant_var == \"B\") %>% ggplot(aes(x = height, y = canopy_vol)) + geom_point() + ggtitle(\"Variety: B\") \n",
    "p3 <- df  %>% group_by(plant_var) %>% filter(plant_var == \"C\") %>% ggplot(aes(x = height, y = canopy_vol)) + geom_point() + ggtitle(\"Variety: C\") \n",
    "p4 <- df  %>% group_by(plant_var) %>% filter(plant_var == \"D\") %>% ggplot(aes(x = height, y = canopy_vol)) + geom_point() + ggtitle(\"Variety: D\") \n",
    "grid.arrange(p1, p2, p3, p4, ncol=2)"
   ]
  },
  {
   "cell_type": "markdown",
   "id": "edc9b27c",
   "metadata": {},
   "source": [
    "The scatterplot indicates that dependent variables have a linear relationship for each group in the independent variable"
   ]
  },
  {
   "cell_type": "markdown",
   "id": "f5be1ea1",
   "metadata": {},
   "source": [
    "Multicollinearity assumptionPermalink\n",
    "Multicollinearity can be checked by correlation between the dependent variable. If you have more than two dependent variable you can use correlation matrix or variance inflation factor to assess the multicollinearity.\n",
    "\n",
    "The correlation between the dependent variable should not be> 0.9 or too low. If the correlation is too low, you can perform separate univariate ANOVA for each dependent variable."
   ]
  },
  {
   "cell_type": "code",
   "execution_count": null,
   "id": "5f497d92",
   "metadata": {},
   "outputs": [],
   "source": [
    "cor.test(x = df$height, y = df$canopy_vol, method = \"pearson\")$estimate"
   ]
  },
  {
   "cell_type": "markdown",
   "id": "05850f12",
   "metadata": {},
   "source": [
    "As the correlation coefficient between the dependent variable is < 0.9, there is no multicollinearity."
   ]
  },
  {
   "cell_type": "code",
   "execution_count": null,
   "id": "a5387fb1",
   "metadata": {},
   "outputs": [],
   "source": []
  }
 ],
 "metadata": {
  "kernelspec": {
   "display_name": "R",
   "language": "R",
   "name": "ir"
  },
  "language_info": {
   "codemirror_mode": "r",
   "file_extension": ".r",
   "mimetype": "text/x-r-source",
   "name": "R",
   "pygments_lexer": "r",
   "version": "4.1.3"
  }
 },
 "nbformat": 4,
 "nbformat_minor": 5
}
